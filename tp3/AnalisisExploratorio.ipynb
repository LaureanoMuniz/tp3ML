{
 "cells": [
  {
   "cell_type": "code",
   "execution_count": 109,
   "id": "5ce18407",
   "metadata": {},
   "outputs": [],
   "source": [
    "import pandas as pd\n",
    "import seaborn as sns\n",
    "import numpy as np "
   ]
  },
  {
   "cell_type": "markdown",
   "id": "0eaf6135-f88a-4572-b82a-51cc5e36b86c",
   "metadata": {},
   "source": [
    "# Levantamos el dataset"
   ]
  },
  {
   "cell_type": "markdown",
   "id": "2fe3bdaa-9ae2-4300-b074-329b699221bc",
   "metadata": {},
   "source": [
    "This dataset provides a list of lyrics from 1950 to 2019 describing music metadata as sadness, danceability, loudness, acousticness, etc. We also provide some informations as lyrics which can be used to natural language processing."
   ]
  },
  {
   "cell_type": "code",
   "execution_count": 66,
   "id": "a7ed5bfb",
   "metadata": {},
   "outputs": [],
   "source": [
    "music_df = pd.read_csv('tcc_ceds_music.csv', index_col=\"Unnamed: 0\") # Todas las canciones tienen Unnamed y es único."
   ]
  },
  {
   "cell_type": "code",
   "execution_count": 106,
   "id": "c13e3bc1-8aa8-471b-8d35-04ebe29058d8",
   "metadata": {},
   "outputs": [
    {
     "data": {
      "text/plain": [
       "(28372, 30)"
      ]
     },
     "execution_count": 106,
     "metadata": {},
     "output_type": "execute_result"
    }
   ],
   "source": [
    "music_df.shape"
   ]
  },
  {
   "cell_type": "code",
   "execution_count": 67,
   "id": "b46b7ec5",
   "metadata": {},
   "outputs": [
    {
     "data": {
      "text/html": [
       "<div>\n",
       "<style scoped>\n",
       "    .dataframe tbody tr th:only-of-type {\n",
       "        vertical-align: middle;\n",
       "    }\n",
       "\n",
       "    .dataframe tbody tr th {\n",
       "        vertical-align: top;\n",
       "    }\n",
       "\n",
       "    .dataframe thead th {\n",
       "        text-align: right;\n",
       "    }\n",
       "</style>\n",
       "<table border=\"1\" class=\"dataframe\">\n",
       "  <thead>\n",
       "    <tr style=\"text-align: right;\">\n",
       "      <th></th>\n",
       "      <th>artist_name</th>\n",
       "      <th>track_name</th>\n",
       "      <th>release_date</th>\n",
       "      <th>genre</th>\n",
       "      <th>lyrics</th>\n",
       "      <th>len</th>\n",
       "      <th>dating</th>\n",
       "      <th>violence</th>\n",
       "      <th>world/life</th>\n",
       "      <th>night/time</th>\n",
       "      <th>...</th>\n",
       "      <th>sadness</th>\n",
       "      <th>feelings</th>\n",
       "      <th>danceability</th>\n",
       "      <th>loudness</th>\n",
       "      <th>acousticness</th>\n",
       "      <th>instrumentalness</th>\n",
       "      <th>valence</th>\n",
       "      <th>energy</th>\n",
       "      <th>topic</th>\n",
       "      <th>age</th>\n",
       "    </tr>\n",
       "  </thead>\n",
       "  <tbody>\n",
       "    <tr>\n",
       "      <th>0</th>\n",
       "      <td>mukesh</td>\n",
       "      <td>mohabbat bhi jhoothi</td>\n",
       "      <td>1950</td>\n",
       "      <td>pop</td>\n",
       "      <td>hold time feel break feel untrue convince spea...</td>\n",
       "      <td>95</td>\n",
       "      <td>0.000598</td>\n",
       "      <td>0.063746</td>\n",
       "      <td>0.000598</td>\n",
       "      <td>0.000598</td>\n",
       "      <td>...</td>\n",
       "      <td>0.380299</td>\n",
       "      <td>0.117175</td>\n",
       "      <td>0.357739</td>\n",
       "      <td>0.454119</td>\n",
       "      <td>0.997992</td>\n",
       "      <td>0.901822</td>\n",
       "      <td>0.339448</td>\n",
       "      <td>0.137110</td>\n",
       "      <td>sadness</td>\n",
       "      <td>1.0</td>\n",
       "    </tr>\n",
       "    <tr>\n",
       "      <th>4</th>\n",
       "      <td>frankie laine</td>\n",
       "      <td>i believe</td>\n",
       "      <td>1950</td>\n",
       "      <td>pop</td>\n",
       "      <td>believe drop rain fall grow believe darkest ni...</td>\n",
       "      <td>51</td>\n",
       "      <td>0.035537</td>\n",
       "      <td>0.096777</td>\n",
       "      <td>0.443435</td>\n",
       "      <td>0.001284</td>\n",
       "      <td>...</td>\n",
       "      <td>0.001284</td>\n",
       "      <td>0.001284</td>\n",
       "      <td>0.331745</td>\n",
       "      <td>0.647540</td>\n",
       "      <td>0.954819</td>\n",
       "      <td>0.000002</td>\n",
       "      <td>0.325021</td>\n",
       "      <td>0.263240</td>\n",
       "      <td>world/life</td>\n",
       "      <td>1.0</td>\n",
       "    </tr>\n",
       "    <tr>\n",
       "      <th>6</th>\n",
       "      <td>johnnie ray</td>\n",
       "      <td>cry</td>\n",
       "      <td>1950</td>\n",
       "      <td>pop</td>\n",
       "      <td>sweetheart send letter goodbye secret feel bet...</td>\n",
       "      <td>24</td>\n",
       "      <td>0.002770</td>\n",
       "      <td>0.002770</td>\n",
       "      <td>0.002770</td>\n",
       "      <td>0.002770</td>\n",
       "      <td>...</td>\n",
       "      <td>0.002770</td>\n",
       "      <td>0.225422</td>\n",
       "      <td>0.456298</td>\n",
       "      <td>0.585288</td>\n",
       "      <td>0.840361</td>\n",
       "      <td>0.000000</td>\n",
       "      <td>0.351814</td>\n",
       "      <td>0.139112</td>\n",
       "      <td>music</td>\n",
       "      <td>1.0</td>\n",
       "    </tr>\n",
       "    <tr>\n",
       "      <th>10</th>\n",
       "      <td>pérez prado</td>\n",
       "      <td>patricia</td>\n",
       "      <td>1950</td>\n",
       "      <td>pop</td>\n",
       "      <td>kiss lips want stroll charm mambo chacha merin...</td>\n",
       "      <td>54</td>\n",
       "      <td>0.048249</td>\n",
       "      <td>0.001548</td>\n",
       "      <td>0.001548</td>\n",
       "      <td>0.001548</td>\n",
       "      <td>...</td>\n",
       "      <td>0.225889</td>\n",
       "      <td>0.001548</td>\n",
       "      <td>0.686992</td>\n",
       "      <td>0.744404</td>\n",
       "      <td>0.083935</td>\n",
       "      <td>0.199393</td>\n",
       "      <td>0.775350</td>\n",
       "      <td>0.743736</td>\n",
       "      <td>romantic</td>\n",
       "      <td>1.0</td>\n",
       "    </tr>\n",
       "    <tr>\n",
       "      <th>12</th>\n",
       "      <td>giorgos papadopoulos</td>\n",
       "      <td>apopse eida oneiro</td>\n",
       "      <td>1950</td>\n",
       "      <td>pop</td>\n",
       "      <td>till darling till matter know till dream live ...</td>\n",
       "      <td>48</td>\n",
       "      <td>0.001350</td>\n",
       "      <td>0.001350</td>\n",
       "      <td>0.417772</td>\n",
       "      <td>0.001350</td>\n",
       "      <td>...</td>\n",
       "      <td>0.068800</td>\n",
       "      <td>0.001350</td>\n",
       "      <td>0.291671</td>\n",
       "      <td>0.646489</td>\n",
       "      <td>0.975904</td>\n",
       "      <td>0.000246</td>\n",
       "      <td>0.597073</td>\n",
       "      <td>0.394375</td>\n",
       "      <td>romantic</td>\n",
       "      <td>1.0</td>\n",
       "    </tr>\n",
       "  </tbody>\n",
       "</table>\n",
       "<p>5 rows × 30 columns</p>\n",
       "</div>"
      ],
      "text/plain": [
       "             artist_name            track_name  release_date genre  \\\n",
       "0                 mukesh  mohabbat bhi jhoothi          1950   pop   \n",
       "4          frankie laine             i believe          1950   pop   \n",
       "6            johnnie ray                   cry          1950   pop   \n",
       "10           pérez prado              patricia          1950   pop   \n",
       "12  giorgos papadopoulos    apopse eida oneiro          1950   pop   \n",
       "\n",
       "                                               lyrics  len    dating  \\\n",
       "0   hold time feel break feel untrue convince spea...   95  0.000598   \n",
       "4   believe drop rain fall grow believe darkest ni...   51  0.035537   \n",
       "6   sweetheart send letter goodbye secret feel bet...   24  0.002770   \n",
       "10  kiss lips want stroll charm mambo chacha merin...   54  0.048249   \n",
       "12  till darling till matter know till dream live ...   48  0.001350   \n",
       "\n",
       "    violence  world/life  night/time  ...   sadness  feelings  danceability  \\\n",
       "0   0.063746    0.000598    0.000598  ...  0.380299  0.117175      0.357739   \n",
       "4   0.096777    0.443435    0.001284  ...  0.001284  0.001284      0.331745   \n",
       "6   0.002770    0.002770    0.002770  ...  0.002770  0.225422      0.456298   \n",
       "10  0.001548    0.001548    0.001548  ...  0.225889  0.001548      0.686992   \n",
       "12  0.001350    0.417772    0.001350  ...  0.068800  0.001350      0.291671   \n",
       "\n",
       "    loudness  acousticness  instrumentalness   valence    energy       topic  \\\n",
       "0   0.454119      0.997992          0.901822  0.339448  0.137110     sadness   \n",
       "4   0.647540      0.954819          0.000002  0.325021  0.263240  world/life   \n",
       "6   0.585288      0.840361          0.000000  0.351814  0.139112       music   \n",
       "10  0.744404      0.083935          0.199393  0.775350  0.743736    romantic   \n",
       "12  0.646489      0.975904          0.000246  0.597073  0.394375    romantic   \n",
       "\n",
       "    age  \n",
       "0   1.0  \n",
       "4   1.0  \n",
       "6   1.0  \n",
       "10  1.0  \n",
       "12  1.0  \n",
       "\n",
       "[5 rows x 30 columns]"
      ]
     },
     "execution_count": 67,
     "metadata": {},
     "output_type": "execute_result"
    }
   ],
   "source": [
    "music_df.head()"
   ]
  },
  {
   "cell_type": "code",
   "execution_count": 73,
   "id": "75f3ecab-256a-4155-8184-dc4d96d9b4e9",
   "metadata": {},
   "outputs": [
    {
     "data": {
      "text/html": [
       "<div>\n",
       "<style scoped>\n",
       "    .dataframe tbody tr th:only-of-type {\n",
       "        vertical-align: middle;\n",
       "    }\n",
       "\n",
       "    .dataframe tbody tr th {\n",
       "        vertical-align: top;\n",
       "    }\n",
       "\n",
       "    .dataframe thead th {\n",
       "        text-align: right;\n",
       "    }\n",
       "</style>\n",
       "<table border=\"1\" class=\"dataframe\">\n",
       "  <thead>\n",
       "    <tr style=\"text-align: right;\">\n",
       "      <th></th>\n",
       "      <th>artist_name</th>\n",
       "      <th>track_name</th>\n",
       "      <th>release_date</th>\n",
       "      <th>genre</th>\n",
       "      <th>lyrics</th>\n",
       "      <th>words</th>\n",
       "      <th>dating</th>\n",
       "      <th>violence</th>\n",
       "      <th>world/life</th>\n",
       "      <th>night/time</th>\n",
       "      <th>...</th>\n",
       "      <th>sadness</th>\n",
       "      <th>feelings</th>\n",
       "      <th>danceability</th>\n",
       "      <th>loudness</th>\n",
       "      <th>acousticness</th>\n",
       "      <th>instrumentalness</th>\n",
       "      <th>valence</th>\n",
       "      <th>energy</th>\n",
       "      <th>topic</th>\n",
       "      <th>age</th>\n",
       "    </tr>\n",
       "  </thead>\n",
       "  <tbody>\n",
       "    <tr>\n",
       "      <th>82447</th>\n",
       "      <td>mack 10</td>\n",
       "      <td>10 million ways</td>\n",
       "      <td>2019</td>\n",
       "      <td>hip hop</td>\n",
       "      <td>cause fuck leave scar tick tock clock come kno...</td>\n",
       "      <td>78</td>\n",
       "      <td>0.001350</td>\n",
       "      <td>0.001350</td>\n",
       "      <td>0.001350</td>\n",
       "      <td>0.001350</td>\n",
       "      <td>...</td>\n",
       "      <td>0.065664</td>\n",
       "      <td>0.001350</td>\n",
       "      <td>0.889527</td>\n",
       "      <td>0.759711</td>\n",
       "      <td>0.062549</td>\n",
       "      <td>0.000000</td>\n",
       "      <td>0.751649</td>\n",
       "      <td>0.695686</td>\n",
       "      <td>obscene</td>\n",
       "      <td>0.014286</td>\n",
       "    </tr>\n",
       "    <tr>\n",
       "      <th>82448</th>\n",
       "      <td>m.o.p.</td>\n",
       "      <td>ante up (robbin hoodz theory)</td>\n",
       "      <td>2019</td>\n",
       "      <td>hip hop</td>\n",
       "      <td>minks things chain ring braclets yap fame come...</td>\n",
       "      <td>67</td>\n",
       "      <td>0.001284</td>\n",
       "      <td>0.001284</td>\n",
       "      <td>0.035338</td>\n",
       "      <td>0.001284</td>\n",
       "      <td>...</td>\n",
       "      <td>0.001284</td>\n",
       "      <td>0.001284</td>\n",
       "      <td>0.662082</td>\n",
       "      <td>0.789580</td>\n",
       "      <td>0.004607</td>\n",
       "      <td>0.000002</td>\n",
       "      <td>0.922712</td>\n",
       "      <td>0.797791</td>\n",
       "      <td>obscene</td>\n",
       "      <td>0.014286</td>\n",
       "    </tr>\n",
       "    <tr>\n",
       "      <th>82449</th>\n",
       "      <td>nine</td>\n",
       "      <td>whutcha want?</td>\n",
       "      <td>2019</td>\n",
       "      <td>hip hop</td>\n",
       "      <td>get ban get ban stick crack relax plan attack ...</td>\n",
       "      <td>77</td>\n",
       "      <td>0.001504</td>\n",
       "      <td>0.154302</td>\n",
       "      <td>0.168988</td>\n",
       "      <td>0.001504</td>\n",
       "      <td>...</td>\n",
       "      <td>0.001504</td>\n",
       "      <td>0.001504</td>\n",
       "      <td>0.663165</td>\n",
       "      <td>0.726970</td>\n",
       "      <td>0.104417</td>\n",
       "      <td>0.000001</td>\n",
       "      <td>0.838211</td>\n",
       "      <td>0.767761</td>\n",
       "      <td>obscene</td>\n",
       "      <td>0.014286</td>\n",
       "    </tr>\n",
       "    <tr>\n",
       "      <th>82450</th>\n",
       "      <td>will smith</td>\n",
       "      <td>switch</td>\n",
       "      <td>2019</td>\n",
       "      <td>hip hop</td>\n",
       "      <td>check check yeah yeah hear thing call switch g...</td>\n",
       "      <td>67</td>\n",
       "      <td>0.001196</td>\n",
       "      <td>0.001196</td>\n",
       "      <td>0.001196</td>\n",
       "      <td>0.001196</td>\n",
       "      <td>...</td>\n",
       "      <td>0.001196</td>\n",
       "      <td>0.001196</td>\n",
       "      <td>0.883028</td>\n",
       "      <td>0.786888</td>\n",
       "      <td>0.007027</td>\n",
       "      <td>0.000503</td>\n",
       "      <td>0.508450</td>\n",
       "      <td>0.885882</td>\n",
       "      <td>obscene</td>\n",
       "      <td>0.014286</td>\n",
       "    </tr>\n",
       "    <tr>\n",
       "      <th>82451</th>\n",
       "      <td>jeezy</td>\n",
       "      <td>r.i.p.</td>\n",
       "      <td>2019</td>\n",
       "      <td>hip hop</td>\n",
       "      <td>remix killer alive remix thriller trap bitch s...</td>\n",
       "      <td>83</td>\n",
       "      <td>0.001012</td>\n",
       "      <td>0.075202</td>\n",
       "      <td>0.001012</td>\n",
       "      <td>0.001012</td>\n",
       "      <td>...</td>\n",
       "      <td>0.001012</td>\n",
       "      <td>0.033995</td>\n",
       "      <td>0.828875</td>\n",
       "      <td>0.674794</td>\n",
       "      <td>0.015862</td>\n",
       "      <td>0.000000</td>\n",
       "      <td>0.475474</td>\n",
       "      <td>0.492477</td>\n",
       "      <td>obscene</td>\n",
       "      <td>0.014286</td>\n",
       "    </tr>\n",
       "  </tbody>\n",
       "</table>\n",
       "<p>5 rows × 30 columns</p>\n",
       "</div>"
      ],
      "text/plain": [
       "      artist_name                     track_name  release_date    genre  \\\n",
       "82447     mack 10                10 million ways          2019  hip hop   \n",
       "82448      m.o.p.  ante up (robbin hoodz theory)          2019  hip hop   \n",
       "82449        nine                  whutcha want?          2019  hip hop   \n",
       "82450  will smith                         switch          2019  hip hop   \n",
       "82451       jeezy                         r.i.p.          2019  hip hop   \n",
       "\n",
       "                                                  lyrics  words    dating  \\\n",
       "82447  cause fuck leave scar tick tock clock come kno...     78  0.001350   \n",
       "82448  minks things chain ring braclets yap fame come...     67  0.001284   \n",
       "82449  get ban get ban stick crack relax plan attack ...     77  0.001504   \n",
       "82450  check check yeah yeah hear thing call switch g...     67  0.001196   \n",
       "82451  remix killer alive remix thriller trap bitch s...     83  0.001012   \n",
       "\n",
       "       violence  world/life  night/time  ...   sadness  feelings  \\\n",
       "82447  0.001350    0.001350    0.001350  ...  0.065664  0.001350   \n",
       "82448  0.001284    0.035338    0.001284  ...  0.001284  0.001284   \n",
       "82449  0.154302    0.168988    0.001504  ...  0.001504  0.001504   \n",
       "82450  0.001196    0.001196    0.001196  ...  0.001196  0.001196   \n",
       "82451  0.075202    0.001012    0.001012  ...  0.001012  0.033995   \n",
       "\n",
       "       danceability  loudness  acousticness  instrumentalness   valence  \\\n",
       "82447      0.889527  0.759711      0.062549          0.000000  0.751649   \n",
       "82448      0.662082  0.789580      0.004607          0.000002  0.922712   \n",
       "82449      0.663165  0.726970      0.104417          0.000001  0.838211   \n",
       "82450      0.883028  0.786888      0.007027          0.000503  0.508450   \n",
       "82451      0.828875  0.674794      0.015862          0.000000  0.475474   \n",
       "\n",
       "         energy    topic       age  \n",
       "82447  0.695686  obscene  0.014286  \n",
       "82448  0.797791  obscene  0.014286  \n",
       "82449  0.767761  obscene  0.014286  \n",
       "82450  0.885882  obscene  0.014286  \n",
       "82451  0.492477  obscene  0.014286  \n",
       "\n",
       "[5 rows x 30 columns]"
      ]
     },
     "execution_count": 73,
     "metadata": {},
     "output_type": "execute_result"
    }
   ],
   "source": [
    "music_df.tail()"
   ]
  },
  {
   "cell_type": "markdown",
   "id": "186b9f85-a133-4932-915e-73da28ba1d0c",
   "metadata": {},
   "source": [
    "The main information retained was the artist name, track name, release date, genre and track id. The track id is a unique id for each searched track. We used the ’track id’ as input to the spotipy’s audio features tool and we kept only some of these features. The selected features were:\n",
    "* **Acousticness**: Presence of acoustic instruments;\n",
    "* **Danceability**: how suitable a track is for dancing based on a combination of musical elements including tempo, rhythm stability, beat strength, and overall regularity;\n",
    "* **Loudness**: The average loudness in decibels (dB) across the entire track;\n",
    "* **Instrumentalness**: A high value describes whether a track contains fewer vocals;\n",
    "* **Valence**: High (low) values means that the track is more happy, euphoric (sad,\n",
    "angry);\n",
    "* **Energy**: Measures intensity and activity of music. Energetic tracks will be fast, loud and noisy.\n",
    "\n",
    "These features were scaled between 0 and 1."
   ]
  },
  {
   "cell_type": "markdown",
   "id": "e0ce63d4-1b93-4f94-b7b6-8eedde5eff4b",
   "metadata": {},
   "source": [
    "https://developer.spotify.com/documentation/web-api/reference/#/operations/get-audio-features"
   ]
  },
  {
   "cell_type": "markdown",
   "id": "c4ec78b1-e6bc-4540-b139-c5b330544c19",
   "metadata": {},
   "source": [
    "## Features"
   ]
  },
  {
   "cell_type": "code",
   "execution_count": 68,
   "id": "ed2901a5",
   "metadata": {},
   "outputs": [
    {
     "data": {
      "text/plain": [
       "['artist_name',\n",
       " 'track_name',\n",
       " 'release_date',\n",
       " 'genre',\n",
       " 'lyrics',\n",
       " 'len',\n",
       " 'dating',\n",
       " 'violence',\n",
       " 'world/life',\n",
       " 'night/time',\n",
       " 'shake the audience',\n",
       " 'family/gospel',\n",
       " 'romantic',\n",
       " 'communication',\n",
       " 'obscene',\n",
       " 'music',\n",
       " 'movement/places',\n",
       " 'light/visual perceptions',\n",
       " 'family/spiritual',\n",
       " 'like/girls',\n",
       " 'sadness',\n",
       " 'feelings',\n",
       " 'danceability',\n",
       " 'loudness',\n",
       " 'acousticness',\n",
       " 'instrumentalness',\n",
       " 'valence',\n",
       " 'energy',\n",
       " 'topic',\n",
       " 'age']"
      ]
     },
     "execution_count": 68,
     "metadata": {},
     "output_type": "execute_result"
    }
   ],
   "source": [
    "music_df.columns.tolist()"
   ]
  },
  {
   "cell_type": "markdown",
   "id": "32e0fee2",
   "metadata": {},
   "source": [
    "* age es un numero entre 0 y 1 que mide lo viejo que es\n",
    "* len es la cantidad de palabras\n",
    "* hay una variable categorica topic\n",
    "* al parecer no hay data de la duración de las canciones. Se puede recuperar seguro. Hace falta?"
   ]
  },
  {
   "cell_type": "code",
   "execution_count": 69,
   "id": "49705385",
   "metadata": {},
   "outputs": [],
   "source": [
    "music_df = music_df.rename(columns={'len': 'words'}) # es la cantidad de palabras"
   ]
  },
  {
   "cell_type": "code",
   "execution_count": 70,
   "id": "6b48cd7c",
   "metadata": {},
   "outputs": [
    {
     "data": {
      "text/html": [
       "<div>\n",
       "<style scoped>\n",
       "    .dataframe tbody tr th:only-of-type {\n",
       "        vertical-align: middle;\n",
       "    }\n",
       "\n",
       "    .dataframe tbody tr th {\n",
       "        vertical-align: top;\n",
       "    }\n",
       "\n",
       "    .dataframe thead th {\n",
       "        text-align: right;\n",
       "    }\n",
       "</style>\n",
       "<table border=\"1\" class=\"dataframe\">\n",
       "  <thead>\n",
       "    <tr style=\"text-align: right;\">\n",
       "      <th></th>\n",
       "      <th>release_date</th>\n",
       "      <th>words</th>\n",
       "      <th>dating</th>\n",
       "      <th>violence</th>\n",
       "      <th>world/life</th>\n",
       "      <th>night/time</th>\n",
       "      <th>shake the audience</th>\n",
       "      <th>family/gospel</th>\n",
       "      <th>romantic</th>\n",
       "      <th>communication</th>\n",
       "      <th>...</th>\n",
       "      <th>like/girls</th>\n",
       "      <th>sadness</th>\n",
       "      <th>feelings</th>\n",
       "      <th>danceability</th>\n",
       "      <th>loudness</th>\n",
       "      <th>acousticness</th>\n",
       "      <th>instrumentalness</th>\n",
       "      <th>valence</th>\n",
       "      <th>energy</th>\n",
       "      <th>age</th>\n",
       "    </tr>\n",
       "  </thead>\n",
       "  <tbody>\n",
       "    <tr>\n",
       "      <th>count</th>\n",
       "      <td>28372.000000</td>\n",
       "      <td>28372.000000</td>\n",
       "      <td>28372.000000</td>\n",
       "      <td>28372.000000</td>\n",
       "      <td>28372.000000</td>\n",
       "      <td>28372.000000</td>\n",
       "      <td>28372.000000</td>\n",
       "      <td>28372.000000</td>\n",
       "      <td>28372.000000</td>\n",
       "      <td>28372.000000</td>\n",
       "      <td>...</td>\n",
       "      <td>28372.000000</td>\n",
       "      <td>28372.000000</td>\n",
       "      <td>28372.000000</td>\n",
       "      <td>28372.000000</td>\n",
       "      <td>28372.000000</td>\n",
       "      <td>2.837200e+04</td>\n",
       "      <td>28372.000000</td>\n",
       "      <td>28372.000000</td>\n",
       "      <td>28372.000000</td>\n",
       "      <td>28372.000000</td>\n",
       "    </tr>\n",
       "    <tr>\n",
       "      <th>mean</th>\n",
       "      <td>1990.236888</td>\n",
       "      <td>73.028444</td>\n",
       "      <td>0.021112</td>\n",
       "      <td>0.118396</td>\n",
       "      <td>0.120973</td>\n",
       "      <td>0.057387</td>\n",
       "      <td>0.017422</td>\n",
       "      <td>0.017045</td>\n",
       "      <td>0.048681</td>\n",
       "      <td>0.076680</td>\n",
       "      <td>...</td>\n",
       "      <td>0.028057</td>\n",
       "      <td>0.129389</td>\n",
       "      <td>0.030996</td>\n",
       "      <td>0.533348</td>\n",
       "      <td>0.665249</td>\n",
       "      <td>3.392347e-01</td>\n",
       "      <td>0.080049</td>\n",
       "      <td>0.532864</td>\n",
       "      <td>0.569875</td>\n",
       "      <td>0.425187</td>\n",
       "    </tr>\n",
       "    <tr>\n",
       "      <th>std</th>\n",
       "      <td>18.487463</td>\n",
       "      <td>41.829831</td>\n",
       "      <td>0.052370</td>\n",
       "      <td>0.178684</td>\n",
       "      <td>0.172200</td>\n",
       "      <td>0.111923</td>\n",
       "      <td>0.040670</td>\n",
       "      <td>0.041966</td>\n",
       "      <td>0.106095</td>\n",
       "      <td>0.109538</td>\n",
       "      <td>...</td>\n",
       "      <td>0.058473</td>\n",
       "      <td>0.181143</td>\n",
       "      <td>0.071652</td>\n",
       "      <td>0.173218</td>\n",
       "      <td>0.108434</td>\n",
       "      <td>3.267143e-01</td>\n",
       "      <td>0.211245</td>\n",
       "      <td>0.250972</td>\n",
       "      <td>0.244385</td>\n",
       "      <td>0.264107</td>\n",
       "    </tr>\n",
       "    <tr>\n",
       "      <th>min</th>\n",
       "      <td>1950.000000</td>\n",
       "      <td>1.000000</td>\n",
       "      <td>0.000291</td>\n",
       "      <td>0.000284</td>\n",
       "      <td>0.000291</td>\n",
       "      <td>0.000289</td>\n",
       "      <td>0.000284</td>\n",
       "      <td>0.000289</td>\n",
       "      <td>0.000284</td>\n",
       "      <td>0.000291</td>\n",
       "      <td>...</td>\n",
       "      <td>0.000284</td>\n",
       "      <td>0.000284</td>\n",
       "      <td>0.000289</td>\n",
       "      <td>0.005415</td>\n",
       "      <td>0.000000</td>\n",
       "      <td>2.811248e-07</td>\n",
       "      <td>0.000000</td>\n",
       "      <td>0.000000</td>\n",
       "      <td>0.000000</td>\n",
       "      <td>0.014286</td>\n",
       "    </tr>\n",
       "    <tr>\n",
       "      <th>25%</th>\n",
       "      <td>1975.000000</td>\n",
       "      <td>42.000000</td>\n",
       "      <td>0.000923</td>\n",
       "      <td>0.001120</td>\n",
       "      <td>0.001170</td>\n",
       "      <td>0.001032</td>\n",
       "      <td>0.000993</td>\n",
       "      <td>0.000923</td>\n",
       "      <td>0.000975</td>\n",
       "      <td>0.001144</td>\n",
       "      <td>...</td>\n",
       "      <td>0.000975</td>\n",
       "      <td>0.001144</td>\n",
       "      <td>0.000993</td>\n",
       "      <td>0.412975</td>\n",
       "      <td>0.595364</td>\n",
       "      <td>3.423598e-02</td>\n",
       "      <td>0.000000</td>\n",
       "      <td>0.329143</td>\n",
       "      <td>0.380361</td>\n",
       "      <td>0.185714</td>\n",
       "    </tr>\n",
       "    <tr>\n",
       "      <th>50%</th>\n",
       "      <td>1991.000000</td>\n",
       "      <td>63.000000</td>\n",
       "      <td>0.001462</td>\n",
       "      <td>0.002506</td>\n",
       "      <td>0.006579</td>\n",
       "      <td>0.001949</td>\n",
       "      <td>0.001595</td>\n",
       "      <td>0.001504</td>\n",
       "      <td>0.001754</td>\n",
       "      <td>0.002632</td>\n",
       "      <td>...</td>\n",
       "      <td>0.001595</td>\n",
       "      <td>0.005263</td>\n",
       "      <td>0.001754</td>\n",
       "      <td>0.538612</td>\n",
       "      <td>0.679050</td>\n",
       "      <td>2.259028e-01</td>\n",
       "      <td>0.000085</td>\n",
       "      <td>0.539365</td>\n",
       "      <td>0.580567</td>\n",
       "      <td>0.414286</td>\n",
       "    </tr>\n",
       "    <tr>\n",
       "      <th>75%</th>\n",
       "      <td>2007.000000</td>\n",
       "      <td>93.000000</td>\n",
       "      <td>0.004049</td>\n",
       "      <td>0.192608</td>\n",
       "      <td>0.197793</td>\n",
       "      <td>0.065842</td>\n",
       "      <td>0.010002</td>\n",
       "      <td>0.004785</td>\n",
       "      <td>0.042301</td>\n",
       "      <td>0.132136</td>\n",
       "      <td>...</td>\n",
       "      <td>0.026622</td>\n",
       "      <td>0.235113</td>\n",
       "      <td>0.032622</td>\n",
       "      <td>0.656666</td>\n",
       "      <td>0.749026</td>\n",
       "      <td>6.325298e-01</td>\n",
       "      <td>0.009335</td>\n",
       "      <td>0.738252</td>\n",
       "      <td>0.772766</td>\n",
       "      <td>0.642857</td>\n",
       "    </tr>\n",
       "    <tr>\n",
       "      <th>max</th>\n",
       "      <td>2019.000000</td>\n",
       "      <td>199.000000</td>\n",
       "      <td>0.647706</td>\n",
       "      <td>0.981781</td>\n",
       "      <td>0.962105</td>\n",
       "      <td>0.973684</td>\n",
       "      <td>0.497463</td>\n",
       "      <td>0.545303</td>\n",
       "      <td>0.940789</td>\n",
       "      <td>0.645829</td>\n",
       "      <td>...</td>\n",
       "      <td>0.594459</td>\n",
       "      <td>0.981424</td>\n",
       "      <td>0.958810</td>\n",
       "      <td>0.993502</td>\n",
       "      <td>1.000000</td>\n",
       "      <td>1.000000e+00</td>\n",
       "      <td>0.996964</td>\n",
       "      <td>1.000000</td>\n",
       "      <td>1.000000</td>\n",
       "      <td>1.000000</td>\n",
       "    </tr>\n",
       "  </tbody>\n",
       "</table>\n",
       "<p>8 rows × 25 columns</p>\n",
       "</div>"
      ],
      "text/plain": [
       "       release_date         words        dating      violence    world/life  \\\n",
       "count  28372.000000  28372.000000  28372.000000  28372.000000  28372.000000   \n",
       "mean    1990.236888     73.028444      0.021112      0.118396      0.120973   \n",
       "std       18.487463     41.829831      0.052370      0.178684      0.172200   \n",
       "min     1950.000000      1.000000      0.000291      0.000284      0.000291   \n",
       "25%     1975.000000     42.000000      0.000923      0.001120      0.001170   \n",
       "50%     1991.000000     63.000000      0.001462      0.002506      0.006579   \n",
       "75%     2007.000000     93.000000      0.004049      0.192608      0.197793   \n",
       "max     2019.000000    199.000000      0.647706      0.981781      0.962105   \n",
       "\n",
       "         night/time  shake the audience  family/gospel      romantic  \\\n",
       "count  28372.000000        28372.000000   28372.000000  28372.000000   \n",
       "mean       0.057387            0.017422       0.017045      0.048681   \n",
       "std        0.111923            0.040670       0.041966      0.106095   \n",
       "min        0.000289            0.000284       0.000289      0.000284   \n",
       "25%        0.001032            0.000993       0.000923      0.000975   \n",
       "50%        0.001949            0.001595       0.001504      0.001754   \n",
       "75%        0.065842            0.010002       0.004785      0.042301   \n",
       "max        0.973684            0.497463       0.545303      0.940789   \n",
       "\n",
       "       communication  ...    like/girls       sadness      feelings  \\\n",
       "count   28372.000000  ...  28372.000000  28372.000000  28372.000000   \n",
       "mean        0.076680  ...      0.028057      0.129389      0.030996   \n",
       "std         0.109538  ...      0.058473      0.181143      0.071652   \n",
       "min         0.000291  ...      0.000284      0.000284      0.000289   \n",
       "25%         0.001144  ...      0.000975      0.001144      0.000993   \n",
       "50%         0.002632  ...      0.001595      0.005263      0.001754   \n",
       "75%         0.132136  ...      0.026622      0.235113      0.032622   \n",
       "max         0.645829  ...      0.594459      0.981424      0.958810   \n",
       "\n",
       "       danceability      loudness  acousticness  instrumentalness  \\\n",
       "count  28372.000000  28372.000000  2.837200e+04      28372.000000   \n",
       "mean       0.533348      0.665249  3.392347e-01          0.080049   \n",
       "std        0.173218      0.108434  3.267143e-01          0.211245   \n",
       "min        0.005415      0.000000  2.811248e-07          0.000000   \n",
       "25%        0.412975      0.595364  3.423598e-02          0.000000   \n",
       "50%        0.538612      0.679050  2.259028e-01          0.000085   \n",
       "75%        0.656666      0.749026  6.325298e-01          0.009335   \n",
       "max        0.993502      1.000000  1.000000e+00          0.996964   \n",
       "\n",
       "            valence        energy           age  \n",
       "count  28372.000000  28372.000000  28372.000000  \n",
       "mean       0.532864      0.569875      0.425187  \n",
       "std        0.250972      0.244385      0.264107  \n",
       "min        0.000000      0.000000      0.014286  \n",
       "25%        0.329143      0.380361      0.185714  \n",
       "50%        0.539365      0.580567      0.414286  \n",
       "75%        0.738252      0.772766      0.642857  \n",
       "max        1.000000      1.000000      1.000000  \n",
       "\n",
       "[8 rows x 25 columns]"
      ]
     },
     "execution_count": 70,
     "metadata": {},
     "output_type": "execute_result"
    }
   ],
   "source": [
    "music_df.describe()"
   ]
  },
  {
   "cell_type": "code",
   "execution_count": 71,
   "id": "790e2a9a-6f1b-4315-9e69-f1f3cd6a5512",
   "metadata": {},
   "outputs": [],
   "source": [
    "sns.set(style=\"darkgrid\")"
   ]
  },
  {
   "cell_type": "markdown",
   "id": "e722e2da-cb89-473f-92f6-d30c1ef4d442",
   "metadata": {},
   "source": [
    "### Genero"
   ]
  },
  {
   "cell_type": "code",
   "execution_count": 107,
   "id": "ee4f5014",
   "metadata": {},
   "outputs": [
    {
     "data": {
      "image/png": "[encoded data removed]",
      "text/plain": [
       "<Figure size 432x288 with 1 Axes>"
      ]
     },
     "metadata": {},
     "output_type": "display_data"
    }
   ],
   "source": [
    "music_df['genre'].value_counts().plot.bar();"
   ]
  },
  {
   "cell_type": "markdown",
   "id": "c8429d6f-d1da-4db4-8b89-b8a9a4a5021c",
   "metadata": {},
   "source": [
    "* Hay canciones con más de un genero?"
   ]
  },
  {
   "cell_type": "code",
   "execution_count": 24,
   "id": "8ce70cee",
   "metadata": {},
   "outputs": [
    {
     "data": {
      "text/plain": [
       "0"
      ]
     },
     "execution_count": 24,
     "metadata": {},
     "output_type": "execute_result"
    }
   ],
   "source": [
    "len(music_df[['artist_name', 'track_name']])-len(music_df[['artist_name', 'track_name']].drop_duplicates())"
   ]
  },
  {
   "cell_type": "markdown",
   "id": "070d2892-a1c9-47f7-ab3e-295629ac4d6e",
   "metadata": {},
   "source": [
    "Al parecer no."
   ]
  },
  {
   "cell_type": "code",
   "execution_count": 96,
   "id": "304cecf0-c6ea-4632-84c0-456786b9c169",
   "metadata": {},
   "outputs": [
    {
     "data": {
      "text/plain": [
       "<AxesSubplot: >"
      ]
     },
     "execution_count": 96,
     "metadata": {},
     "output_type": "execute_result"
    },
    {
     "data": {
      "image/png": "[encoded data removed]",
      "text/plain": [
       "<Figure size 432x288 with 1 Axes>"
      ]
     },
     "metadata": {},
     "output_type": "display_data"
    }
   ],
   "source": [
    "canciones_modernas = music_df[music_df[\"release_date\"] > 1980]\n",
    "canciones_modernas[\"genre\"].value_counts().plot.bar();"
   ]
  },
  {
   "cell_type": "markdown",
   "id": "b0dc61d7-779f-4b11-9746-e444deb567c9",
   "metadata": {},
   "source": [
    "### Words (Cantidad de Palabras)"
   ]
  },
  {
   "cell_type": "code",
   "execution_count": 90,
   "id": "7e082dd7",
   "metadata": {},
   "outputs": [
    {
     "data": {
      "image/png": "[encoded data removed]",
      "text/plain": [
       "<Figure size 432x288 with 1 Axes>"
      ]
     },
     "metadata": {},
     "output_type": "display_data"
    }
   ],
   "source": [
    "music_df['words'].hist();"
   ]
  },
  {
   "cell_type": "markdown",
   "id": "a63a161d-2b05-4749-87ee-93ddafbda39a",
   "metadata": {},
   "source": [
    "### Release Date"
   ]
  },
  {
   "cell_type": "code",
   "execution_count": 89,
   "id": "34cd60e7",
   "metadata": {},
   "outputs": [
    {
     "data": {
      "image/png": "[encoded data removed]",
      "text/plain": [
       "<Figure size 432x288 with 1 Axes>"
      ]
     },
     "metadata": {},
     "output_type": "display_data"
    }
   ],
   "source": [
    "music_df['release_date'].hist();"
   ]
  },
  {
   "cell_type": "markdown",
   "id": "7771edb1",
   "metadata": {},
   "source": [
    "Sacamos data muy vieja?"
   ]
  },
  {
   "cell_type": "code",
   "execution_count": 24,
   "id": "11c01bce-bd8b-435e-9c69-28823b9a97ca",
   "metadata": {},
   "outputs": [
    {
     "data": {
      "image/png": "[encoded data removed]",
      "text/plain": [
       "<Figure size 432x288 with 1 Axes>"
      ]
     },
     "metadata": {},
     "output_type": "display_data"
    }
   ],
   "source": [
    "sns.violinplot(data=music_df, x=\"release_date\");"
   ]
  },
  {
   "cell_type": "markdown",
   "id": "b38a0cdc-fdc7-433a-b568-182353eed3eb",
   "metadata": {},
   "source": [
    "### Artist_Name"
   ]
  },
  {
   "cell_type": "code",
   "execution_count": 76,
   "id": "45dceb36",
   "metadata": {},
   "outputs": [
    {
     "data": {
      "text/plain": [
       "johnny cash           190\n",
       "ella fitzgerald       188\n",
       "dean martin           146\n",
       "willie nelson         131\n",
       "george jones          107\n",
       "                     ... \n",
       "washed out              1\n",
       "turi                    1\n",
       "proof                   1\n",
       "david crowder band      1\n",
       "$uicideboy$             1\n",
       "Name: artist_name, Length: 5426, dtype: int64"
      ]
     },
     "execution_count": 76,
     "metadata": {},
     "output_type": "execute_result"
    }
   ],
   "source": [
    "artists = music_df[\"artist_name\"].value_counts().sort_values(ascending = False)\n",
    "artists"
   ]
  },
  {
   "cell_type": "code",
   "execution_count": 77,
   "id": "755442e6",
   "metadata": {},
   "outputs": [],
   "source": [
    "johnny_music = music_df[music_df[\"artist_name\"] == 'johnny cash']"
   ]
  },
  {
   "cell_type": "code",
   "execution_count": 78,
   "id": "cd980363",
   "metadata": {},
   "outputs": [
    {
     "data": {
      "text/plain": [
       "20344                          the little drummer boy\n",
       "20382                                 the loving gift\n",
       "20416                          tennessee flat top box\n",
       "20450                                  all over again\n",
       "20574    i was there when it happened (2017 remaster)\n",
       "                             ...                     \n",
       "35007                                   it's all over\n",
       "35071                               i came to believe\n",
       "35081                             a legend in my time\n",
       "36384                                  ain't no grave\n",
       "36465                                  redemption day\n",
       "Name: track_name, Length: 190, dtype: object"
      ]
     },
     "execution_count": 78,
     "metadata": {},
     "output_type": "execute_result"
    }
   ],
   "source": [
    "johnny_music['track_name'].drop_duplicates() #al parecer no tiene repetidas"
   ]
  },
  {
   "cell_type": "code",
   "execution_count": 80,
   "id": "d90ea74f",
   "metadata": {},
   "outputs": [
    {
     "data": {
      "image/png": "[encoded data removed]",
      "text/plain": [
       "<Figure size 432x288 with 1 Axes>"
      ]
     },
     "metadata": {},
     "output_type": "display_data"
    }
   ],
   "source": [
    "artists.hist();"
   ]
  },
  {
   "cell_type": "markdown",
   "id": "d28f014a-448e-4df6-9638-c15a3bae91b5",
   "metadata": {},
   "source": [
    "### Lyrics"
   ]
  },
  {
   "cell_type": "code",
   "execution_count": 92,
   "id": "6be8ceab",
   "metadata": {},
   "outputs": [
    {
     "data": {
      "text/html": [
       "<div>\n",
       "<style scoped>\n",
       "    .dataframe tbody tr th:only-of-type {\n",
       "        vertical-align: middle;\n",
       "    }\n",
       "\n",
       "    .dataframe tbody tr th {\n",
       "        vertical-align: top;\n",
       "    }\n",
       "\n",
       "    .dataframe thead th {\n",
       "        text-align: right;\n",
       "    }\n",
       "</style>\n",
       "<table border=\"1\" class=\"dataframe\">\n",
       "  <thead>\n",
       "    <tr style=\"text-align: right;\">\n",
       "      <th></th>\n",
       "      <th>lyrics</th>\n",
       "      <th>track_name</th>\n",
       "    </tr>\n",
       "  </thead>\n",
       "  <tbody>\n",
       "    <tr>\n",
       "      <th>0</th>\n",
       "      <td>hold time feel break feel untrue convince spea...</td>\n",
       "      <td>mohabbat bhi jhoothi</td>\n",
       "    </tr>\n",
       "    <tr>\n",
       "      <th>4</th>\n",
       "      <td>believe drop rain fall grow believe darkest ni...</td>\n",
       "      <td>i believe</td>\n",
       "    </tr>\n",
       "    <tr>\n",
       "      <th>6</th>\n",
       "      <td>sweetheart send letter goodbye secret feel bet...</td>\n",
       "      <td>cry</td>\n",
       "    </tr>\n",
       "    <tr>\n",
       "      <th>10</th>\n",
       "      <td>kiss lips want stroll charm mambo chacha merin...</td>\n",
       "      <td>patricia</td>\n",
       "    </tr>\n",
       "    <tr>\n",
       "      <th>12</th>\n",
       "      <td>till darling till matter know till dream live ...</td>\n",
       "      <td>apopse eida oneiro</td>\n",
       "    </tr>\n",
       "    <tr>\n",
       "      <th>...</th>\n",
       "      <td>...</td>\n",
       "      <td>...</td>\n",
       "    </tr>\n",
       "    <tr>\n",
       "      <th>82447</th>\n",
       "      <td>cause fuck leave scar tick tock clock come kno...</td>\n",
       "      <td>10 million ways</td>\n",
       "    </tr>\n",
       "    <tr>\n",
       "      <th>82448</th>\n",
       "      <td>minks things chain ring braclets yap fame come...</td>\n",
       "      <td>ante up (robbin hoodz theory)</td>\n",
       "    </tr>\n",
       "    <tr>\n",
       "      <th>82449</th>\n",
       "      <td>get ban get ban stick crack relax plan attack ...</td>\n",
       "      <td>whutcha want?</td>\n",
       "    </tr>\n",
       "    <tr>\n",
       "      <th>82450</th>\n",
       "      <td>check check yeah yeah hear thing call switch g...</td>\n",
       "      <td>switch</td>\n",
       "    </tr>\n",
       "    <tr>\n",
       "      <th>82451</th>\n",
       "      <td>remix killer alive remix thriller trap bitch s...</td>\n",
       "      <td>r.i.p.</td>\n",
       "    </tr>\n",
       "  </tbody>\n",
       "</table>\n",
       "<p>28372 rows × 2 columns</p>\n",
       "</div>"
      ],
      "text/plain": [
       "                                                  lyrics  \\\n",
       "0      hold time feel break feel untrue convince spea...   \n",
       "4      believe drop rain fall grow believe darkest ni...   \n",
       "6      sweetheart send letter goodbye secret feel bet...   \n",
       "10     kiss lips want stroll charm mambo chacha merin...   \n",
       "12     till darling till matter know till dream live ...   \n",
       "...                                                  ...   \n",
       "82447  cause fuck leave scar tick tock clock come kno...   \n",
       "82448  minks things chain ring braclets yap fame come...   \n",
       "82449  get ban get ban stick crack relax plan attack ...   \n",
       "82450  check check yeah yeah hear thing call switch g...   \n",
       "82451  remix killer alive remix thriller trap bitch s...   \n",
       "\n",
       "                          track_name  \n",
       "0               mohabbat bhi jhoothi  \n",
       "4                          i believe  \n",
       "6                                cry  \n",
       "10                          patricia  \n",
       "12                apopse eida oneiro  \n",
       "...                              ...  \n",
       "82447                10 million ways  \n",
       "82448  ante up (robbin hoodz theory)  \n",
       "82449                  whutcha want?  \n",
       "82450                         switch  \n",
       "82451                         r.i.p.  \n",
       "\n",
       "[28372 rows x 2 columns]"
      ]
     },
     "execution_count": 92,
     "metadata": {},
     "output_type": "execute_result"
    }
   ],
   "source": [
    "music_df[['lyrics','track_name']]"
   ]
  },
  {
   "cell_type": "code",
   "execution_count": 93,
   "id": "745f9543",
   "metadata": {},
   "outputs": [
    {
     "data": {
      "text/plain": [
       "'hold time feel break feel untrue convince speak voice tear try hold hurt try forgive okay play break string feel heart want feel tell real truth hurt lie worse anymore little turn dust play house ruin run leave save like chase train late late tear try hold hurt try forgive okay play break string feel heart want feel tell real truth hurt lie worse anymore little run leave save like chase train know late late play break string feel heart want feel tell real truth hurt lie worse anymore little know little hold time feel'"
      ]
     },
     "execution_count": 93,
     "metadata": {},
     "output_type": "execute_result"
    }
   ],
   "source": [
    "music_df[['lyrics','track_name']].iloc[0]['lyrics']"
   ]
  },
  {
   "cell_type": "markdown",
   "id": "1b1107df-dd19-4414-bc10-b6cff91de1ec",
   "metadata": {},
   "source": [
    "* Faltan conectores no? Al parecer es hindu y esta traducido. \n",
    "* Rompera fast text? yo creo que no"
   ]
  },
  {
   "cell_type": "markdown",
   "id": "3c9bedb5-d9bd-469c-a589-2de8a4e8e388",
   "metadata": {},
   "source": [
    "We started cleaning the texts by identifying the language using Google’s library language-detection and removed all non-English texts. \n",
    "\n",
    "We cleaned the remaining texts consisted of removing symbols, numbers, and stop words like common English words and proper nouns.\n",
    "\n",
    "The remaining words were lemmatized to its canonical form using WordNet Lemmatizer [Fellbaum 2005] provided by NLTK package[Bird 2009]. "
   ]
  },
  {
   "cell_type": "markdown",
   "id": "c470b321",
   "metadata": {},
   "source": [
    "# Split dataset"
   ]
  },
  {
   "cell_type": "markdown",
   "id": "ba993fd7",
   "metadata": {},
   "source": [
    "### Como hacer el split train/test? Pablo nos recomendo hacer por fecha de salida. \n",
    "* Usamos desde 1950 hasta 2018? O por porcentaje 80/20?"
   ]
  },
  {
   "cell_type": "code",
   "execution_count": 97,
   "id": "9dad792b",
   "metadata": {},
   "outputs": [],
   "source": [
    "train, test= np.split(music_df, [int(.80 *len(music_df))])"
   ]
  },
  {
   "cell_type": "code",
   "execution_count": 98,
   "id": "cb1b5b65",
   "metadata": {},
   "outputs": [
    {
     "data": {
      "text/plain": [
       "(1950, 2019, 22697)"
      ]
     },
     "execution_count": 98,
     "metadata": {},
     "output_type": "execute_result"
    }
   ],
   "source": [
    "train['release_date'].min(), train['release_date'].max(), train.shape[0]"
   ]
  },
  {
   "cell_type": "code",
   "execution_count": 99,
   "id": "e2296bea",
   "metadata": {},
   "outputs": [
    {
     "data": {
      "text/plain": [
       "(1955, 2019, 5675)"
      ]
     },
     "execution_count": 99,
     "metadata": {},
     "output_type": "execute_result"
    }
   ],
   "source": [
    "test['release_date'].min(), test['release_date'].max(), test.shape[0]"
   ]
  },
  {
   "cell_type": "code",
   "execution_count": 100,
   "id": "734e9d7b",
   "metadata": {},
   "outputs": [],
   "source": [
    "#Version hasta 2018. Es mucho mas que el 80 por ciento, cercano al 98.\n",
    "#train, test = music_df[music_df['release_date'] < 2018], music_df[music_df['release_date'] > 2018]\n",
    "#train.shape[0], test.shape[0]\n",
    "#(27185, 534)"
   ]
  },
  {
   "cell_type": "code",
   "execution_count": 101,
   "id": "50779c48",
   "metadata": {},
   "outputs": [
    {
     "data": {
      "image/png": "[encoded data removed]",
      "text/plain": [
       "<Figure size 432x288 with 1 Axes>"
      ]
     },
     "metadata": {},
     "output_type": "display_data"
    }
   ],
   "source": [
    "train['genre'].value_counts().plot.bar();"
   ]
  },
  {
   "cell_type": "code",
   "execution_count": 102,
   "id": "9595b67d",
   "metadata": {},
   "outputs": [
    {
     "data": {
      "image/png": "[encoded data removed]",
      "text/plain": [
       "<Figure size 432x288 with 1 Axes>"
      ]
     },
     "metadata": {},
     "output_type": "display_data"
    }
   ],
   "source": [
    "test['genre'].value_counts().plot.bar();"
   ]
  },
  {
   "cell_type": "code",
   "execution_count": 105,
   "id": "077b8130-2508-44c1-8da8-b276703fd2d4",
   "metadata": {},
   "outputs": [
    {
     "data": {
      "text/plain": [
       "pop        7042\n",
       "country    5445\n",
       "blues      4604\n",
       "jazz       3845\n",
       "reggae     1761\n",
       "Name: genre, dtype: int64"
      ]
     },
     "execution_count": 105,
     "metadata": {},
     "output_type": "execute_result"
    }
   ],
   "source": [
    "train[\"genre\"].value_counts()"
   ]
  },
  {
   "cell_type": "markdown",
   "id": "45431e25",
   "metadata": {},
   "source": [
    "Esta bastante balanceado. Pop tiene muchas más pero tambien era asi en train."
   ]
  }
 ],
 "metadata": {
  "kernelspec": {
   "display_name": "Python 3 (ipykernel)",
   "language": "python",
   "name": "python3"
  },
  "language_info": {
   "codemirror_mode": {
    "name": "ipython",
    "version": 3
   },
   "file_extension": ".py",
   "mimetype": "text/x-python",
   "name": "python",
   "nbconvert_exporter": "python",
   "pygments_lexer": "ipython3",
   "version": "3.10.6"
  }
 },
 "nbformat": 4,
 "nbformat_minor": 5
}
