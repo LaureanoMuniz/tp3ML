{
 "cells": [
  {
   "cell_type": "code",
   "execution_count": 3,
   "id": "5ce18407",
   "metadata": {},
   "outputs": [],
   "source": [
    "import pandas as pd\n",
    "import seaborn as sns\n",
    "import numpy as np "
   ]
  },
  {
   "cell_type": "code",
   "execution_count": 4,
   "id": "a7ed5bfb",
   "metadata": {},
   "outputs": [],
   "source": [
    "music_df = pd.read_csv('tcc_ceds_music.csv')"
   ]
  },
  {
   "cell_type": "code",
   "execution_count": 5,
   "id": "ed2901a5",
   "metadata": {},
   "outputs": [
    {
     "data": {
      "text/plain": [
       "['Unnamed: 0',\n",
       " 'artist_name',\n",
       " 'track_name',\n",
       " 'release_date',\n",
       " 'genre',\n",
       " 'lyrics',\n",
       " 'len',\n",
       " 'dating',\n",
       " 'violence',\n",
       " 'world/life',\n",
       " 'night/time',\n",
       " 'shake the audience',\n",
       " 'family/gospel',\n",
       " 'romantic',\n",
       " 'communication',\n",
       " 'obscene',\n",
       " 'music',\n",
       " 'movement/places',\n",
       " 'light/visual perceptions',\n",
       " 'family/spiritual',\n",
       " 'like/girls',\n",
       " 'sadness',\n",
       " 'feelings',\n",
       " 'danceability',\n",
       " 'loudness',\n",
       " 'acousticness',\n",
       " 'instrumentalness',\n",
       " 'valence',\n",
       " 'energy',\n",
       " 'topic',\n",
       " 'age']"
      ]
     },
     "execution_count": 5,
     "metadata": {},
     "output_type": "execute_result"
    }
   ],
   "source": [
    "music_df.columns.tolist()"
   ]
  },
  {
   "cell_type": "markdown",
   "id": "32e0fee2",
   "metadata": {},
   "source": [
    "-age es un numero entre 0 y 1 que mide lo viejo que es\n",
    "-len es la cantidad de palabras\n",
    "-hay una variable categorica topic\n",
    "-al parecer no hay data de la duración de las canciones. Se puede recuperar seguro. Hace falta?"
   ]
  },
  {
   "cell_type": "code",
   "execution_count": 6,
   "id": "49705385",
   "metadata": {},
   "outputs": [],
   "source": [
    "music_df = music_df.rename(columns={'len': 'words'}) # es la cantidad de palabras"
   ]
  },
  {
   "cell_type": "code",
   "execution_count": 7,
   "id": "b46b7ec5",
   "metadata": {},
   "outputs": [
    {
     "data": {
      "text/html": [
       "<div>\n",
       "<style scoped>\n",
       "    .dataframe tbody tr th:only-of-type {\n",
       "        vertical-align: middle;\n",
       "    }\n",
       "\n",
       "    .dataframe tbody tr th {\n",
       "        vertical-align: top;\n",
       "    }\n",
       "\n",
       "    .dataframe thead th {\n",
       "        text-align: right;\n",
       "    }\n",
       "</style>\n",
       "<table border=\"1\" class=\"dataframe\">\n",
       "  <thead>\n",
       "    <tr style=\"text-align: right;\">\n",
       "      <th></th>\n",
       "      <th>Unnamed: 0</th>\n",
       "      <th>artist_name</th>\n",
       "      <th>track_name</th>\n",
       "      <th>release_date</th>\n",
       "      <th>genre</th>\n",
       "      <th>lyrics</th>\n",
       "      <th>words</th>\n",
       "      <th>dating</th>\n",
       "      <th>violence</th>\n",
       "      <th>world/life</th>\n",
       "      <th>...</th>\n",
       "      <th>sadness</th>\n",
       "      <th>feelings</th>\n",
       "      <th>danceability</th>\n",
       "      <th>loudness</th>\n",
       "      <th>acousticness</th>\n",
       "      <th>instrumentalness</th>\n",
       "      <th>valence</th>\n",
       "      <th>energy</th>\n",
       "      <th>topic</th>\n",
       "      <th>age</th>\n",
       "    </tr>\n",
       "  </thead>\n",
       "  <tbody>\n",
       "    <tr>\n",
       "      <th>0</th>\n",
       "      <td>0</td>\n",
       "      <td>mukesh</td>\n",
       "      <td>mohabbat bhi jhoothi</td>\n",
       "      <td>1950</td>\n",
       "      <td>pop</td>\n",
       "      <td>hold time feel break feel untrue convince spea...</td>\n",
       "      <td>95</td>\n",
       "      <td>0.000598</td>\n",
       "      <td>0.063746</td>\n",
       "      <td>0.000598</td>\n",
       "      <td>...</td>\n",
       "      <td>0.380299</td>\n",
       "      <td>0.117175</td>\n",
       "      <td>0.357739</td>\n",
       "      <td>0.454119</td>\n",
       "      <td>0.997992</td>\n",
       "      <td>0.901822</td>\n",
       "      <td>0.339448</td>\n",
       "      <td>0.137110</td>\n",
       "      <td>sadness</td>\n",
       "      <td>1.0</td>\n",
       "    </tr>\n",
       "    <tr>\n",
       "      <th>1</th>\n",
       "      <td>4</td>\n",
       "      <td>frankie laine</td>\n",
       "      <td>i believe</td>\n",
       "      <td>1950</td>\n",
       "      <td>pop</td>\n",
       "      <td>believe drop rain fall grow believe darkest ni...</td>\n",
       "      <td>51</td>\n",
       "      <td>0.035537</td>\n",
       "      <td>0.096777</td>\n",
       "      <td>0.443435</td>\n",
       "      <td>...</td>\n",
       "      <td>0.001284</td>\n",
       "      <td>0.001284</td>\n",
       "      <td>0.331745</td>\n",
       "      <td>0.647540</td>\n",
       "      <td>0.954819</td>\n",
       "      <td>0.000002</td>\n",
       "      <td>0.325021</td>\n",
       "      <td>0.263240</td>\n",
       "      <td>world/life</td>\n",
       "      <td>1.0</td>\n",
       "    </tr>\n",
       "    <tr>\n",
       "      <th>2</th>\n",
       "      <td>6</td>\n",
       "      <td>johnnie ray</td>\n",
       "      <td>cry</td>\n",
       "      <td>1950</td>\n",
       "      <td>pop</td>\n",
       "      <td>sweetheart send letter goodbye secret feel bet...</td>\n",
       "      <td>24</td>\n",
       "      <td>0.002770</td>\n",
       "      <td>0.002770</td>\n",
       "      <td>0.002770</td>\n",
       "      <td>...</td>\n",
       "      <td>0.002770</td>\n",
       "      <td>0.225422</td>\n",
       "      <td>0.456298</td>\n",
       "      <td>0.585288</td>\n",
       "      <td>0.840361</td>\n",
       "      <td>0.000000</td>\n",
       "      <td>0.351814</td>\n",
       "      <td>0.139112</td>\n",
       "      <td>music</td>\n",
       "      <td>1.0</td>\n",
       "    </tr>\n",
       "    <tr>\n",
       "      <th>3</th>\n",
       "      <td>10</td>\n",
       "      <td>pérez prado</td>\n",
       "      <td>patricia</td>\n",
       "      <td>1950</td>\n",
       "      <td>pop</td>\n",
       "      <td>kiss lips want stroll charm mambo chacha merin...</td>\n",
       "      <td>54</td>\n",
       "      <td>0.048249</td>\n",
       "      <td>0.001548</td>\n",
       "      <td>0.001548</td>\n",
       "      <td>...</td>\n",
       "      <td>0.225889</td>\n",
       "      <td>0.001548</td>\n",
       "      <td>0.686992</td>\n",
       "      <td>0.744404</td>\n",
       "      <td>0.083935</td>\n",
       "      <td>0.199393</td>\n",
       "      <td>0.775350</td>\n",
       "      <td>0.743736</td>\n",
       "      <td>romantic</td>\n",
       "      <td>1.0</td>\n",
       "    </tr>\n",
       "    <tr>\n",
       "      <th>4</th>\n",
       "      <td>12</td>\n",
       "      <td>giorgos papadopoulos</td>\n",
       "      <td>apopse eida oneiro</td>\n",
       "      <td>1950</td>\n",
       "      <td>pop</td>\n",
       "      <td>till darling till matter know till dream live ...</td>\n",
       "      <td>48</td>\n",
       "      <td>0.001350</td>\n",
       "      <td>0.001350</td>\n",
       "      <td>0.417772</td>\n",
       "      <td>...</td>\n",
       "      <td>0.068800</td>\n",
       "      <td>0.001350</td>\n",
       "      <td>0.291671</td>\n",
       "      <td>0.646489</td>\n",
       "      <td>0.975904</td>\n",
       "      <td>0.000246</td>\n",
       "      <td>0.597073</td>\n",
       "      <td>0.394375</td>\n",
       "      <td>romantic</td>\n",
       "      <td>1.0</td>\n",
       "    </tr>\n",
       "  </tbody>\n",
       "</table>\n",
       "<p>5 rows × 31 columns</p>\n",
       "</div>"
      ],
      "text/plain": [
       "   Unnamed: 0           artist_name            track_name  release_date genre  \\\n",
       "0           0                mukesh  mohabbat bhi jhoothi          1950   pop   \n",
       "1           4         frankie laine             i believe          1950   pop   \n",
       "2           6           johnnie ray                   cry          1950   pop   \n",
       "3          10           pérez prado              patricia          1950   pop   \n",
       "4          12  giorgos papadopoulos    apopse eida oneiro          1950   pop   \n",
       "\n",
       "                                              lyrics  words    dating  \\\n",
       "0  hold time feel break feel untrue convince spea...     95  0.000598   \n",
       "1  believe drop rain fall grow believe darkest ni...     51  0.035537   \n",
       "2  sweetheart send letter goodbye secret feel bet...     24  0.002770   \n",
       "3  kiss lips want stroll charm mambo chacha merin...     54  0.048249   \n",
       "4  till darling till matter know till dream live ...     48  0.001350   \n",
       "\n",
       "   violence  world/life  ...   sadness  feelings  danceability  loudness  \\\n",
       "0  0.063746    0.000598  ...  0.380299  0.117175      0.357739  0.454119   \n",
       "1  0.096777    0.443435  ...  0.001284  0.001284      0.331745  0.647540   \n",
       "2  0.002770    0.002770  ...  0.002770  0.225422      0.456298  0.585288   \n",
       "3  0.001548    0.001548  ...  0.225889  0.001548      0.686992  0.744404   \n",
       "4  0.001350    0.417772  ...  0.068800  0.001350      0.291671  0.646489   \n",
       "\n",
       "   acousticness  instrumentalness   valence    energy       topic  age  \n",
       "0      0.997992          0.901822  0.339448  0.137110     sadness  1.0  \n",
       "1      0.954819          0.000002  0.325021  0.263240  world/life  1.0  \n",
       "2      0.840361          0.000000  0.351814  0.139112       music  1.0  \n",
       "3      0.083935          0.199393  0.775350  0.743736    romantic  1.0  \n",
       "4      0.975904          0.000246  0.597073  0.394375    romantic  1.0  \n",
       "\n",
       "[5 rows x 31 columns]"
      ]
     },
     "execution_count": 7,
     "metadata": {},
     "output_type": "execute_result"
    }
   ],
   "source": [
    "music_df.head()"
   ]
  },
  {
   "cell_type": "code",
   "execution_count": 8,
   "id": "6b48cd7c",
   "metadata": {},
   "outputs": [
    {
     "data": {
      "text/html": [
       "<div>\n",
       "<style scoped>\n",
       "    .dataframe tbody tr th:only-of-type {\n",
       "        vertical-align: middle;\n",
       "    }\n",
       "\n",
       "    .dataframe tbody tr th {\n",
       "        vertical-align: top;\n",
       "    }\n",
       "\n",
       "    .dataframe thead th {\n",
       "        text-align: right;\n",
       "    }\n",
       "</style>\n",
       "<table border=\"1\" class=\"dataframe\">\n",
       "  <thead>\n",
       "    <tr style=\"text-align: right;\">\n",
       "      <th></th>\n",
       "      <th>Unnamed: 0</th>\n",
       "      <th>release_date</th>\n",
       "      <th>words</th>\n",
       "      <th>dating</th>\n",
       "      <th>violence</th>\n",
       "      <th>world/life</th>\n",
       "      <th>night/time</th>\n",
       "      <th>shake the audience</th>\n",
       "      <th>family/gospel</th>\n",
       "      <th>romantic</th>\n",
       "      <th>...</th>\n",
       "      <th>like/girls</th>\n",
       "      <th>sadness</th>\n",
       "      <th>feelings</th>\n",
       "      <th>danceability</th>\n",
       "      <th>loudness</th>\n",
       "      <th>acousticness</th>\n",
       "      <th>instrumentalness</th>\n",
       "      <th>valence</th>\n",
       "      <th>energy</th>\n",
       "      <th>age</th>\n",
       "    </tr>\n",
       "  </thead>\n",
       "  <tbody>\n",
       "    <tr>\n",
       "      <th>count</th>\n",
       "      <td>28372.000000</td>\n",
       "      <td>28372.000000</td>\n",
       "      <td>28372.000000</td>\n",
       "      <td>28372.000000</td>\n",
       "      <td>28372.000000</td>\n",
       "      <td>28372.000000</td>\n",
       "      <td>28372.000000</td>\n",
       "      <td>28372.000000</td>\n",
       "      <td>28372.000000</td>\n",
       "      <td>28372.000000</td>\n",
       "      <td>...</td>\n",
       "      <td>28372.000000</td>\n",
       "      <td>28372.000000</td>\n",
       "      <td>28372.000000</td>\n",
       "      <td>28372.000000</td>\n",
       "      <td>28372.000000</td>\n",
       "      <td>2.837200e+04</td>\n",
       "      <td>28372.000000</td>\n",
       "      <td>28372.000000</td>\n",
       "      <td>28372.000000</td>\n",
       "      <td>28372.000000</td>\n",
       "    </tr>\n",
       "    <tr>\n",
       "      <th>mean</th>\n",
       "      <td>42946.323558</td>\n",
       "      <td>1990.236888</td>\n",
       "      <td>73.028444</td>\n",
       "      <td>0.021112</td>\n",
       "      <td>0.118396</td>\n",
       "      <td>0.120973</td>\n",
       "      <td>0.057387</td>\n",
       "      <td>0.017422</td>\n",
       "      <td>0.017045</td>\n",
       "      <td>0.048681</td>\n",
       "      <td>...</td>\n",
       "      <td>0.028057</td>\n",
       "      <td>0.129389</td>\n",
       "      <td>0.030996</td>\n",
       "      <td>0.533348</td>\n",
       "      <td>0.665249</td>\n",
       "      <td>3.392347e-01</td>\n",
       "      <td>0.080049</td>\n",
       "      <td>0.532864</td>\n",
       "      <td>0.569875</td>\n",
       "      <td>0.425187</td>\n",
       "    </tr>\n",
       "    <tr>\n",
       "      <th>std</th>\n",
       "      <td>24749.325492</td>\n",
       "      <td>18.487463</td>\n",
       "      <td>41.829831</td>\n",
       "      <td>0.052370</td>\n",
       "      <td>0.178684</td>\n",
       "      <td>0.172200</td>\n",
       "      <td>0.111923</td>\n",
       "      <td>0.040670</td>\n",
       "      <td>0.041966</td>\n",
       "      <td>0.106095</td>\n",
       "      <td>...</td>\n",
       "      <td>0.058473</td>\n",
       "      <td>0.181143</td>\n",
       "      <td>0.071652</td>\n",
       "      <td>0.173218</td>\n",
       "      <td>0.108434</td>\n",
       "      <td>3.267143e-01</td>\n",
       "      <td>0.211245</td>\n",
       "      <td>0.250972</td>\n",
       "      <td>0.244385</td>\n",
       "      <td>0.264107</td>\n",
       "    </tr>\n",
       "    <tr>\n",
       "      <th>min</th>\n",
       "      <td>0.000000</td>\n",
       "      <td>1950.000000</td>\n",
       "      <td>1.000000</td>\n",
       "      <td>0.000291</td>\n",
       "      <td>0.000284</td>\n",
       "      <td>0.000291</td>\n",
       "      <td>0.000289</td>\n",
       "      <td>0.000284</td>\n",
       "      <td>0.000289</td>\n",
       "      <td>0.000284</td>\n",
       "      <td>...</td>\n",
       "      <td>0.000284</td>\n",
       "      <td>0.000284</td>\n",
       "      <td>0.000289</td>\n",
       "      <td>0.005415</td>\n",
       "      <td>0.000000</td>\n",
       "      <td>2.811248e-07</td>\n",
       "      <td>0.000000</td>\n",
       "      <td>0.000000</td>\n",
       "      <td>0.000000</td>\n",
       "      <td>0.014286</td>\n",
       "    </tr>\n",
       "    <tr>\n",
       "      <th>25%</th>\n",
       "      <td>20391.250000</td>\n",
       "      <td>1975.000000</td>\n",
       "      <td>42.000000</td>\n",
       "      <td>0.000923</td>\n",
       "      <td>0.001120</td>\n",
       "      <td>0.001170</td>\n",
       "      <td>0.001032</td>\n",
       "      <td>0.000993</td>\n",
       "      <td>0.000923</td>\n",
       "      <td>0.000975</td>\n",
       "      <td>...</td>\n",
       "      <td>0.000975</td>\n",
       "      <td>0.001144</td>\n",
       "      <td>0.000993</td>\n",
       "      <td>0.412975</td>\n",
       "      <td>0.595364</td>\n",
       "      <td>3.423598e-02</td>\n",
       "      <td>0.000000</td>\n",
       "      <td>0.329143</td>\n",
       "      <td>0.380361</td>\n",
       "      <td>0.185714</td>\n",
       "    </tr>\n",
       "    <tr>\n",
       "      <th>50%</th>\n",
       "      <td>45405.500000</td>\n",
       "      <td>1991.000000</td>\n",
       "      <td>63.000000</td>\n",
       "      <td>0.001462</td>\n",
       "      <td>0.002506</td>\n",
       "      <td>0.006579</td>\n",
       "      <td>0.001949</td>\n",
       "      <td>0.001595</td>\n",
       "      <td>0.001504</td>\n",
       "      <td>0.001754</td>\n",
       "      <td>...</td>\n",
       "      <td>0.001595</td>\n",
       "      <td>0.005263</td>\n",
       "      <td>0.001754</td>\n",
       "      <td>0.538612</td>\n",
       "      <td>0.679050</td>\n",
       "      <td>2.259028e-01</td>\n",
       "      <td>0.000085</td>\n",
       "      <td>0.539365</td>\n",
       "      <td>0.580567</td>\n",
       "      <td>0.414286</td>\n",
       "    </tr>\n",
       "    <tr>\n",
       "      <th>75%</th>\n",
       "      <td>64090.500000</td>\n",
       "      <td>2007.000000</td>\n",
       "      <td>93.000000</td>\n",
       "      <td>0.004049</td>\n",
       "      <td>0.192608</td>\n",
       "      <td>0.197793</td>\n",
       "      <td>0.065842</td>\n",
       "      <td>0.010002</td>\n",
       "      <td>0.004785</td>\n",
       "      <td>0.042301</td>\n",
       "      <td>...</td>\n",
       "      <td>0.026622</td>\n",
       "      <td>0.235113</td>\n",
       "      <td>0.032622</td>\n",
       "      <td>0.656666</td>\n",
       "      <td>0.749026</td>\n",
       "      <td>6.325298e-01</td>\n",
       "      <td>0.009335</td>\n",
       "      <td>0.738252</td>\n",
       "      <td>0.772766</td>\n",
       "      <td>0.642857</td>\n",
       "    </tr>\n",
       "    <tr>\n",
       "      <th>max</th>\n",
       "      <td>82451.000000</td>\n",
       "      <td>2019.000000</td>\n",
       "      <td>199.000000</td>\n",
       "      <td>0.647706</td>\n",
       "      <td>0.981781</td>\n",
       "      <td>0.962105</td>\n",
       "      <td>0.973684</td>\n",
       "      <td>0.497463</td>\n",
       "      <td>0.545303</td>\n",
       "      <td>0.940789</td>\n",
       "      <td>...</td>\n",
       "      <td>0.594459</td>\n",
       "      <td>0.981424</td>\n",
       "      <td>0.958810</td>\n",
       "      <td>0.993502</td>\n",
       "      <td>1.000000</td>\n",
       "      <td>1.000000e+00</td>\n",
       "      <td>0.996964</td>\n",
       "      <td>1.000000</td>\n",
       "      <td>1.000000</td>\n",
       "      <td>1.000000</td>\n",
       "    </tr>\n",
       "  </tbody>\n",
       "</table>\n",
       "<p>8 rows × 26 columns</p>\n",
       "</div>"
      ],
      "text/plain": [
       "         Unnamed: 0  release_date         words        dating      violence  \\\n",
       "count  28372.000000  28372.000000  28372.000000  28372.000000  28372.000000   \n",
       "mean   42946.323558   1990.236888     73.028444      0.021112      0.118396   \n",
       "std    24749.325492     18.487463     41.829831      0.052370      0.178684   \n",
       "min        0.000000   1950.000000      1.000000      0.000291      0.000284   \n",
       "25%    20391.250000   1975.000000     42.000000      0.000923      0.001120   \n",
       "50%    45405.500000   1991.000000     63.000000      0.001462      0.002506   \n",
       "75%    64090.500000   2007.000000     93.000000      0.004049      0.192608   \n",
       "max    82451.000000   2019.000000    199.000000      0.647706      0.981781   \n",
       "\n",
       "         world/life    night/time  shake the audience  family/gospel  \\\n",
       "count  28372.000000  28372.000000        28372.000000   28372.000000   \n",
       "mean       0.120973      0.057387            0.017422       0.017045   \n",
       "std        0.172200      0.111923            0.040670       0.041966   \n",
       "min        0.000291      0.000289            0.000284       0.000289   \n",
       "25%        0.001170      0.001032            0.000993       0.000923   \n",
       "50%        0.006579      0.001949            0.001595       0.001504   \n",
       "75%        0.197793      0.065842            0.010002       0.004785   \n",
       "max        0.962105      0.973684            0.497463       0.545303   \n",
       "\n",
       "           romantic  ...    like/girls       sadness      feelings  \\\n",
       "count  28372.000000  ...  28372.000000  28372.000000  28372.000000   \n",
       "mean       0.048681  ...      0.028057      0.129389      0.030996   \n",
       "std        0.106095  ...      0.058473      0.181143      0.071652   \n",
       "min        0.000284  ...      0.000284      0.000284      0.000289   \n",
       "25%        0.000975  ...      0.000975      0.001144      0.000993   \n",
       "50%        0.001754  ...      0.001595      0.005263      0.001754   \n",
       "75%        0.042301  ...      0.026622      0.235113      0.032622   \n",
       "max        0.940789  ...      0.594459      0.981424      0.958810   \n",
       "\n",
       "       danceability      loudness  acousticness  instrumentalness  \\\n",
       "count  28372.000000  28372.000000  2.837200e+04      28372.000000   \n",
       "mean       0.533348      0.665249  3.392347e-01          0.080049   \n",
       "std        0.173218      0.108434  3.267143e-01          0.211245   \n",
       "min        0.005415      0.000000  2.811248e-07          0.000000   \n",
       "25%        0.412975      0.595364  3.423598e-02          0.000000   \n",
       "50%        0.538612      0.679050  2.259028e-01          0.000085   \n",
       "75%        0.656666      0.749026  6.325298e-01          0.009335   \n",
       "max        0.993502      1.000000  1.000000e+00          0.996964   \n",
       "\n",
       "            valence        energy           age  \n",
       "count  28372.000000  28372.000000  28372.000000  \n",
       "mean       0.532864      0.569875      0.425187  \n",
       "std        0.250972      0.244385      0.264107  \n",
       "min        0.000000      0.000000      0.014286  \n",
       "25%        0.329143      0.380361      0.185714  \n",
       "50%        0.539365      0.580567      0.414286  \n",
       "75%        0.738252      0.772766      0.642857  \n",
       "max        1.000000      1.000000      1.000000  \n",
       "\n",
       "[8 rows x 26 columns]"
      ]
     },
     "execution_count": 8,
     "metadata": {},
     "output_type": "execute_result"
    }
   ],
   "source": [
    "music_df.describe()"
   ]
  },
  {
   "cell_type": "code",
   "execution_count": 9,
   "id": "ee4f5014",
   "metadata": {},
   "outputs": [
    {
     "data": {
      "text/plain": [
       "<AxesSubplot: >"
      ]
     },
     "execution_count": 9,
     "metadata": {},
     "output_type": "execute_result"
    },
    {
     "data": {
      "image/png": "[encoded data removed]",
      "text/plain": [
       "<Figure size 640x480 with 1 Axes>"
      ]
     },
     "metadata": {},
     "output_type": "display_data"
    }
   ],
   "source": [
    "music_df['genre'].value_counts().plot.bar()"
   ]
  },
  {
   "cell_type": "code",
   "execution_count": 10,
   "id": "7e082dd7",
   "metadata": {},
   "outputs": [
    {
     "data": {
      "text/plain": [
       "<AxesSubplot: >"
      ]
     },
     "execution_count": 10,
     "metadata": {},
     "output_type": "execute_result"
    },
    {
     "data": {
      "image/png": "[encoded data removed]",
      "text/plain": [
       "<Figure size 640x480 with 1 Axes>"
      ]
     },
     "metadata": {},
     "output_type": "display_data"
    }
   ],
   "source": [
    "music_df['words'].hist()"
   ]
  },
  {
   "cell_type": "code",
   "execution_count": 11,
   "id": "34cd60e7",
   "metadata": {},
   "outputs": [
    {
     "data": {
      "text/plain": [
       "<AxesSubplot: >"
      ]
     },
     "execution_count": 11,
     "metadata": {},
     "output_type": "execute_result"
    },
    {
     "data": {
      "image/png": "[encoded data removed]",
      "text/plain": [
       "<Figure size 640x480 with 1 Axes>"
      ]
     },
     "metadata": {},
     "output_type": "display_data"
    }
   ],
   "source": [
    "music_df['release_date'].hist()"
   ]
  },
  {
   "cell_type": "markdown",
   "id": "7771edb1",
   "metadata": {},
   "source": [
    "Sacamos data muy vieja?"
   ]
  },
  {
   "cell_type": "code",
   "execution_count": 12,
   "id": "45dceb36",
   "metadata": {},
   "outputs": [
    {
     "data": {
      "text/plain": [
       "johnny cash           190\n",
       "ella fitzgerald       188\n",
       "dean martin           146\n",
       "willie nelson         131\n",
       "george jones          107\n",
       "                     ... \n",
       "washed out              1\n",
       "turi                    1\n",
       "proof                   1\n",
       "david crowder band      1\n",
       "$uicideboy$             1\n",
       "Name: artist_name, Length: 5426, dtype: int64"
      ]
     },
     "execution_count": 12,
     "metadata": {},
     "output_type": "execute_result"
    }
   ],
   "source": [
    "artists = music_df[\"artist_name\"].value_counts().sort_values(ascending = False)\n",
    "artists"
   ]
  },
  {
   "cell_type": "code",
   "execution_count": 13,
   "id": "755442e6",
   "metadata": {},
   "outputs": [],
   "source": [
    "johnny_music = music_df[music_df[\"artist_name\"] == 'johnny cash']"
   ]
  },
  {
   "cell_type": "code",
   "execution_count": 14,
   "id": "cd980363",
   "metadata": {},
   "outputs": [
    {
     "data": {
      "text/plain": [
       "7068                           the little drummer boy\n",
       "7088                                  the loving gift\n",
       "7102                           tennessee flat top box\n",
       "7111                                   all over again\n",
       "7163     i was there when it happened (2017 remaster)\n",
       "                             ...                     \n",
       "11546                                   it's all over\n",
       "11562                               i came to believe\n",
       "11565                             a legend in my time\n",
       "11854                                  ain't no grave\n",
       "11872                                  redemption day\n",
       "Name: track_name, Length: 190, dtype: object"
      ]
     },
     "execution_count": 14,
     "metadata": {},
     "output_type": "execute_result"
    }
   ],
   "source": [
    "johnny_music['track_name'].drop_duplicates() #al parecer no tiene repetidas"
   ]
  },
  {
   "cell_type": "code",
   "execution_count": 15,
   "id": "d90ea74f",
   "metadata": {},
   "outputs": [
    {
     "data": {
      "text/plain": [
       "<AxesSubplot: >"
      ]
     },
     "execution_count": 15,
     "metadata": {},
     "output_type": "execute_result"
    },
    {
     "data": {
      "image/png": "[encoded data removed]",
      "text/plain": [
       "<Figure size 640x480 with 1 Axes>"
      ]
     },
     "metadata": {},
     "output_type": "display_data"
    }
   ],
   "source": [
    "artists.hist()"
   ]
  },
  {
   "cell_type": "markdown",
   "id": "c470b321",
   "metadata": {},
   "source": [
    "## Split dataset"
   ]
  },
  {
   "cell_type": "markdown",
   "id": "ba993fd7",
   "metadata": {},
   "source": [
    "Como hacer el split train/test? Pablo nos recomendo hacer por fecha de salida. Usamos desde 1950 hasta 2018? O por porcentaje 80/20?"
   ]
  },
  {
   "cell_type": "code",
   "execution_count": 16,
   "id": "9a0e65d2",
   "metadata": {},
   "outputs": [],
   "source": [
    "music_df = music_df.sort_values(by='release_date', ascending=True)"
   ]
  },
  {
   "cell_type": "code",
   "execution_count": 17,
   "id": "419df594",
   "metadata": {},
   "outputs": [
    {
     "data": {
      "text/html": [
       "<div>\n",
       "<style scoped>\n",
       "    .dataframe tbody tr th:only-of-type {\n",
       "        vertical-align: middle;\n",
       "    }\n",
       "\n",
       "    .dataframe tbody tr th {\n",
       "        vertical-align: top;\n",
       "    }\n",
       "\n",
       "    .dataframe thead th {\n",
       "        text-align: right;\n",
       "    }\n",
       "</style>\n",
       "<table border=\"1\" class=\"dataframe\">\n",
       "  <thead>\n",
       "    <tr style=\"text-align: right;\">\n",
       "      <th></th>\n",
       "      <th>Unnamed: 0</th>\n",
       "      <th>artist_name</th>\n",
       "      <th>track_name</th>\n",
       "      <th>release_date</th>\n",
       "      <th>genre</th>\n",
       "      <th>lyrics</th>\n",
       "      <th>words</th>\n",
       "      <th>dating</th>\n",
       "      <th>violence</th>\n",
       "      <th>world/life</th>\n",
       "      <th>...</th>\n",
       "      <th>sadness</th>\n",
       "      <th>feelings</th>\n",
       "      <th>danceability</th>\n",
       "      <th>loudness</th>\n",
       "      <th>acousticness</th>\n",
       "      <th>instrumentalness</th>\n",
       "      <th>valence</th>\n",
       "      <th>energy</th>\n",
       "      <th>topic</th>\n",
       "      <th>age</th>\n",
       "    </tr>\n",
       "  </thead>\n",
       "  <tbody>\n",
       "    <tr>\n",
       "      <th>0</th>\n",
       "      <td>0</td>\n",
       "      <td>mukesh</td>\n",
       "      <td>mohabbat bhi jhoothi</td>\n",
       "      <td>1950</td>\n",
       "      <td>pop</td>\n",
       "      <td>hold time feel break feel untrue convince spea...</td>\n",
       "      <td>95</td>\n",
       "      <td>0.000598</td>\n",
       "      <td>0.063746</td>\n",
       "      <td>0.000598</td>\n",
       "      <td>...</td>\n",
       "      <td>0.380299</td>\n",
       "      <td>0.117175</td>\n",
       "      <td>0.357739</td>\n",
       "      <td>0.454119</td>\n",
       "      <td>0.997992</td>\n",
       "      <td>0.901822</td>\n",
       "      <td>0.339448</td>\n",
       "      <td>0.137110</td>\n",
       "      <td>sadness</td>\n",
       "      <td>1.0</td>\n",
       "    </tr>\n",
       "    <tr>\n",
       "      <th>17096</th>\n",
       "      <td>54315</td>\n",
       "      <td>dean martin</td>\n",
       "      <td>be honest with me</td>\n",
       "      <td>1950</td>\n",
       "      <td>jazz</td>\n",
       "      <td>honest dear remember dear true wander land hon...</td>\n",
       "      <td>29</td>\n",
       "      <td>0.002392</td>\n",
       "      <td>0.002392</td>\n",
       "      <td>0.002392</td>\n",
       "      <td>...</td>\n",
       "      <td>0.220670</td>\n",
       "      <td>0.002392</td>\n",
       "      <td>0.555941</td>\n",
       "      <td>0.635079</td>\n",
       "      <td>0.887550</td>\n",
       "      <td>0.000000</td>\n",
       "      <td>0.924773</td>\n",
       "      <td>0.322301</td>\n",
       "      <td>romantic</td>\n",
       "      <td>1.0</td>\n",
       "    </tr>\n",
       "    <tr>\n",
       "      <th>17097</th>\n",
       "      <td>54319</td>\n",
       "      <td>dean martin</td>\n",
       "      <td>three wishes</td>\n",
       "      <td>1950</td>\n",
       "      <td>jazz</td>\n",
       "      <td>wish simple wish wish wish days gladness sweet...</td>\n",
       "      <td>29</td>\n",
       "      <td>0.002193</td>\n",
       "      <td>0.002193</td>\n",
       "      <td>0.274582</td>\n",
       "      <td>...</td>\n",
       "      <td>0.433883</td>\n",
       "      <td>0.002193</td>\n",
       "      <td>0.281924</td>\n",
       "      <td>0.492270</td>\n",
       "      <td>0.989960</td>\n",
       "      <td>0.000278</td>\n",
       "      <td>0.134378</td>\n",
       "      <td>0.056928</td>\n",
       "      <td>sadness</td>\n",
       "      <td>1.0</td>\n",
       "    </tr>\n",
       "    <tr>\n",
       "      <th>17098</th>\n",
       "      <td>54321</td>\n",
       "      <td>dean martin</td>\n",
       "      <td>just for fun</td>\n",
       "      <td>1950</td>\n",
       "      <td>jazz</td>\n",
       "      <td>softly sigh close maybe agree hand magic land ...</td>\n",
       "      <td>26</td>\n",
       "      <td>0.003096</td>\n",
       "      <td>0.003096</td>\n",
       "      <td>0.003096</td>\n",
       "      <td>...</td>\n",
       "      <td>0.599486</td>\n",
       "      <td>0.003096</td>\n",
       "      <td>0.307917</td>\n",
       "      <td>0.468272</td>\n",
       "      <td>0.964859</td>\n",
       "      <td>0.000457</td>\n",
       "      <td>0.266282</td>\n",
       "      <td>0.109081</td>\n",
       "      <td>sadness</td>\n",
       "      <td>1.0</td>\n",
       "    </tr>\n",
       "    <tr>\n",
       "      <th>17099</th>\n",
       "      <td>54324</td>\n",
       "      <td>dean martin</td>\n",
       "      <td>absence makes the heart grow fonder (for someb...</td>\n",
       "      <td>1950</td>\n",
       "      <td>jazz</td>\n",
       "      <td>leave know grieve remember absence make heart ...</td>\n",
       "      <td>48</td>\n",
       "      <td>0.001645</td>\n",
       "      <td>0.001645</td>\n",
       "      <td>0.294425</td>\n",
       "      <td>...</td>\n",
       "      <td>0.350569</td>\n",
       "      <td>0.182082</td>\n",
       "      <td>0.177949</td>\n",
       "      <td>0.537856</td>\n",
       "      <td>0.936747</td>\n",
       "      <td>0.255061</td>\n",
       "      <td>0.168384</td>\n",
       "      <td>0.122095</td>\n",
       "      <td>sadness</td>\n",
       "      <td>1.0</td>\n",
       "    </tr>\n",
       "  </tbody>\n",
       "</table>\n",
       "<p>5 rows × 31 columns</p>\n",
       "</div>"
      ],
      "text/plain": [
       "       Unnamed: 0  artist_name  \\\n",
       "0               0       mukesh   \n",
       "17096       54315  dean martin   \n",
       "17097       54319  dean martin   \n",
       "17098       54321  dean martin   \n",
       "17099       54324  dean martin   \n",
       "\n",
       "                                              track_name  release_date genre  \\\n",
       "0                                   mohabbat bhi jhoothi          1950   pop   \n",
       "17096                                  be honest with me          1950  jazz   \n",
       "17097                                       three wishes          1950  jazz   \n",
       "17098                                       just for fun          1950  jazz   \n",
       "17099  absence makes the heart grow fonder (for someb...          1950  jazz   \n",
       "\n",
       "                                                  lyrics  words    dating  \\\n",
       "0      hold time feel break feel untrue convince spea...     95  0.000598   \n",
       "17096  honest dear remember dear true wander land hon...     29  0.002392   \n",
       "17097  wish simple wish wish wish days gladness sweet...     29  0.002193   \n",
       "17098  softly sigh close maybe agree hand magic land ...     26  0.003096   \n",
       "17099  leave know grieve remember absence make heart ...     48  0.001645   \n",
       "\n",
       "       violence  world/life  ...   sadness  feelings  danceability  loudness  \\\n",
       "0      0.063746    0.000598  ...  0.380299  0.117175      0.357739  0.454119   \n",
       "17096  0.002392    0.002392  ...  0.220670  0.002392      0.555941  0.635079   \n",
       "17097  0.002193    0.274582  ...  0.433883  0.002193      0.281924  0.492270   \n",
       "17098  0.003096    0.003096  ...  0.599486  0.003096      0.307917  0.468272   \n",
       "17099  0.001645    0.294425  ...  0.350569  0.182082      0.177949  0.537856   \n",
       "\n",
       "       acousticness  instrumentalness   valence    energy     topic  age  \n",
       "0          0.997992          0.901822  0.339448  0.137110   sadness  1.0  \n",
       "17096      0.887550          0.000000  0.924773  0.322301  romantic  1.0  \n",
       "17097      0.989960          0.000278  0.134378  0.056928   sadness  1.0  \n",
       "17098      0.964859          0.000457  0.266282  0.109081   sadness  1.0  \n",
       "17099      0.936747          0.255061  0.168384  0.122095   sadness  1.0  \n",
       "\n",
       "[5 rows x 31 columns]"
      ]
     },
     "execution_count": 17,
     "metadata": {},
     "output_type": "execute_result"
    }
   ],
   "source": [
    "music_df.head()"
   ]
  },
  {
   "cell_type": "code",
   "execution_count": 18,
   "id": "9dad792b",
   "metadata": {},
   "outputs": [],
   "source": [
    "train, test= np.split(music_df, [int(.80 *len(music_df))])"
   ]
  },
  {
   "cell_type": "code",
   "execution_count": 19,
   "id": "cb1b5b65",
   "metadata": {},
   "outputs": [
    {
     "data": {
      "text/plain": [
       "(1950, 2009, 22697)"
      ]
     },
     "execution_count": 19,
     "metadata": {},
     "output_type": "execute_result"
    }
   ],
   "source": [
    "train['release_date'].min(), train['release_date'].max(), train.shape[0]"
   ]
  },
  {
   "cell_type": "code",
   "execution_count": 20,
   "id": "e2296bea",
   "metadata": {},
   "outputs": [
    {
     "data": {
      "text/plain": [
       "(2009, 2019, 5675)"
      ]
     },
     "execution_count": 20,
     "metadata": {},
     "output_type": "execute_result"
    }
   ],
   "source": [
    "test['release_date'].min(), test['release_date'].max(), test.shape[0]"
   ]
  },
  {
   "cell_type": "code",
   "execution_count": 21,
   "id": "734e9d7b",
   "metadata": {},
   "outputs": [],
   "source": [
    "#Version hasta 2018. Es mucho mas que el 80 por ciento, como el 98.\n",
    "#train, test = music_df[music_df['release_date'] < 2018], music_df[music_df['release_date'] > 2018]\n",
    "#train.shape[0], test.shape[0]\n",
    "#(27185, 534)"
   ]
  },
  {
   "cell_type": "code",
   "execution_count": 22,
   "id": "50779c48",
   "metadata": {},
   "outputs": [
    {
     "data": {
      "text/plain": [
       "<AxesSubplot: >"
      ]
     },
     "execution_count": 22,
     "metadata": {},
     "output_type": "execute_result"
    },
    {
     "data": {
      "image/png": "[encoded data removed]",
      "text/plain": [
       "<Figure size 640x480 with 1 Axes>"
      ]
     },
     "metadata": {},
     "output_type": "display_data"
    }
   ],
   "source": [
    "train['genre'].value_counts().plot.bar()"
   ]
  },
  {
   "cell_type": "code",
   "execution_count": 23,
   "id": "9595b67d",
   "metadata": {},
   "outputs": [
    {
     "data": {
      "text/plain": [
       "<AxesSubplot: >"
      ]
     },
     "execution_count": 23,
     "metadata": {},
     "output_type": "execute_result"
    },
    {
     "data": {
      "image/png": "[encoded data removed]",
      "text/plain": [
       "<Figure size 640x480 with 1 Axes>"
      ]
     },
     "metadata": {},
     "output_type": "display_data"
    }
   ],
   "source": [
    "test['genre'].value_counts().plot.bar()"
   ]
  },
  {
   "cell_type": "markdown",
   "id": "45431e25",
   "metadata": {},
   "source": [
    "Esta bastante balanceado. Pop tiene muchas más pero tambien era asi en train."
   ]
  },
  {
   "cell_type": "markdown",
   "id": "9f12bc6c",
   "metadata": {},
   "source": [
    "## Hay canciones con más de un genero?"
   ]
  },
  {
   "cell_type": "code",
   "execution_count": 24,
   "id": "8ce70cee",
   "metadata": {},
   "outputs": [
    {
     "data": {
      "text/plain": [
       "0"
      ]
     },
     "execution_count": 24,
     "metadata": {},
     "output_type": "execute_result"
    }
   ],
   "source": [
    "len(music_df[['artist_name', 'track_name']])-len(music_df[['artist_name', 'track_name']].drop_duplicates())"
   ]
  },
  {
   "cell_type": "markdown",
   "id": "67e1e778",
   "metadata": {},
   "source": [
    "Al parecer no."
   ]
  },
  {
   "cell_type": "markdown",
   "id": "6447942a",
   "metadata": {},
   "source": [
    "## Como son las lyrics?"
   ]
  },
  {
   "cell_type": "code",
   "execution_count": 25,
   "id": "6be8ceab",
   "metadata": {},
   "outputs": [
    {
     "data": {
      "text/html": [
       "<div>\n",
       "<style scoped>\n",
       "    .dataframe tbody tr th:only-of-type {\n",
       "        vertical-align: middle;\n",
       "    }\n",
       "\n",
       "    .dataframe tbody tr th {\n",
       "        vertical-align: top;\n",
       "    }\n",
       "\n",
       "    .dataframe thead th {\n",
       "        text-align: right;\n",
       "    }\n",
       "</style>\n",
       "<table border=\"1\" class=\"dataframe\">\n",
       "  <thead>\n",
       "    <tr style=\"text-align: right;\">\n",
       "      <th></th>\n",
       "      <th>lyrics</th>\n",
       "      <th>track_name</th>\n",
       "    </tr>\n",
       "  </thead>\n",
       "  <tbody>\n",
       "    <tr>\n",
       "      <th>0</th>\n",
       "      <td>hold time feel break feel untrue convince spea...</td>\n",
       "      <td>mohabbat bhi jhoothi</td>\n",
       "    </tr>\n",
       "    <tr>\n",
       "      <th>17096</th>\n",
       "      <td>honest dear remember dear true wander land hon...</td>\n",
       "      <td>be honest with me</td>\n",
       "    </tr>\n",
       "    <tr>\n",
       "      <th>17097</th>\n",
       "      <td>wish simple wish wish wish days gladness sweet...</td>\n",
       "      <td>three wishes</td>\n",
       "    </tr>\n",
       "    <tr>\n",
       "      <th>17098</th>\n",
       "      <td>softly sigh close maybe agree hand magic land ...</td>\n",
       "      <td>just for fun</td>\n",
       "    </tr>\n",
       "    <tr>\n",
       "      <th>17099</th>\n",
       "      <td>leave know grieve remember absence make heart ...</td>\n",
       "      <td>absence makes the heart grow fonder (for someb...</td>\n",
       "    </tr>\n",
       "    <tr>\n",
       "      <th>...</th>\n",
       "      <td>...</td>\n",
       "      <td>...</td>\n",
       "    </tr>\n",
       "    <tr>\n",
       "      <th>7025</th>\n",
       "      <td>baby feel good word understand word laugh like...</td>\n",
       "      <td>wish you were gay</td>\n",
       "    </tr>\n",
       "    <tr>\n",
       "      <th>7026</th>\n",
       "      <td>combat ready combat want cause cruelty win mov...</td>\n",
       "      <td>the archer</td>\n",
       "    </tr>\n",
       "    <tr>\n",
       "      <th>7027</th>\n",
       "      <td>laughter come tear laughter come tear night pa...</td>\n",
       "      <td>fake smile</td>\n",
       "    </tr>\n",
       "    <tr>\n",
       "      <th>7009</th>\n",
       "      <td>come need time catch life right know ohohoh fo...</td>\n",
       "      <td>paris morton music</td>\n",
       "    </tr>\n",
       "    <tr>\n",
       "      <th>28371</th>\n",
       "      <td>remix killer alive remix thriller trap bitch s...</td>\n",
       "      <td>r.i.p.</td>\n",
       "    </tr>\n",
       "  </tbody>\n",
       "</table>\n",
       "<p>28372 rows × 2 columns</p>\n",
       "</div>"
      ],
      "text/plain": [
       "                                                  lyrics  \\\n",
       "0      hold time feel break feel untrue convince spea...   \n",
       "17096  honest dear remember dear true wander land hon...   \n",
       "17097  wish simple wish wish wish days gladness sweet...   \n",
       "17098  softly sigh close maybe agree hand magic land ...   \n",
       "17099  leave know grieve remember absence make heart ...   \n",
       "...                                                  ...   \n",
       "7025   baby feel good word understand word laugh like...   \n",
       "7026   combat ready combat want cause cruelty win mov...   \n",
       "7027   laughter come tear laughter come tear night pa...   \n",
       "7009   come need time catch life right know ohohoh fo...   \n",
       "28371  remix killer alive remix thriller trap bitch s...   \n",
       "\n",
       "                                              track_name  \n",
       "0                                   mohabbat bhi jhoothi  \n",
       "17096                                  be honest with me  \n",
       "17097                                       three wishes  \n",
       "17098                                       just for fun  \n",
       "17099  absence makes the heart grow fonder (for someb...  \n",
       "...                                                  ...  \n",
       "7025                                   wish you were gay  \n",
       "7026                                          the archer  \n",
       "7027                                          fake smile  \n",
       "7009                                  paris morton music  \n",
       "28371                                             r.i.p.  \n",
       "\n",
       "[28372 rows x 2 columns]"
      ]
     },
     "execution_count": 25,
     "metadata": {},
     "output_type": "execute_result"
    }
   ],
   "source": [
    "music_df[['lyrics','track_name']]"
   ]
  },
  {
   "cell_type": "code",
   "execution_count": 26,
   "id": "745f9543",
   "metadata": {},
   "outputs": [
    {
     "data": {
      "text/plain": [
       "'hold time feel break feel untrue convince speak voice tear try hold hurt try forgive okay play break string feel heart want feel tell real truth hurt lie worse anymore little turn dust play house ruin run leave save like chase train late late tear try hold hurt try forgive okay play break string feel heart want feel tell real truth hurt lie worse anymore little run leave save like chase train know late late play break string feel heart want feel tell real truth hurt lie worse anymore little know little hold time feel'"
      ]
     },
     "execution_count": 26,
     "metadata": {},
     "output_type": "execute_result"
    }
   ],
   "source": [
    "music_df[['lyrics','track_name']].iloc[0]['lyrics']"
   ]
  },
  {
   "cell_type": "code",
   "execution_count": 27,
   "id": "91ab7048",
   "metadata": {},
   "outputs": [],
   "source": [
    "#Faltan conectores no? Al parecer es hindu y esta traducido. Rompera fast text? yo creo que no"
   ]
  }
 ],
 "metadata": {
  "kernelspec": {
   "display_name": "Python 3 (ipykernel)",
   "language": "python",
   "name": "python3"
  },
  "language_info": {
   "codemirror_mode": {
    "name": "ipython",
    "version": 3
   },
   "file_extension": ".py",
   "mimetype": "text/x-python",
   "name": "python",
   "nbconvert_exporter": "python",
   "pygments_lexer": "ipython3",
   "version": "3.10.6"
  }
 },
 "nbformat": 4,
 "nbformat_minor": 5
}
