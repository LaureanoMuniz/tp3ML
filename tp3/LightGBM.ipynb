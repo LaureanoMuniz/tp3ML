{
 "cells": [
  {
   "cell_type": "code",
   "execution_count": 2,
   "metadata": {},
   "outputs": [
    {
     "name": "stdout",
     "output_type": "stream",
     "text": [
      "Defaulting to user installation because normal site-packages is not writeable\n",
      "Requirement already satisfied: lightgbm in /home/laureano/.local/lib/python3.10/site-packages (3.3.3)\n",
      "Requirement already satisfied: scipy in /home/laureano/.local/lib/python3.10/site-packages (from lightgbm) (1.9.1)\n",
      "Requirement already satisfied: numpy in /home/laureano/.local/lib/python3.10/site-packages (from lightgbm) (1.23.2)\n",
      "Requirement already satisfied: wheel in /usr/lib/python3/dist-packages (from lightgbm) (0.37.1)\n",
      "Requirement already satisfied: scikit-learn!=0.22.0 in /home/laureano/.local/lib/python3.10/site-packages (from lightgbm) (1.1.2)\n",
      "Requirement already satisfied: joblib>=1.0.0 in /home/laureano/.local/lib/python3.10/site-packages (from scikit-learn!=0.22.0->lightgbm) (1.2.0)\n",
      "Requirement already satisfied: threadpoolctl>=2.0.0 in /home/laureano/.local/lib/python3.10/site-packages (from scikit-learn!=0.22.0->lightgbm) (3.1.0)\n"
     ]
    }
   ],
   "source": [
    "!pip install lightgbm"
   ]
  },
  {
   "cell_type": "code",
   "execution_count": 1,
   "metadata": {},
   "outputs": [],
   "source": [
    "from lib import evaluate\n",
    "from lib.serialize import iter_jl\n",
    "import pandas as pd\n"
   ]
  },
  {
   "cell_type": "code",
   "execution_count": 2,
   "metadata": {},
   "outputs": [],
   "source": [
    "%reload_ext autoreload\n",
    "%autoreload 2"
   ]
  },
  {
   "cell_type": "code",
   "execution_count": 3,
   "metadata": {},
   "outputs": [],
   "source": [
    "dict_genres = {'pop': 1, 'country': 2, 'blues': 3, 'rock': 4, 'jazz': 5, \"reggae\": 6, \"hip hop\": 7}"
   ]
  },
  {
   "cell_type": "code",
   "execution_count": 4,
   "metadata": {},
   "outputs": [],
   "source": [
    "df = pd.read_csv('tcc_ceds_music.csv')"
   ]
  },
  {
   "cell_type": "code",
   "execution_count": 5,
   "metadata": {},
   "outputs": [],
   "source": [
    "df['genre'] = df['genre'].apply(lambda x: dict_genres[x])"
   ]
  },
  {
   "cell_type": "code",
   "execution_count": 6,
   "metadata": {},
   "outputs": [
    {
     "data": {
      "text/html": [
       "<div>\n",
       "<style scoped>\n",
       "    .dataframe tbody tr th:only-of-type {\n",
       "        vertical-align: middle;\n",
       "    }\n",
       "\n",
       "    .dataframe tbody tr th {\n",
       "        vertical-align: top;\n",
       "    }\n",
       "\n",
       "    .dataframe thead th {\n",
       "        text-align: right;\n",
       "    }\n",
       "</style>\n",
       "<table border=\"1\" class=\"dataframe\">\n",
       "  <thead>\n",
       "    <tr style=\"text-align: right;\">\n",
       "      <th></th>\n",
       "      <th>Unnamed: 0</th>\n",
       "      <th>artist_name</th>\n",
       "      <th>track_name</th>\n",
       "      <th>release_date</th>\n",
       "      <th>genre</th>\n",
       "      <th>lyrics</th>\n",
       "      <th>len</th>\n",
       "      <th>dating</th>\n",
       "      <th>violence</th>\n",
       "      <th>world/life</th>\n",
       "      <th>...</th>\n",
       "      <th>sadness</th>\n",
       "      <th>feelings</th>\n",
       "      <th>danceability</th>\n",
       "      <th>loudness</th>\n",
       "      <th>acousticness</th>\n",
       "      <th>instrumentalness</th>\n",
       "      <th>valence</th>\n",
       "      <th>energy</th>\n",
       "      <th>topic</th>\n",
       "      <th>age</th>\n",
       "    </tr>\n",
       "  </thead>\n",
       "  <tbody>\n",
       "    <tr>\n",
       "      <td>0</td>\n",
       "      <td>0</td>\n",
       "      <td>mukesh</td>\n",
       "      <td>mohabbat bhi jhoothi</td>\n",
       "      <td>1950</td>\n",
       "      <td>1</td>\n",
       "      <td>hold time feel break feel untrue convince spea...</td>\n",
       "      <td>95</td>\n",
       "      <td>0.000598</td>\n",
       "      <td>0.063746</td>\n",
       "      <td>0.000598</td>\n",
       "      <td>...</td>\n",
       "      <td>0.380299</td>\n",
       "      <td>0.117175</td>\n",
       "      <td>0.357739</td>\n",
       "      <td>0.454119</td>\n",
       "      <td>0.997992</td>\n",
       "      <td>0.901822</td>\n",
       "      <td>0.339448</td>\n",
       "      <td>0.137110</td>\n",
       "      <td>sadness</td>\n",
       "      <td>1.0</td>\n",
       "    </tr>\n",
       "    <tr>\n",
       "      <td>1</td>\n",
       "      <td>4</td>\n",
       "      <td>frankie laine</td>\n",
       "      <td>i believe</td>\n",
       "      <td>1950</td>\n",
       "      <td>1</td>\n",
       "      <td>believe drop rain fall grow believe darkest ni...</td>\n",
       "      <td>51</td>\n",
       "      <td>0.035537</td>\n",
       "      <td>0.096777</td>\n",
       "      <td>0.443435</td>\n",
       "      <td>...</td>\n",
       "      <td>0.001284</td>\n",
       "      <td>0.001284</td>\n",
       "      <td>0.331745</td>\n",
       "      <td>0.647540</td>\n",
       "      <td>0.954819</td>\n",
       "      <td>0.000002</td>\n",
       "      <td>0.325021</td>\n",
       "      <td>0.263240</td>\n",
       "      <td>world/life</td>\n",
       "      <td>1.0</td>\n",
       "    </tr>\n",
       "    <tr>\n",
       "      <td>2</td>\n",
       "      <td>6</td>\n",
       "      <td>johnnie ray</td>\n",
       "      <td>cry</td>\n",
       "      <td>1950</td>\n",
       "      <td>1</td>\n",
       "      <td>sweetheart send letter goodbye secret feel bet...</td>\n",
       "      <td>24</td>\n",
       "      <td>0.002770</td>\n",
       "      <td>0.002770</td>\n",
       "      <td>0.002770</td>\n",
       "      <td>...</td>\n",
       "      <td>0.002770</td>\n",
       "      <td>0.225422</td>\n",
       "      <td>0.456298</td>\n",
       "      <td>0.585288</td>\n",
       "      <td>0.840361</td>\n",
       "      <td>0.000000</td>\n",
       "      <td>0.351814</td>\n",
       "      <td>0.139112</td>\n",
       "      <td>music</td>\n",
       "      <td>1.0</td>\n",
       "    </tr>\n",
       "    <tr>\n",
       "      <td>3</td>\n",
       "      <td>10</td>\n",
       "      <td>pérez prado</td>\n",
       "      <td>patricia</td>\n",
       "      <td>1950</td>\n",
       "      <td>1</td>\n",
       "      <td>kiss lips want stroll charm mambo chacha merin...</td>\n",
       "      <td>54</td>\n",
       "      <td>0.048249</td>\n",
       "      <td>0.001548</td>\n",
       "      <td>0.001548</td>\n",
       "      <td>...</td>\n",
       "      <td>0.225889</td>\n",
       "      <td>0.001548</td>\n",
       "      <td>0.686992</td>\n",
       "      <td>0.744404</td>\n",
       "      <td>0.083935</td>\n",
       "      <td>0.199393</td>\n",
       "      <td>0.775350</td>\n",
       "      <td>0.743736</td>\n",
       "      <td>romantic</td>\n",
       "      <td>1.0</td>\n",
       "    </tr>\n",
       "    <tr>\n",
       "      <td>4</td>\n",
       "      <td>12</td>\n",
       "      <td>giorgos papadopoulos</td>\n",
       "      <td>apopse eida oneiro</td>\n",
       "      <td>1950</td>\n",
       "      <td>1</td>\n",
       "      <td>till darling till matter know till dream live ...</td>\n",
       "      <td>48</td>\n",
       "      <td>0.001350</td>\n",
       "      <td>0.001350</td>\n",
       "      <td>0.417772</td>\n",
       "      <td>...</td>\n",
       "      <td>0.068800</td>\n",
       "      <td>0.001350</td>\n",
       "      <td>0.291671</td>\n",
       "      <td>0.646489</td>\n",
       "      <td>0.975904</td>\n",
       "      <td>0.000246</td>\n",
       "      <td>0.597073</td>\n",
       "      <td>0.394375</td>\n",
       "      <td>romantic</td>\n",
       "      <td>1.0</td>\n",
       "    </tr>\n",
       "  </tbody>\n",
       "</table>\n",
       "<p>5 rows × 31 columns</p>\n",
       "</div>"
      ],
      "text/plain": [
       "   Unnamed: 0           artist_name            track_name  release_date  \\\n",
       "0           0                mukesh  mohabbat bhi jhoothi          1950   \n",
       "1           4         frankie laine             i believe          1950   \n",
       "2           6           johnnie ray                   cry          1950   \n",
       "3          10           pérez prado              patricia          1950   \n",
       "4          12  giorgos papadopoulos    apopse eida oneiro          1950   \n",
       "\n",
       "   genre                                             lyrics  len    dating  \\\n",
       "0      1  hold time feel break feel untrue convince spea...   95  0.000598   \n",
       "1      1  believe drop rain fall grow believe darkest ni...   51  0.035537   \n",
       "2      1  sweetheart send letter goodbye secret feel bet...   24  0.002770   \n",
       "3      1  kiss lips want stroll charm mambo chacha merin...   54  0.048249   \n",
       "4      1  till darling till matter know till dream live ...   48  0.001350   \n",
       "\n",
       "   violence  world/life  ...   sadness  feelings  danceability  loudness  \\\n",
       "0  0.063746    0.000598  ...  0.380299  0.117175      0.357739  0.454119   \n",
       "1  0.096777    0.443435  ...  0.001284  0.001284      0.331745  0.647540   \n",
       "2  0.002770    0.002770  ...  0.002770  0.225422      0.456298  0.585288   \n",
       "3  0.001548    0.001548  ...  0.225889  0.001548      0.686992  0.744404   \n",
       "4  0.001350    0.417772  ...  0.068800  0.001350      0.291671  0.646489   \n",
       "\n",
       "   acousticness  instrumentalness   valence    energy       topic  age  \n",
       "0      0.997992          0.901822  0.339448  0.137110     sadness  1.0  \n",
       "1      0.954819          0.000002  0.325021  0.263240  world/life  1.0  \n",
       "2      0.840361          0.000000  0.351814  0.139112       music  1.0  \n",
       "3      0.083935          0.199393  0.775350  0.743736    romantic  1.0  \n",
       "4      0.975904          0.000246  0.597073  0.394375    romantic  1.0  \n",
       "\n",
       "[5 rows x 31 columns]"
      ]
     },
     "execution_count": 6,
     "metadata": {},
     "output_type": "execute_result"
    }
   ],
   "source": [
    "df.head()"
   ]
  },
  {
   "cell_type": "code",
   "execution_count": 7,
   "metadata": {},
   "outputs": [],
   "source": [
    "train, test = evaluate.date_split(df)"
   ]
  },
  {
   "cell_type": "code",
   "execution_count": 8,
   "metadata": {},
   "outputs": [],
   "source": [
    "X_train, y_train = evaluate.x_y_split(train)\n",
    "X_test, y_test = evaluate.x_y_split(test)"
   ]
  },
  {
   "cell_type": "code",
   "execution_count": 9,
   "metadata": {},
   "outputs": [],
   "source": [
    "evaluate.to_json_lines(X_train,y_train,'train')\n",
    "evaluate.to_json_lines(X_test,y_test,'test')"
   ]
  },
  {
   "cell_type": "code",
   "execution_count": 10,
   "metadata": {},
   "outputs": [],
   "source": [
    "X_train, y_train = iter_jl('X_train.jl'), iter_jl('y_train.jl')"
   ]
  },
  {
   "cell_type": "code",
   "execution_count": 11,
   "metadata": {},
   "outputs": [],
   "source": [
    "X_test, y_test = iter_jl('X_test.jl'), iter_jl('y_test.jl')"
   ]
  },
  {
   "cell_type": "code",
   "execution_count": 12,
   "metadata": {},
   "outputs": [],
   "source": [
    "X_train = list(X_train)\n",
    "y_train = list(y_train)\n",
    "X_test = list(X_test)\n",
    "y_test = list(y_test)"
   ]
  },
  {
   "cell_type": "code",
   "execution_count": 43,
   "metadata": {},
   "outputs": [],
   "source": [
    "from lib.transformers import FeatureProjectionFromJson, TargetEncoder, PretrainedFastTextTransformer, TargetEncodeWithNumerical\n",
    "from sklearn.pipeline import make_pipeline, make_union\n",
    "from sklearn.preprocessing import OneHotEncoder\n",
    "from sklearn.impute import SimpleImputer\n",
    "from sklearn.preprocessing import StandardScaler\n",
    "\n",
    "fields = ['age','violence','world/life','night/time', 'shake the audience',\n",
    "                            'family/gospel','romantic','communication','obscene','music','movement/places',\n",
    "                           'light/visual perceptions','family/spiritual','sadness',\n",
    "                           'danceability','loudness','acousticness','instrumentalness','valence','energy'] \n",
    "#saque algunos numericos: 'dating','like/girls','feelings',\n",
    "\n",
    "features_pipe = make_union(make_pipeline(\n",
    "        FeatureProjectionFromJson(fields)\n",
    "    ,SimpleImputer()\n",
    "),\n",
    "                          make_pipeline(TargetEncodeWithNumerical('topic', fields)),\n",
    "                           make_pipeline(TargetEncodeWithNumerical('artist_name', fields)),\n",
    "                           make_pipeline(PretrainedFastTextTransformer('lyrics_fasttext.bin','lyrics'))\n",
    "                          )"
   ]
  },
  {
   "cell_type": "code",
   "execution_count": 44,
   "metadata": {},
   "outputs": [],
   "source": [
    "import lightgbm as lgb"
   ]
  },
  {
   "cell_type": "code",
   "execution_count": 45,
   "metadata": {},
   "outputs": [
    {
     "name": "stderr",
     "output_type": "stream",
     "text": [
      "Warning : `load_model` does not return WordVectorModel or SupervisedModel any more, but a `FastText` object which is very similar.\n"
     ]
    },
    {
     "data": {
      "text/plain": [
       "Pipeline(steps=[('featureunion',\n",
       "                 FeatureUnion(transformer_list=[('pipeline-1',\n",
       "                                                 Pipeline(steps=[('featureprojectionfromjson',\n",
       "                                                                  FeatureProjectionFromJson(fields=['age',\n",
       "                                                                                                    'violence',\n",
       "                                                                                                    'world/life',\n",
       "                                                                                                    'night/time',\n",
       "                                                                                                    'shake '\n",
       "                                                                                                    'the '\n",
       "                                                                                                    'audience',\n",
       "                                                                                                    'family/gospel',\n",
       "                                                                                                    'romantic',\n",
       "                                                                                                    'communication',\n",
       "                                                                                                    'obscene',\n",
       "                                                                                                    'music',\n",
       "                                                                                                    'movement/places',\n",
       "                                                                                                    'light/visual '\n",
       "                                                                                                    'perceptions',\n",
       "                                                                                                    'family/spiritual',\n",
       "                                                                                                    's...\n",
       "                                                                                                              'light/visual '\n",
       "                                                                                                              'perceptions',\n",
       "                                                                                                              'family/spiritual',\n",
       "                                                                                                              'sadness',\n",
       "                                                                                                              'danceability',\n",
       "                                                                                                              'loudness',\n",
       "                                                                                                              'acousticness',\n",
       "                                                                                                              'instrumentalness',\n",
       "                                                                                                              'valence',\n",
       "                                                                                                              'energy']))])),\n",
       "                                                ('pipeline-4',\n",
       "                                                 Pipeline(steps=[('pretrainedfasttexttransformer',\n",
       "                                                                  PretrainedFastTextTransformer(field='lyrics',\n",
       "                                                                                                fname='lyrics_fasttext.bin'))]))])),\n",
       "                ('lgbmclassifier',\n",
       "                 LGBMClassifier(class_weight='balanced', random_state=42))])"
      ]
     },
     "execution_count": 45,
     "metadata": {},
     "output_type": "execute_result"
    }
   ],
   "source": [
    "rf_pipe = make_pipeline(\n",
    "    features_pipe,\n",
    "    lgb.LGBMClassifier(n_estimators =  100, random_state=42, class_weight = 'balanced')\n",
    ")\n",
    "rf_pipe.fit(X_train, y_train)"
   ]
  },
  {
   "cell_type": "code",
   "execution_count": 46,
   "metadata": {},
   "outputs": [],
   "source": [
    "from sklearn.metrics import accuracy_score, f1_score, precision_score, recall_score\n",
    "\n",
    "def get_metrics_multi(y_true, y_pred):\n",
    "    dicc = {'f1': f1_score(y_true, y_pred, average = 'macro'),\n",
    "      'precision': precision_score(y_true, y_pred, average = 'macro'),\n",
    "      'acc': accuracy_score(y_true, y_pred),\n",
    "      'recall': recall_score(y_true, y_pred, average = 'macro')}\n",
    "    print(dicc)\n",
    "    return(dicc)"
   ]
  },
  {
   "cell_type": "code",
   "execution_count": 47,
   "metadata": {},
   "outputs": [
    {
     "name": "stdout",
     "output_type": "stream",
     "text": [
      "{'f1': 0.9738126309181293, 'precision': 0.9714448624656292, 'acc': 0.9671052631578947, 'recall': 0.9763740669587105}\n"
     ]
    },
    {
     "data": {
      "text/plain": [
       "{'f1': 0.9738126309181293,\n",
       " 'precision': 0.9714448624656292,\n",
       " 'acc': 0.9671052631578947,\n",
       " 'recall': 0.9763740669587105}"
      ]
     },
     "execution_count": 47,
     "metadata": {},
     "output_type": "execute_result"
    }
   ],
   "source": [
    "get_metrics_multi(y_train,rf_pipe.predict(X_train))"
   ]
  },
  {
   "cell_type": "code",
   "execution_count": 48,
   "metadata": {},
   "outputs": [],
   "source": [
    "preds = rf_pipe.predict(X_test)"
   ]
  },
  {
   "cell_type": "code",
   "execution_count": 49,
   "metadata": {},
   "outputs": [
    {
     "name": "stdout",
     "output_type": "stream",
     "text": [
      "{'f1': 0.6883958407994448, 'precision': 0.7066477173800066, 'acc': 0.6861344537815126, 'recall': 0.6841020109121635}\n"
     ]
    },
    {
     "data": {
      "text/plain": [
       "{'f1': 0.6883958407994448,\n",
       " 'precision': 0.7066477173800066,\n",
       " 'acc': 0.6861344537815126,\n",
       " 'recall': 0.6841020109121635}"
      ]
     },
     "execution_count": 49,
     "metadata": {},
     "output_type": "execute_result"
    }
   ],
   "source": [
    "get_metrics_multi(y_test,preds)"
   ]
  },
  {
   "cell_type": "code",
   "execution_count": 50,
   "metadata": {},
   "outputs": [],
   "source": [
    "from sklearn.metrics import confusion_matrix, ConfusionMatrixDisplay\n",
    "import matplotlib.pylab as plt"
   ]
  },
  {
   "cell_type": "code",
   "execution_count": 51,
   "metadata": {},
   "outputs": [
    {
     "data": {
      "image/png": "[encoded data removed]",
      "text/plain": [
       "<Figure size 648x648 with 2 Axes>"
      ]
     },
     "metadata": {
      "needs_background": "light"
     },
     "output_type": "display_data"
    }
   ],
   "source": [
    "fig, ax  = plt.subplots(figsize=(9, 9))\n",
    "disp = ConfusionMatrixDisplay.from_predictions(y_test, preds, normalize='true', ax=ax)\n",
    "ax.xaxis.set_ticklabels(list(dict_genres.keys()))\n",
    "ax.yaxis.set_ticklabels(list(dict_genres.keys()))\n",
    "ax.xaxis.set_tick_params(rotation=45)"
   ]
  },
  {
   "cell_type": "code",
   "execution_count": 24,
   "metadata": {},
   "outputs": [],
   "source": [
    "def get_confused_with(trueCategory,predictedCategory):\n",
    "    indexes = []\n",
    "    for i,(pred,true) in enumerate(zip(preds,y_test)):\n",
    "        if pred == predictedCategory and true == trueCategory:\n",
    "            indexes.append(i)\n",
    "    return indexes"
   ]
  },
  {
   "cell_type": "code",
   "execution_count": 26,
   "metadata": {
    "scrolled": true
   },
   "outputs": [
    {
     "data": {
      "text/html": [
       "<div>\n",
       "<style scoped>\n",
       "    .dataframe tbody tr th:only-of-type {\n",
       "        vertical-align: middle;\n",
       "    }\n",
       "\n",
       "    .dataframe tbody tr th {\n",
       "        vertical-align: top;\n",
       "    }\n",
       "\n",
       "    .dataframe thead th {\n",
       "        text-align: right;\n",
       "    }\n",
       "</style>\n",
       "<table border=\"1\" class=\"dataframe\">\n",
       "  <thead>\n",
       "    <tr style=\"text-align: right;\">\n",
       "      <th></th>\n",
       "      <th>Unnamed: 0</th>\n",
       "      <th>artist_name</th>\n",
       "      <th>track_name</th>\n",
       "      <th>release_date</th>\n",
       "      <th>genre</th>\n",
       "      <th>lyrics</th>\n",
       "      <th>len</th>\n",
       "      <th>dating</th>\n",
       "      <th>violence</th>\n",
       "      <th>world/life</th>\n",
       "      <th>...</th>\n",
       "      <th>sadness</th>\n",
       "      <th>feelings</th>\n",
       "      <th>danceability</th>\n",
       "      <th>loudness</th>\n",
       "      <th>acousticness</th>\n",
       "      <th>instrumentalness</th>\n",
       "      <th>valence</th>\n",
       "      <th>energy</th>\n",
       "      <th>topic</th>\n",
       "      <th>age</th>\n",
       "    </tr>\n",
       "  </thead>\n",
       "  <tbody>\n",
       "    <tr>\n",
       "      <td>12211</td>\n",
       "      <td>38224</td>\n",
       "      <td>charles kelley</td>\n",
       "      <td>lonely girl</td>\n",
       "      <td>2016</td>\n",
       "      <td>2</td>\n",
       "      <td>matter cry wasn dream gotta tell wasn good lon...</td>\n",
       "      <td>64</td>\n",
       "      <td>0.000849</td>\n",
       "      <td>0.000849</td>\n",
       "      <td>0.000849</td>\n",
       "      <td>...</td>\n",
       "      <td>0.372014</td>\n",
       "      <td>0.022126</td>\n",
       "      <td>0.779053</td>\n",
       "      <td>0.757916</td>\n",
       "      <td>0.073292</td>\n",
       "      <td>0.000000</td>\n",
       "      <td>0.739283</td>\n",
       "      <td>0.663653</td>\n",
       "      <td>sadness</td>\n",
       "      <td>0.057143</td>\n",
       "    </tr>\n",
       "    <tr>\n",
       "      <td>12226</td>\n",
       "      <td>38313</td>\n",
       "      <td>brothers osborne</td>\n",
       "      <td>pawn shop</td>\n",
       "      <td>2016</td>\n",
       "      <td>2</td>\n",
       "      <td>bill need cash like yesterday junk lay credit ...</td>\n",
       "      <td>105</td>\n",
       "      <td>0.001196</td>\n",
       "      <td>0.001196</td>\n",
       "      <td>0.170479</td>\n",
       "      <td>...</td>\n",
       "      <td>0.001196</td>\n",
       "      <td>0.001196</td>\n",
       "      <td>0.626340</td>\n",
       "      <td>0.759762</td>\n",
       "      <td>0.082529</td>\n",
       "      <td>0.000022</td>\n",
       "      <td>0.975268</td>\n",
       "      <td>0.885882</td>\n",
       "      <td>obscene</td>\n",
       "      <td>0.057143</td>\n",
       "    </tr>\n",
       "    <tr>\n",
       "      <td>12241</td>\n",
       "      <td>38387</td>\n",
       "      <td>jelly roll</td>\n",
       "      <td>when i get rich</td>\n",
       "      <td>2016</td>\n",
       "      <td>2</td>\n",
       "      <td>yeah yeah yeah tell yeah mammy break yesterday...</td>\n",
       "      <td>181</td>\n",
       "      <td>0.030875</td>\n",
       "      <td>0.025906</td>\n",
       "      <td>0.000399</td>\n",
       "      <td>...</td>\n",
       "      <td>0.363573</td>\n",
       "      <td>0.000399</td>\n",
       "      <td>0.458464</td>\n",
       "      <td>0.760480</td>\n",
       "      <td>0.081626</td>\n",
       "      <td>0.000000</td>\n",
       "      <td>0.548640</td>\n",
       "      <td>0.905903</td>\n",
       "      <td>sadness</td>\n",
       "      <td>0.057143</td>\n",
       "    </tr>\n",
       "    <tr>\n",
       "      <td>12244</td>\n",
       "      <td>38395</td>\n",
       "      <td>chase bryant</td>\n",
       "      <td>room to breathe</td>\n",
       "      <td>2016</td>\n",
       "      <td>2</td>\n",
       "      <td>girl heart beat chest baby leave bring close l...</td>\n",
       "      <td>18</td>\n",
       "      <td>0.117100</td>\n",
       "      <td>0.003509</td>\n",
       "      <td>0.003509</td>\n",
       "      <td>...</td>\n",
       "      <td>0.548289</td>\n",
       "      <td>0.003509</td>\n",
       "      <td>0.709737</td>\n",
       "      <td>0.791067</td>\n",
       "      <td>0.040059</td>\n",
       "      <td>0.000002</td>\n",
       "      <td>0.799052</td>\n",
       "      <td>0.761754</td>\n",
       "      <td>sadness</td>\n",
       "      <td>0.057143</td>\n",
       "    </tr>\n",
       "    <tr>\n",
       "      <td>12246</td>\n",
       "      <td>38401</td>\n",
       "      <td>justin moore</td>\n",
       "      <td>got it good</td>\n",
       "      <td>2016</td>\n",
       "      <td>2</td>\n",
       "      <td>wake morning warn little bounce blue eye start...</td>\n",
       "      <td>124</td>\n",
       "      <td>0.017975</td>\n",
       "      <td>0.000474</td>\n",
       "      <td>0.000474</td>\n",
       "      <td>...</td>\n",
       "      <td>0.000474</td>\n",
       "      <td>0.414480</td>\n",
       "      <td>0.743312</td>\n",
       "      <td>0.768761</td>\n",
       "      <td>0.223895</td>\n",
       "      <td>0.000167</td>\n",
       "      <td>0.611500</td>\n",
       "      <td>0.622611</td>\n",
       "      <td>feelings</td>\n",
       "      <td>0.057143</td>\n",
       "    </tr>\n",
       "    <tr>\n",
       "      <td>...</td>\n",
       "      <td>...</td>\n",
       "      <td>...</td>\n",
       "      <td>...</td>\n",
       "      <td>...</td>\n",
       "      <td>...</td>\n",
       "      <td>...</td>\n",
       "      <td>...</td>\n",
       "      <td>...</td>\n",
       "      <td>...</td>\n",
       "      <td>...</td>\n",
       "      <td>...</td>\n",
       "      <td>...</td>\n",
       "      <td>...</td>\n",
       "      <td>...</td>\n",
       "      <td>...</td>\n",
       "      <td>...</td>\n",
       "      <td>...</td>\n",
       "      <td>...</td>\n",
       "      <td>...</td>\n",
       "      <td>...</td>\n",
       "      <td>...</td>\n",
       "    </tr>\n",
       "    <tr>\n",
       "      <td>12468</td>\n",
       "      <td>39623</td>\n",
       "      <td>adam calhoun</td>\n",
       "      <td>clean money</td>\n",
       "      <td>2019</td>\n",
       "      <td>2</td>\n",
       "      <td>sure doin puttin hard work earn early wanna cl...</td>\n",
       "      <td>168</td>\n",
       "      <td>0.000358</td>\n",
       "      <td>0.000358</td>\n",
       "      <td>0.000358</td>\n",
       "      <td>...</td>\n",
       "      <td>0.000358</td>\n",
       "      <td>0.000358</td>\n",
       "      <td>0.542944</td>\n",
       "      <td>0.732021</td>\n",
       "      <td>0.055923</td>\n",
       "      <td>0.000000</td>\n",
       "      <td>0.286892</td>\n",
       "      <td>0.502487</td>\n",
       "      <td>obscene</td>\n",
       "      <td>0.014286</td>\n",
       "    </tr>\n",
       "    <tr>\n",
       "      <td>12478</td>\n",
       "      <td>39672</td>\n",
       "      <td>kane brown</td>\n",
       "      <td>live forever</td>\n",
       "      <td>2019</td>\n",
       "      <td>2</td>\n",
       "      <td>life breathin like movie sound turn felt nothi...</td>\n",
       "      <td>77</td>\n",
       "      <td>0.000741</td>\n",
       "      <td>0.000741</td>\n",
       "      <td>0.334113</td>\n",
       "      <td>...</td>\n",
       "      <td>0.000741</td>\n",
       "      <td>0.000741</td>\n",
       "      <td>0.701072</td>\n",
       "      <td>0.704330</td>\n",
       "      <td>0.689759</td>\n",
       "      <td>0.000000</td>\n",
       "      <td>0.333265</td>\n",
       "      <td>0.392373</td>\n",
       "      <td>world/life</td>\n",
       "      <td>0.014286</td>\n",
       "    </tr>\n",
       "    <tr>\n",
       "      <td>12479</td>\n",
       "      <td>39674</td>\n",
       "      <td>riley green</td>\n",
       "      <td>in love by now</td>\n",
       "      <td>2019</td>\n",
       "      <td>2</td>\n",
       "      <td>windows roll petty singin tan summer dancin lo...</td>\n",
       "      <td>84</td>\n",
       "      <td>0.000774</td>\n",
       "      <td>0.000774</td>\n",
       "      <td>0.000774</td>\n",
       "      <td>...</td>\n",
       "      <td>0.058974</td>\n",
       "      <td>0.098387</td>\n",
       "      <td>0.560273</td>\n",
       "      <td>0.793349</td>\n",
       "      <td>0.002268</td>\n",
       "      <td>0.000000</td>\n",
       "      <td>0.732069</td>\n",
       "      <td>0.886883</td>\n",
       "      <td>obscene</td>\n",
       "      <td>0.014286</td>\n",
       "    </tr>\n",
       "    <tr>\n",
       "      <td>12483</td>\n",
       "      <td>39717</td>\n",
       "      <td>john gurney</td>\n",
       "      <td>drink i think</td>\n",
       "      <td>2019</td>\n",
       "      <td>2</td>\n",
       "      <td>feel come alive take black break skin shake fo...</td>\n",
       "      <td>71</td>\n",
       "      <td>0.000849</td>\n",
       "      <td>0.449796</td>\n",
       "      <td>0.000849</td>\n",
       "      <td>...</td>\n",
       "      <td>0.260982</td>\n",
       "      <td>0.000849</td>\n",
       "      <td>0.617676</td>\n",
       "      <td>0.755173</td>\n",
       "      <td>0.362449</td>\n",
       "      <td>0.000005</td>\n",
       "      <td>0.614592</td>\n",
       "      <td>0.725717</td>\n",
       "      <td>violence</td>\n",
       "      <td>0.014286</td>\n",
       "    </tr>\n",
       "    <tr>\n",
       "      <td>12486</td>\n",
       "      <td>39728</td>\n",
       "      <td>adam doleac</td>\n",
       "      <td>puzzle of us</td>\n",
       "      <td>2019</td>\n",
       "      <td>2</td>\n",
       "      <td>leave corner shinin blue black bird flyin fiel...</td>\n",
       "      <td>102</td>\n",
       "      <td>0.000810</td>\n",
       "      <td>0.308060</td>\n",
       "      <td>0.000810</td>\n",
       "      <td>...</td>\n",
       "      <td>0.000810</td>\n",
       "      <td>0.047544</td>\n",
       "      <td>0.617676</td>\n",
       "      <td>0.734559</td>\n",
       "      <td>0.213855</td>\n",
       "      <td>0.000000</td>\n",
       "      <td>0.160140</td>\n",
       "      <td>0.542528</td>\n",
       "      <td>violence</td>\n",
       "      <td>0.014286</td>\n",
       "    </tr>\n",
       "  </tbody>\n",
       "</table>\n",
       "<p>70 rows × 31 columns</p>\n",
       "</div>"
      ],
      "text/plain": [
       "       Unnamed: 0       artist_name       track_name  release_date  genre  \\\n",
       "12211       38224    charles kelley      lonely girl          2016      2   \n",
       "12226       38313  brothers osborne        pawn shop          2016      2   \n",
       "12241       38387        jelly roll  when i get rich          2016      2   \n",
       "12244       38395      chase bryant  room to breathe          2016      2   \n",
       "12246       38401      justin moore      got it good          2016      2   \n",
       "...           ...               ...              ...           ...    ...   \n",
       "12468       39623      adam calhoun      clean money          2019      2   \n",
       "12478       39672        kane brown     live forever          2019      2   \n",
       "12479       39674       riley green   in love by now          2019      2   \n",
       "12483       39717       john gurney    drink i think          2019      2   \n",
       "12486       39728       adam doleac     puzzle of us          2019      2   \n",
       "\n",
       "                                                  lyrics  len    dating  \\\n",
       "12211  matter cry wasn dream gotta tell wasn good lon...   64  0.000849   \n",
       "12226  bill need cash like yesterday junk lay credit ...  105  0.001196   \n",
       "12241  yeah yeah yeah tell yeah mammy break yesterday...  181  0.030875   \n",
       "12244  girl heart beat chest baby leave bring close l...   18  0.117100   \n",
       "12246  wake morning warn little bounce blue eye start...  124  0.017975   \n",
       "...                                                  ...  ...       ...   \n",
       "12468  sure doin puttin hard work earn early wanna cl...  168  0.000358   \n",
       "12478  life breathin like movie sound turn felt nothi...   77  0.000741   \n",
       "12479  windows roll petty singin tan summer dancin lo...   84  0.000774   \n",
       "12483  feel come alive take black break skin shake fo...   71  0.000849   \n",
       "12486  leave corner shinin blue black bird flyin fiel...  102  0.000810   \n",
       "\n",
       "       violence  world/life  ...   sadness  feelings  danceability  loudness  \\\n",
       "12211  0.000849    0.000849  ...  0.372014  0.022126      0.779053  0.757916   \n",
       "12226  0.001196    0.170479  ...  0.001196  0.001196      0.626340  0.759762   \n",
       "12241  0.025906    0.000399  ...  0.363573  0.000399      0.458464  0.760480   \n",
       "12244  0.003509    0.003509  ...  0.548289  0.003509      0.709737  0.791067   \n",
       "12246  0.000474    0.000474  ...  0.000474  0.414480      0.743312  0.768761   \n",
       "...         ...         ...  ...       ...       ...           ...       ...   \n",
       "12468  0.000358    0.000358  ...  0.000358  0.000358      0.542944  0.732021   \n",
       "12478  0.000741    0.334113  ...  0.000741  0.000741      0.701072  0.704330   \n",
       "12479  0.000774    0.000774  ...  0.058974  0.098387      0.560273  0.793349   \n",
       "12483  0.449796    0.000849  ...  0.260982  0.000849      0.617676  0.755173   \n",
       "12486  0.308060    0.000810  ...  0.000810  0.047544      0.617676  0.734559   \n",
       "\n",
       "       acousticness  instrumentalness   valence    energy       topic  \\\n",
       "12211      0.073292          0.000000  0.739283  0.663653     sadness   \n",
       "12226      0.082529          0.000022  0.975268  0.885882     obscene   \n",
       "12241      0.081626          0.000000  0.548640  0.905903     sadness   \n",
       "12244      0.040059          0.000002  0.799052  0.761754     sadness   \n",
       "12246      0.223895          0.000167  0.611500  0.622611    feelings   \n",
       "...             ...               ...       ...       ...         ...   \n",
       "12468      0.055923          0.000000  0.286892  0.502487     obscene   \n",
       "12478      0.689759          0.000000  0.333265  0.392373  world/life   \n",
       "12479      0.002268          0.000000  0.732069  0.886883     obscene   \n",
       "12483      0.362449          0.000005  0.614592  0.725717    violence   \n",
       "12486      0.213855          0.000000  0.160140  0.542528    violence   \n",
       "\n",
       "            age  \n",
       "12211  0.057143  \n",
       "12226  0.057143  \n",
       "12241  0.057143  \n",
       "12244  0.057143  \n",
       "12246  0.057143  \n",
       "...         ...  \n",
       "12468  0.014286  \n",
       "12478  0.014286  \n",
       "12479  0.014286  \n",
       "12483  0.014286  \n",
       "12486  0.014286  \n",
       "\n",
       "[70 rows x 31 columns]"
      ]
     },
     "execution_count": 26,
     "metadata": {},
     "output_type": "execute_result"
    }
   ],
   "source": [
    "test.iloc[get_confused_with(2,1)]"
   ]
  },
  {
   "cell_type": "code",
   "execution_count": 60,
   "metadata": {},
   "outputs": [],
   "source": [
    "unseen_artists_test = test[~test['artist_name'].isin(train['artist_name'].unique())]"
   ]
  },
  {
   "cell_type": "code",
   "execution_count": 69,
   "metadata": {},
   "outputs": [],
   "source": [
    "X_unseen_artists_test, y_unseen_artists_test = evaluate.x_y_split(unseen_artists_test)\n",
    "evaluate.to_json_lines(X_unseen_artists_test,y_unseen_artists_test,'unseen_artists_test')\n",
    "X_unseen_artists_test, y_unseen_artists_test = list(iter_jl('X_unseen_artists_test.jl')), list(iter_jl('y_unseen_artists_test.jl'))"
   ]
  },
  {
   "cell_type": "code",
   "execution_count": 71,
   "metadata": {},
   "outputs": [],
   "source": [
    "unseen_artists_preds = rf_pipe.predict(X_unseen_artists_test)"
   ]
  },
  {
   "cell_type": "code",
   "execution_count": 72,
   "metadata": {
    "scrolled": true
   },
   "outputs": [
    {
     "data": {
      "image/png": "[encoded data removed]",
      "text/plain": [
       "<Figure size 648x648 with 2 Axes>"
      ]
     },
     "metadata": {
      "needs_background": "light"
     },
     "output_type": "display_data"
    }
   ],
   "source": [
    "fig, ax  = plt.subplots(figsize=(9, 9))\n",
    "disp = ConfusionMatrixDisplay.from_predictions(y_unseen_artists_test, unseen_artists_preds, normalize='true', ax=ax)\n",
    "ax.xaxis.set_ticklabels(list(dict_genres.keys()))\n",
    "ax.yaxis.set_ticklabels(list(dict_genres.keys()))\n",
    "ax.xaxis.set_tick_params(rotation=45)"
   ]
  },
  {
   "cell_type": "code",
   "execution_count": 73,
   "metadata": {},
   "outputs": [
    {
     "name": "stdout",
     "output_type": "stream",
     "text": [
      "{'f1': 0.5060621774794892, 'precision': 0.5316330215619497, 'acc': 0.5811240721102863, 'recall': 0.5121111002724187}\n"
     ]
    },
    {
     "data": {
      "text/plain": [
       "{'f1': 0.5060621774794892,\n",
       " 'precision': 0.5316330215619497,\n",
       " 'acc': 0.5811240721102863,\n",
       " 'recall': 0.5121111002724187}"
      ]
     },
     "execution_count": 73,
     "metadata": {},
     "output_type": "execute_result"
    }
   ],
   "source": [
    "get_metrics_multi(y_unseen_artists_test,unseen_artists_preds)"
   ]
  },
  {
   "cell_type": "code",
   "execution_count": null,
   "metadata": {},
   "outputs": [],
   "source": [
    " "
   ]
  }
 ],
 "metadata": {
  "kernelspec": {
   "display_name": "Python 3",
   "language": "python",
   "name": "python3"
  },
  "language_info": {
   "codemirror_mode": {
    "name": "ipython",
    "version": 3
   },
   "file_extension": ".py",
   "mimetype": "text/x-python",
   "name": "python",
   "nbconvert_exporter": "python",
   "pygments_lexer": "ipython3",
   "version": "3.7.4"
  }
 },
 "nbformat": 4,
 "nbformat_minor": 2
}
