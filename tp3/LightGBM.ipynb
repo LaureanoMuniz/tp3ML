{
 "cells": [
  {
   "cell_type": "code",
   "execution_count": 2,
   "metadata": {},
   "outputs": [
    {
     "name": "stdout",
     "output_type": "stream",
     "text": [
      "Defaulting to user installation because normal site-packages is not writeable\n",
      "Requirement already satisfied: lightgbm in /home/laureano/.local/lib/python3.10/site-packages (3.3.3)\n",
      "Requirement already satisfied: scipy in /home/laureano/.local/lib/python3.10/site-packages (from lightgbm) (1.9.1)\n",
      "Requirement already satisfied: numpy in /home/laureano/.local/lib/python3.10/site-packages (from lightgbm) (1.23.2)\n",
      "Requirement already satisfied: wheel in /usr/lib/python3/dist-packages (from lightgbm) (0.37.1)\n",
      "Requirement already satisfied: scikit-learn!=0.22.0 in /home/laureano/.local/lib/python3.10/site-packages (from lightgbm) (1.1.2)\n",
      "Requirement already satisfied: joblib>=1.0.0 in /home/laureano/.local/lib/python3.10/site-packages (from scikit-learn!=0.22.0->lightgbm) (1.2.0)\n",
      "Requirement already satisfied: threadpoolctl>=2.0.0 in /home/laureano/.local/lib/python3.10/site-packages (from scikit-learn!=0.22.0->lightgbm) (3.1.0)\n"
     ]
    }
   ],
   "source": [
    "!pip install lightgbm"
   ]
  },
  {
   "cell_type": "code",
   "execution_count": 4,
   "metadata": {},
   "outputs": [],
   "source": [
    "from lib import evaluate\n",
    "from lib.serialize import iter_jl\n",
    "import pandas as pd\n"
   ]
  },
  {
   "cell_type": "code",
   "execution_count": 80,
   "metadata": {},
   "outputs": [],
   "source": [
    "%reload_ext autoreload\n",
    "%autoreload 2"
   ]
  },
  {
   "cell_type": "code",
   "execution_count": 6,
   "metadata": {},
   "outputs": [],
   "source": [
    "dict_genres = {'pop': 1, 'country': 2, 'blues': 3, 'rock': 4, 'jazz': 5, \"reggae\": 6, \"hip hop\": 7}"
   ]
  },
  {
   "cell_type": "code",
   "execution_count": 7,
   "metadata": {},
   "outputs": [],
   "source": [
    "df = pd.read_csv('tcc_ceds_music.csv')"
   ]
  },
  {
   "cell_type": "code",
   "execution_count": 8,
   "metadata": {},
   "outputs": [],
   "source": [
    "df['genre'] = df['genre'].apply(lambda x: dict_genres[x])"
   ]
  },
  {
   "cell_type": "code",
   "execution_count": 119,
   "metadata": {},
   "outputs": [
    {
     "data": {
      "text/html": [
       "<div>\n",
       "<style scoped>\n",
       "    .dataframe tbody tr th:only-of-type {\n",
       "        vertical-align: middle;\n",
       "    }\n",
       "\n",
       "    .dataframe tbody tr th {\n",
       "        vertical-align: top;\n",
       "    }\n",
       "\n",
       "    .dataframe thead th {\n",
       "        text-align: right;\n",
       "    }\n",
       "</style>\n",
       "<table border=\"1\" class=\"dataframe\">\n",
       "  <thead>\n",
       "    <tr style=\"text-align: right;\">\n",
       "      <th></th>\n",
       "      <th>Unnamed: 0</th>\n",
       "      <th>artist_name</th>\n",
       "      <th>track_name</th>\n",
       "      <th>release_date</th>\n",
       "      <th>genre</th>\n",
       "      <th>lyrics</th>\n",
       "      <th>len</th>\n",
       "      <th>dating</th>\n",
       "      <th>violence</th>\n",
       "      <th>world/life</th>\n",
       "      <th>...</th>\n",
       "      <th>sadness</th>\n",
       "      <th>feelings</th>\n",
       "      <th>danceability</th>\n",
       "      <th>loudness</th>\n",
       "      <th>acousticness</th>\n",
       "      <th>instrumentalness</th>\n",
       "      <th>valence</th>\n",
       "      <th>energy</th>\n",
       "      <th>topic</th>\n",
       "      <th>age</th>\n",
       "    </tr>\n",
       "  </thead>\n",
       "  <tbody>\n",
       "    <tr>\n",
       "      <th>0</th>\n",
       "      <td>0</td>\n",
       "      <td>mukesh</td>\n",
       "      <td>mohabbat bhi jhoothi</td>\n",
       "      <td>1950</td>\n",
       "      <td>1</td>\n",
       "      <td>hold time feel break feel untrue convince spea...</td>\n",
       "      <td>95</td>\n",
       "      <td>0.000598</td>\n",
       "      <td>0.063746</td>\n",
       "      <td>0.000598</td>\n",
       "      <td>...</td>\n",
       "      <td>0.380299</td>\n",
       "      <td>0.117175</td>\n",
       "      <td>0.357739</td>\n",
       "      <td>0.454119</td>\n",
       "      <td>0.997992</td>\n",
       "      <td>0.901822</td>\n",
       "      <td>0.339448</td>\n",
       "      <td>0.137110</td>\n",
       "      <td>sadness</td>\n",
       "      <td>1.0</td>\n",
       "    </tr>\n",
       "    <tr>\n",
       "      <th>1</th>\n",
       "      <td>4</td>\n",
       "      <td>frankie laine</td>\n",
       "      <td>i believe</td>\n",
       "      <td>1950</td>\n",
       "      <td>1</td>\n",
       "      <td>believe drop rain fall grow believe darkest ni...</td>\n",
       "      <td>51</td>\n",
       "      <td>0.035537</td>\n",
       "      <td>0.096777</td>\n",
       "      <td>0.443435</td>\n",
       "      <td>...</td>\n",
       "      <td>0.001284</td>\n",
       "      <td>0.001284</td>\n",
       "      <td>0.331745</td>\n",
       "      <td>0.647540</td>\n",
       "      <td>0.954819</td>\n",
       "      <td>0.000002</td>\n",
       "      <td>0.325021</td>\n",
       "      <td>0.263240</td>\n",
       "      <td>world/life</td>\n",
       "      <td>1.0</td>\n",
       "    </tr>\n",
       "    <tr>\n",
       "      <th>2</th>\n",
       "      <td>6</td>\n",
       "      <td>johnnie ray</td>\n",
       "      <td>cry</td>\n",
       "      <td>1950</td>\n",
       "      <td>1</td>\n",
       "      <td>sweetheart send letter goodbye secret feel bet...</td>\n",
       "      <td>24</td>\n",
       "      <td>0.002770</td>\n",
       "      <td>0.002770</td>\n",
       "      <td>0.002770</td>\n",
       "      <td>...</td>\n",
       "      <td>0.002770</td>\n",
       "      <td>0.225422</td>\n",
       "      <td>0.456298</td>\n",
       "      <td>0.585288</td>\n",
       "      <td>0.840361</td>\n",
       "      <td>0.000000</td>\n",
       "      <td>0.351814</td>\n",
       "      <td>0.139112</td>\n",
       "      <td>music</td>\n",
       "      <td>1.0</td>\n",
       "    </tr>\n",
       "    <tr>\n",
       "      <th>3</th>\n",
       "      <td>10</td>\n",
       "      <td>pérez prado</td>\n",
       "      <td>patricia</td>\n",
       "      <td>1950</td>\n",
       "      <td>1</td>\n",
       "      <td>kiss lips want stroll charm mambo chacha merin...</td>\n",
       "      <td>54</td>\n",
       "      <td>0.048249</td>\n",
       "      <td>0.001548</td>\n",
       "      <td>0.001548</td>\n",
       "      <td>...</td>\n",
       "      <td>0.225889</td>\n",
       "      <td>0.001548</td>\n",
       "      <td>0.686992</td>\n",
       "      <td>0.744404</td>\n",
       "      <td>0.083935</td>\n",
       "      <td>0.199393</td>\n",
       "      <td>0.775350</td>\n",
       "      <td>0.743736</td>\n",
       "      <td>romantic</td>\n",
       "      <td>1.0</td>\n",
       "    </tr>\n",
       "    <tr>\n",
       "      <th>4</th>\n",
       "      <td>12</td>\n",
       "      <td>giorgos papadopoulos</td>\n",
       "      <td>apopse eida oneiro</td>\n",
       "      <td>1950</td>\n",
       "      <td>1</td>\n",
       "      <td>till darling till matter know till dream live ...</td>\n",
       "      <td>48</td>\n",
       "      <td>0.001350</td>\n",
       "      <td>0.001350</td>\n",
       "      <td>0.417772</td>\n",
       "      <td>...</td>\n",
       "      <td>0.068800</td>\n",
       "      <td>0.001350</td>\n",
       "      <td>0.291671</td>\n",
       "      <td>0.646489</td>\n",
       "      <td>0.975904</td>\n",
       "      <td>0.000246</td>\n",
       "      <td>0.597073</td>\n",
       "      <td>0.394375</td>\n",
       "      <td>romantic</td>\n",
       "      <td>1.0</td>\n",
       "    </tr>\n",
       "  </tbody>\n",
       "</table>\n",
       "<p>5 rows × 31 columns</p>\n",
       "</div>"
      ],
      "text/plain": [
       "   Unnamed: 0           artist_name            track_name  release_date  \\\n",
       "0           0                mukesh  mohabbat bhi jhoothi          1950   \n",
       "1           4         frankie laine             i believe          1950   \n",
       "2           6           johnnie ray                   cry          1950   \n",
       "3          10           pérez prado              patricia          1950   \n",
       "4          12  giorgos papadopoulos    apopse eida oneiro          1950   \n",
       "\n",
       "   genre                                             lyrics  len    dating  \\\n",
       "0      1  hold time feel break feel untrue convince spea...   95  0.000598   \n",
       "1      1  believe drop rain fall grow believe darkest ni...   51  0.035537   \n",
       "2      1  sweetheart send letter goodbye secret feel bet...   24  0.002770   \n",
       "3      1  kiss lips want stroll charm mambo chacha merin...   54  0.048249   \n",
       "4      1  till darling till matter know till dream live ...   48  0.001350   \n",
       "\n",
       "   violence  world/life  ...   sadness  feelings  danceability  loudness  \\\n",
       "0  0.063746    0.000598  ...  0.380299  0.117175      0.357739  0.454119   \n",
       "1  0.096777    0.443435  ...  0.001284  0.001284      0.331745  0.647540   \n",
       "2  0.002770    0.002770  ...  0.002770  0.225422      0.456298  0.585288   \n",
       "3  0.001548    0.001548  ...  0.225889  0.001548      0.686992  0.744404   \n",
       "4  0.001350    0.417772  ...  0.068800  0.001350      0.291671  0.646489   \n",
       "\n",
       "   acousticness  instrumentalness   valence    energy       topic  age  \n",
       "0      0.997992          0.901822  0.339448  0.137110     sadness  1.0  \n",
       "1      0.954819          0.000002  0.325021  0.263240  world/life  1.0  \n",
       "2      0.840361          0.000000  0.351814  0.139112       music  1.0  \n",
       "3      0.083935          0.199393  0.775350  0.743736    romantic  1.0  \n",
       "4      0.975904          0.000246  0.597073  0.394375    romantic  1.0  \n",
       "\n",
       "[5 rows x 31 columns]"
      ]
     },
     "execution_count": 119,
     "metadata": {},
     "output_type": "execute_result"
    }
   ],
   "source": [
    "df.head()"
   ]
  },
  {
   "cell_type": "code",
   "execution_count": 9,
   "metadata": {},
   "outputs": [],
   "source": [
    "train, test = evaluate.date_split(df)"
   ]
  },
  {
   "cell_type": "code",
   "execution_count": 10,
   "metadata": {},
   "outputs": [],
   "source": [
    "X_train, y_train = evaluate.x_y_split(train)\n",
    "X_test, y_test = evaluate.x_y_split(test)"
   ]
  },
  {
   "cell_type": "code",
   "execution_count": 11,
   "metadata": {},
   "outputs": [],
   "source": [
    "evaluate.to_json_lines(X_train,y_train,'train')\n",
    "evaluate.to_json_lines(X_test,y_test,'test')"
   ]
  },
  {
   "cell_type": "code",
   "execution_count": 12,
   "metadata": {},
   "outputs": [],
   "source": [
    "X_train, y_train = iter_jl('X_train.jl'), iter_jl('y_train.jl')"
   ]
  },
  {
   "cell_type": "code",
   "execution_count": 13,
   "metadata": {},
   "outputs": [],
   "source": [
    "X_test, y_test = iter_jl('X_test.jl'), iter_jl('y_test.jl')"
   ]
  },
  {
   "cell_type": "code",
   "execution_count": 14,
   "metadata": {},
   "outputs": [],
   "source": [
    "X_train = list(X_train)\n",
    "y_train = list(y_train)\n",
    "X_test = list(X_test)\n",
    "y_test = list(y_test)"
   ]
  },
  {
   "cell_type": "code",
   "execution_count": 403,
   "metadata": {},
   "outputs": [],
   "source": [
    "from lib.transformers import FeatureProjectionFromJson, TargetEncoder, PretrainedFastTextTransformer, TargetEncodeWithNumerical\n",
    "from sklearn.pipeline import make_pipeline, make_union\n",
    "from sklearn.preprocessing import OneHotEncoder\n",
    "from sklearn.impute import SimpleImputer\n",
    "from sklearn.preprocessing import StandardScaler\n",
    "\n",
    "fields = ['age','violence','world/life','night/time', 'shake the audience',\n",
    "                            'family/gospel','romantic','communication','obscene','music','movement/places',\n",
    "                           'light/visual perceptions','family/spiritual','sadness',\n",
    "                           'danceability','loudness','acousticness','instrumentalness','valence','energy'] \n",
    "#saque algunos numericos: 'dating','like/girls','feelings',\n",
    "\n",
    "features_pipe = make_union(make_pipeline(\n",
    "        FeatureProjectionFromJson(fields)\n",
    "    ,SimpleImputer()\n",
    "),\n",
    "                          make_pipeline(TargetEncodeWithNumerical('topic', fields)),\n",
    "                           make_pipeline(TargetEncodeWithNumerical('artist_name', fields))\n",
    "                          )"
   ]
  },
  {
   "cell_type": "code",
   "execution_count": 404,
   "metadata": {},
   "outputs": [],
   "source": [
    "import lightgbm as lgb"
   ]
  },
  {
   "cell_type": "code",
   "execution_count": 405,
   "metadata": {},
   "outputs": [
    {
     "data": {
      "text/html": [
       "<style>#sk-container-id-44 {color: black;background-color: white;}#sk-container-id-44 pre{padding: 0;}#sk-container-id-44 div.sk-toggleable {background-color: white;}#sk-container-id-44 label.sk-toggleable__label {cursor: pointer;display: block;width: 100%;margin-bottom: 0;padding: 0.3em;box-sizing: border-box;text-align: center;}#sk-container-id-44 label.sk-toggleable__label-arrow:before {content: \"▸\";float: left;margin-right: 0.25em;color: #696969;}#sk-container-id-44 label.sk-toggleable__label-arrow:hover:before {color: black;}#sk-container-id-44 div.sk-estimator:hover label.sk-toggleable__label-arrow:before {color: black;}#sk-container-id-44 div.sk-toggleable__content {max-height: 0;max-width: 0;overflow: hidden;text-align: left;background-color: #f0f8ff;}#sk-container-id-44 div.sk-toggleable__content pre {margin: 0.2em;color: black;border-radius: 0.25em;background-color: #f0f8ff;}#sk-container-id-44 input.sk-toggleable__control:checked~div.sk-toggleable__content {max-height: 200px;max-width: 100%;overflow: auto;}#sk-container-id-44 input.sk-toggleable__control:checked~label.sk-toggleable__label-arrow:before {content: \"▾\";}#sk-container-id-44 div.sk-estimator input.sk-toggleable__control:checked~label.sk-toggleable__label {background-color: #d4ebff;}#sk-container-id-44 div.sk-label input.sk-toggleable__control:checked~label.sk-toggleable__label {background-color: #d4ebff;}#sk-container-id-44 input.sk-hidden--visually {border: 0;clip: rect(1px 1px 1px 1px);clip: rect(1px, 1px, 1px, 1px);height: 1px;margin: -1px;overflow: hidden;padding: 0;position: absolute;width: 1px;}#sk-container-id-44 div.sk-estimator {font-family: monospace;background-color: #f0f8ff;border: 1px dotted black;border-radius: 0.25em;box-sizing: border-box;margin-bottom: 0.5em;}#sk-container-id-44 div.sk-estimator:hover {background-color: #d4ebff;}#sk-container-id-44 div.sk-parallel-item::after {content: \"\";width: 100%;border-bottom: 1px solid gray;flex-grow: 1;}#sk-container-id-44 div.sk-label:hover label.sk-toggleable__label {background-color: #d4ebff;}#sk-container-id-44 div.sk-serial::before {content: \"\";position: absolute;border-left: 1px solid gray;box-sizing: border-box;top: 0;bottom: 0;left: 50%;z-index: 0;}#sk-container-id-44 div.sk-serial {display: flex;flex-direction: column;align-items: center;background-color: white;padding-right: 0.2em;padding-left: 0.2em;position: relative;}#sk-container-id-44 div.sk-item {position: relative;z-index: 1;}#sk-container-id-44 div.sk-parallel {display: flex;align-items: stretch;justify-content: center;background-color: white;position: relative;}#sk-container-id-44 div.sk-item::before, #sk-container-id-44 div.sk-parallel-item::before {content: \"\";position: absolute;border-left: 1px solid gray;box-sizing: border-box;top: 0;bottom: 0;left: 50%;z-index: -1;}#sk-container-id-44 div.sk-parallel-item {display: flex;flex-direction: column;z-index: 1;position: relative;background-color: white;}#sk-container-id-44 div.sk-parallel-item:first-child::after {align-self: flex-end;width: 50%;}#sk-container-id-44 div.sk-parallel-item:last-child::after {align-self: flex-start;width: 50%;}#sk-container-id-44 div.sk-parallel-item:only-child::after {width: 0;}#sk-container-id-44 div.sk-dashed-wrapped {border: 1px dashed gray;margin: 0 0.4em 0.5em 0.4em;box-sizing: border-box;padding-bottom: 0.4em;background-color: white;}#sk-container-id-44 div.sk-label label {font-family: monospace;font-weight: bold;display: inline-block;line-height: 1.2em;}#sk-container-id-44 div.sk-label-container {text-align: center;}#sk-container-id-44 div.sk-container {/* jupyter's `normalize.less` sets `[hidden] { display: none; }` but bootstrap.min.css set `[hidden] { display: none !important; }` so we also need the `!important` here to be able to override the default hidden behavior on the sphinx rendered scikit-learn.org. See: https://github.com/scikit-learn/scikit-learn/issues/21755 */display: inline-block !important;position: relative;}#sk-container-id-44 div.sk-text-repr-fallback {display: none;}</style><div id=\"sk-container-id-44\" class=\"sk-top-container\"><div class=\"sk-text-repr-fallback\"><pre>Pipeline(steps=[(&#x27;featureunion&#x27;,\n",
       "                 FeatureUnion(transformer_list=[(&#x27;pipeline-1&#x27;,\n",
       "                                                 Pipeline(steps=[(&#x27;featureprojectionfromjson&#x27;,\n",
       "                                                                  FeatureProjectionFromJson(fields=[&#x27;age&#x27;,\n",
       "                                                                                                    &#x27;world/life&#x27;,\n",
       "                                                                                                    &#x27;night/time&#x27;,\n",
       "                                                                                                    &#x27;shake &#x27;\n",
       "                                                                                                    &#x27;the &#x27;\n",
       "                                                                                                    &#x27;audience&#x27;,\n",
       "                                                                                                    &#x27;family/gospel&#x27;,\n",
       "                                                                                                    &#x27;romantic&#x27;,\n",
       "                                                                                                    &#x27;communication&#x27;,\n",
       "                                                                                                    &#x27;obscene&#x27;,\n",
       "                                                                                                    &#x27;music&#x27;,\n",
       "                                                                                                    &#x27;movement/places&#x27;,\n",
       "                                                                                                    &#x27;light/visual &#x27;\n",
       "                                                                                                    &#x27;perceptions&#x27;,\n",
       "                                                                                                    &#x27;family/spiritual&#x27;,\n",
       "                                                                                                    &#x27;sadness&#x27;,\n",
       "                                                                                                    &#x27;da...\n",
       "                                                                                            numerical_fields=[&#x27;age&#x27;,\n",
       "                                                                                                              &#x27;world/life&#x27;,\n",
       "                                                                                                              &#x27;night/time&#x27;,\n",
       "                                                                                                              &#x27;shake &#x27;\n",
       "                                                                                                              &#x27;the &#x27;\n",
       "                                                                                                              &#x27;audience&#x27;,\n",
       "                                                                                                              &#x27;family/gospel&#x27;,\n",
       "                                                                                                              &#x27;romantic&#x27;,\n",
       "                                                                                                              &#x27;communication&#x27;,\n",
       "                                                                                                              &#x27;obscene&#x27;,\n",
       "                                                                                                              &#x27;music&#x27;,\n",
       "                                                                                                              &#x27;movement/places&#x27;,\n",
       "                                                                                                              &#x27;light/visual &#x27;\n",
       "                                                                                                              &#x27;perceptions&#x27;,\n",
       "                                                                                                              &#x27;family/spiritual&#x27;,\n",
       "                                                                                                              &#x27;sadness&#x27;,\n",
       "                                                                                                              &#x27;danceability&#x27;,\n",
       "                                                                                                              &#x27;loudness&#x27;,\n",
       "                                                                                                              &#x27;acousticness&#x27;,\n",
       "                                                                                                              &#x27;instrumentalness&#x27;,\n",
       "                                                                                                              &#x27;valence&#x27;,\n",
       "                                                                                                              &#x27;energy&#x27;]))]))])),\n",
       "                (&#x27;lgbmclassifier&#x27;,\n",
       "                 LGBMClassifier(class_weight=&#x27;balanced&#x27;, random_state=42))])</pre><b>In a Jupyter environment, please rerun this cell to show the HTML representation or trust the notebook. <br />On GitHub, the HTML representation is unable to render, please try loading this page with nbviewer.org.</b></div><div class=\"sk-container\" hidden><div class=\"sk-item sk-dashed-wrapped\"><div class=\"sk-label-container\"><div class=\"sk-label sk-toggleable\"><input class=\"sk-toggleable__control sk-hidden--visually\" id=\"sk-estimator-id-291\" type=\"checkbox\" ><label for=\"sk-estimator-id-291\" class=\"sk-toggleable__label sk-toggleable__label-arrow\">Pipeline</label><div class=\"sk-toggleable__content\"><pre>Pipeline(steps=[(&#x27;featureunion&#x27;,\n",
       "                 FeatureUnion(transformer_list=[(&#x27;pipeline-1&#x27;,\n",
       "                                                 Pipeline(steps=[(&#x27;featureprojectionfromjson&#x27;,\n",
       "                                                                  FeatureProjectionFromJson(fields=[&#x27;age&#x27;,\n",
       "                                                                                                    &#x27;world/life&#x27;,\n",
       "                                                                                                    &#x27;night/time&#x27;,\n",
       "                                                                                                    &#x27;shake &#x27;\n",
       "                                                                                                    &#x27;the &#x27;\n",
       "                                                                                                    &#x27;audience&#x27;,\n",
       "                                                                                                    &#x27;family/gospel&#x27;,\n",
       "                                                                                                    &#x27;romantic&#x27;,\n",
       "                                                                                                    &#x27;communication&#x27;,\n",
       "                                                                                                    &#x27;obscene&#x27;,\n",
       "                                                                                                    &#x27;music&#x27;,\n",
       "                                                                                                    &#x27;movement/places&#x27;,\n",
       "                                                                                                    &#x27;light/visual &#x27;\n",
       "                                                                                                    &#x27;perceptions&#x27;,\n",
       "                                                                                                    &#x27;family/spiritual&#x27;,\n",
       "                                                                                                    &#x27;sadness&#x27;,\n",
       "                                                                                                    &#x27;da...\n",
       "                                                                                            numerical_fields=[&#x27;age&#x27;,\n",
       "                                                                                                              &#x27;world/life&#x27;,\n",
       "                                                                                                              &#x27;night/time&#x27;,\n",
       "                                                                                                              &#x27;shake &#x27;\n",
       "                                                                                                              &#x27;the &#x27;\n",
       "                                                                                                              &#x27;audience&#x27;,\n",
       "                                                                                                              &#x27;family/gospel&#x27;,\n",
       "                                                                                                              &#x27;romantic&#x27;,\n",
       "                                                                                                              &#x27;communication&#x27;,\n",
       "                                                                                                              &#x27;obscene&#x27;,\n",
       "                                                                                                              &#x27;music&#x27;,\n",
       "                                                                                                              &#x27;movement/places&#x27;,\n",
       "                                                                                                              &#x27;light/visual &#x27;\n",
       "                                                                                                              &#x27;perceptions&#x27;,\n",
       "                                                                                                              &#x27;family/spiritual&#x27;,\n",
       "                                                                                                              &#x27;sadness&#x27;,\n",
       "                                                                                                              &#x27;danceability&#x27;,\n",
       "                                                                                                              &#x27;loudness&#x27;,\n",
       "                                                                                                              &#x27;acousticness&#x27;,\n",
       "                                                                                                              &#x27;instrumentalness&#x27;,\n",
       "                                                                                                              &#x27;valence&#x27;,\n",
       "                                                                                                              &#x27;energy&#x27;]))]))])),\n",
       "                (&#x27;lgbmclassifier&#x27;,\n",
       "                 LGBMClassifier(class_weight=&#x27;balanced&#x27;, random_state=42))])</pre></div></div></div><div class=\"sk-serial\"><div class=\"sk-item sk-dashed-wrapped\"><div class=\"sk-label-container\"><div class=\"sk-label sk-toggleable\"><input class=\"sk-toggleable__control sk-hidden--visually\" id=\"sk-estimator-id-292\" type=\"checkbox\" ><label for=\"sk-estimator-id-292\" class=\"sk-toggleable__label sk-toggleable__label-arrow\">featureunion: FeatureUnion</label><div class=\"sk-toggleable__content\"><pre>FeatureUnion(transformer_list=[(&#x27;pipeline-1&#x27;,\n",
       "                                Pipeline(steps=[(&#x27;featureprojectionfromjson&#x27;,\n",
       "                                                 FeatureProjectionFromJson(fields=[&#x27;age&#x27;,\n",
       "                                                                                   &#x27;world/life&#x27;,\n",
       "                                                                                   &#x27;night/time&#x27;,\n",
       "                                                                                   &#x27;shake &#x27;\n",
       "                                                                                   &#x27;the &#x27;\n",
       "                                                                                   &#x27;audience&#x27;,\n",
       "                                                                                   &#x27;family/gospel&#x27;,\n",
       "                                                                                   &#x27;romantic&#x27;,\n",
       "                                                                                   &#x27;communication&#x27;,\n",
       "                                                                                   &#x27;obscene&#x27;,\n",
       "                                                                                   &#x27;music&#x27;,\n",
       "                                                                                   &#x27;movement/places&#x27;,\n",
       "                                                                                   &#x27;light/visual &#x27;\n",
       "                                                                                   &#x27;perceptions&#x27;,\n",
       "                                                                                   &#x27;family/spiritual&#x27;,\n",
       "                                                                                   &#x27;sadness&#x27;,\n",
       "                                                                                   &#x27;danceability&#x27;,\n",
       "                                                                                   &#x27;loudness&#x27;,\n",
       "                                                                                   &#x27;acoustic...\n",
       "                                                 TargetEncodeWithNumerical(categorical_field=&#x27;artist_name&#x27;,\n",
       "                                                                           numerical_fields=[&#x27;age&#x27;,\n",
       "                                                                                             &#x27;world/life&#x27;,\n",
       "                                                                                             &#x27;night/time&#x27;,\n",
       "                                                                                             &#x27;shake &#x27;\n",
       "                                                                                             &#x27;the &#x27;\n",
       "                                                                                             &#x27;audience&#x27;,\n",
       "                                                                                             &#x27;family/gospel&#x27;,\n",
       "                                                                                             &#x27;romantic&#x27;,\n",
       "                                                                                             &#x27;communication&#x27;,\n",
       "                                                                                             &#x27;obscene&#x27;,\n",
       "                                                                                             &#x27;music&#x27;,\n",
       "                                                                                             &#x27;movement/places&#x27;,\n",
       "                                                                                             &#x27;light/visual &#x27;\n",
       "                                                                                             &#x27;perceptions&#x27;,\n",
       "                                                                                             &#x27;family/spiritual&#x27;,\n",
       "                                                                                             &#x27;sadness&#x27;,\n",
       "                                                                                             &#x27;danceability&#x27;,\n",
       "                                                                                             &#x27;loudness&#x27;,\n",
       "                                                                                             &#x27;acousticness&#x27;,\n",
       "                                                                                             &#x27;instrumentalness&#x27;,\n",
       "                                                                                             &#x27;valence&#x27;,\n",
       "                                                                                             &#x27;energy&#x27;]))]))])</pre></div></div></div><div class=\"sk-parallel\"><div class=\"sk-parallel-item\"><div class=\"sk-item\"><div class=\"sk-label-container\"><div class=\"sk-label sk-toggleable\"><label>pipeline-1</label></div></div><div class=\"sk-serial\"><div class=\"sk-item\"><div class=\"sk-serial\"><div class=\"sk-item\"><div class=\"sk-estimator sk-toggleable\"><input class=\"sk-toggleable__control sk-hidden--visually\" id=\"sk-estimator-id-293\" type=\"checkbox\" ><label for=\"sk-estimator-id-293\" class=\"sk-toggleable__label sk-toggleable__label-arrow\">FeatureProjectionFromJson</label><div class=\"sk-toggleable__content\"><pre>FeatureProjectionFromJson(fields=[&#x27;age&#x27;, &#x27;world/life&#x27;, &#x27;night/time&#x27;,\n",
       "                                  &#x27;shake the audience&#x27;, &#x27;family/gospel&#x27;,\n",
       "                                  &#x27;romantic&#x27;, &#x27;communication&#x27;, &#x27;obscene&#x27;,\n",
       "                                  &#x27;music&#x27;, &#x27;movement/places&#x27;,\n",
       "                                  &#x27;light/visual perceptions&#x27;,\n",
       "                                  &#x27;family/spiritual&#x27;, &#x27;sadness&#x27;, &#x27;danceability&#x27;,\n",
       "                                  &#x27;loudness&#x27;, &#x27;acousticness&#x27;,\n",
       "                                  &#x27;instrumentalness&#x27;, &#x27;valence&#x27;, &#x27;energy&#x27;])</pre></div></div></div><div class=\"sk-item\"><div class=\"sk-estimator sk-toggleable\"><input class=\"sk-toggleable__control sk-hidden--visually\" id=\"sk-estimator-id-294\" type=\"checkbox\" ><label for=\"sk-estimator-id-294\" class=\"sk-toggleable__label sk-toggleable__label-arrow\">SimpleImputer</label><div class=\"sk-toggleable__content\"><pre>SimpleImputer()</pre></div></div></div></div></div></div></div></div><div class=\"sk-parallel-item\"><div class=\"sk-item\"><div class=\"sk-label-container\"><div class=\"sk-label sk-toggleable\"><label>pipeline-2</label></div></div><div class=\"sk-serial\"><div class=\"sk-item\"><div class=\"sk-serial\"><div class=\"sk-item\"><div class=\"sk-estimator sk-toggleable\"><input class=\"sk-toggleable__control sk-hidden--visually\" id=\"sk-estimator-id-295\" type=\"checkbox\" ><label for=\"sk-estimator-id-295\" class=\"sk-toggleable__label sk-toggleable__label-arrow\">TargetEncodeWithNumerical</label><div class=\"sk-toggleable__content\"><pre>TargetEncodeWithNumerical(categorical_field=&#x27;topic&#x27;,\n",
       "                          numerical_fields=[&#x27;age&#x27;, &#x27;world/life&#x27;, &#x27;night/time&#x27;,\n",
       "                                            &#x27;shake the audience&#x27;,\n",
       "                                            &#x27;family/gospel&#x27;, &#x27;romantic&#x27;,\n",
       "                                            &#x27;communication&#x27;, &#x27;obscene&#x27;, &#x27;music&#x27;,\n",
       "                                            &#x27;movement/places&#x27;,\n",
       "                                            &#x27;light/visual perceptions&#x27;,\n",
       "                                            &#x27;family/spiritual&#x27;, &#x27;sadness&#x27;,\n",
       "                                            &#x27;danceability&#x27;, &#x27;loudness&#x27;,\n",
       "                                            &#x27;acousticness&#x27;, &#x27;instrumentalness&#x27;,\n",
       "                                            &#x27;valence&#x27;, &#x27;energy&#x27;])</pre></div></div></div></div></div></div></div></div><div class=\"sk-parallel-item\"><div class=\"sk-item\"><div class=\"sk-label-container\"><div class=\"sk-label sk-toggleable\"><label>pipeline-3</label></div></div><div class=\"sk-serial\"><div class=\"sk-item\"><div class=\"sk-serial\"><div class=\"sk-item\"><div class=\"sk-estimator sk-toggleable\"><input class=\"sk-toggleable__control sk-hidden--visually\" id=\"sk-estimator-id-296\" type=\"checkbox\" ><label for=\"sk-estimator-id-296\" class=\"sk-toggleable__label sk-toggleable__label-arrow\">TargetEncodeWithNumerical</label><div class=\"sk-toggleable__content\"><pre>TargetEncodeWithNumerical(categorical_field=&#x27;artist_name&#x27;,\n",
       "                          numerical_fields=[&#x27;age&#x27;, &#x27;world/life&#x27;, &#x27;night/time&#x27;,\n",
       "                                            &#x27;shake the audience&#x27;,\n",
       "                                            &#x27;family/gospel&#x27;, &#x27;romantic&#x27;,\n",
       "                                            &#x27;communication&#x27;, &#x27;obscene&#x27;, &#x27;music&#x27;,\n",
       "                                            &#x27;movement/places&#x27;,\n",
       "                                            &#x27;light/visual perceptions&#x27;,\n",
       "                                            &#x27;family/spiritual&#x27;, &#x27;sadness&#x27;,\n",
       "                                            &#x27;danceability&#x27;, &#x27;loudness&#x27;,\n",
       "                                            &#x27;acousticness&#x27;, &#x27;instrumentalness&#x27;,\n",
       "                                            &#x27;valence&#x27;, &#x27;energy&#x27;])</pre></div></div></div></div></div></div></div></div></div></div><div class=\"sk-item\"><div class=\"sk-estimator sk-toggleable\"><input class=\"sk-toggleable__control sk-hidden--visually\" id=\"sk-estimator-id-297\" type=\"checkbox\" ><label for=\"sk-estimator-id-297\" class=\"sk-toggleable__label sk-toggleable__label-arrow\">LGBMClassifier</label><div class=\"sk-toggleable__content\"><pre>LGBMClassifier(class_weight=&#x27;balanced&#x27;, random_state=42)</pre></div></div></div></div></div></div></div>"
      ],
      "text/plain": [
       "Pipeline(steps=[('featureunion',\n",
       "                 FeatureUnion(transformer_list=[('pipeline-1',\n",
       "                                                 Pipeline(steps=[('featureprojectionfromjson',\n",
       "                                                                  FeatureProjectionFromJson(fields=['age',\n",
       "                                                                                                    'world/life',\n",
       "                                                                                                    'night/time',\n",
       "                                                                                                    'shake '\n",
       "                                                                                                    'the '\n",
       "                                                                                                    'audience',\n",
       "                                                                                                    'family/gospel',\n",
       "                                                                                                    'romantic',\n",
       "                                                                                                    'communication',\n",
       "                                                                                                    'obscene',\n",
       "                                                                                                    'music',\n",
       "                                                                                                    'movement/places',\n",
       "                                                                                                    'light/visual '\n",
       "                                                                                                    'perceptions',\n",
       "                                                                                                    'family/spiritual',\n",
       "                                                                                                    'sadness',\n",
       "                                                                                                    'da...\n",
       "                                                                                            numerical_fields=['age',\n",
       "                                                                                                              'world/life',\n",
       "                                                                                                              'night/time',\n",
       "                                                                                                              'shake '\n",
       "                                                                                                              'the '\n",
       "                                                                                                              'audience',\n",
       "                                                                                                              'family/gospel',\n",
       "                                                                                                              'romantic',\n",
       "                                                                                                              'communication',\n",
       "                                                                                                              'obscene',\n",
       "                                                                                                              'music',\n",
       "                                                                                                              'movement/places',\n",
       "                                                                                                              'light/visual '\n",
       "                                                                                                              'perceptions',\n",
       "                                                                                                              'family/spiritual',\n",
       "                                                                                                              'sadness',\n",
       "                                                                                                              'danceability',\n",
       "                                                                                                              'loudness',\n",
       "                                                                                                              'acousticness',\n",
       "                                                                                                              'instrumentalness',\n",
       "                                                                                                              'valence',\n",
       "                                                                                                              'energy']))]))])),\n",
       "                ('lgbmclassifier',\n",
       "                 LGBMClassifier(class_weight='balanced', random_state=42))])"
      ]
     },
     "execution_count": 405,
     "metadata": {},
     "output_type": "execute_result"
    }
   ],
   "source": [
    "rf_pipe = make_pipeline(\n",
    "    features_pipe,\n",
    "    lgb.LGBMClassifier(n_estimators =  100, random_state=42, class_weight = 'balanced')\n",
    ")\n",
    "rf_pipe.fit(X_train, y_train)"
   ]
  },
  {
   "cell_type": "code",
   "execution_count": 406,
   "metadata": {},
   "outputs": [],
   "source": [
    "#rf_pipe.steps[0][1].transformer_list[1][1].steps[0][1].stats_"
   ]
  },
  {
   "cell_type": "code",
   "execution_count": 407,
   "metadata": {},
   "outputs": [],
   "source": [
    "from sklearn.metrics import accuracy_score, f1_score, precision_score, recall_score\n",
    "\n",
    "def get_metrics_multi(y_true, y_pred):\n",
    "    dicc = {'f1': f1_score(y_true, y_pred, average = 'macro'),\n",
    "      'precision': precision_score(y_true, y_pred, average = 'macro'),\n",
    "      'acc': accuracy_score(y_true, y_pred),\n",
    "      'recall': recall_score(y_true, y_pred, average = 'macro')}\n",
    "    print(dicc)\n",
    "    return(dicc)"
   ]
  },
  {
   "cell_type": "code",
   "execution_count": 408,
   "metadata": {},
   "outputs": [
    {
     "name": "stdout",
     "output_type": "stream",
     "text": [
      "{'f1': 0.9272511489234264, 'precision': 0.9134412404263171, 'acc': 0.9247845490920283, 'recall': 0.9440086061657558}\n"
     ]
    },
    {
     "data": {
      "text/plain": [
       "{'f1': 0.9272511489234264,\n",
       " 'precision': 0.9134412404263171,\n",
       " 'acc': 0.9247845490920283,\n",
       " 'recall': 0.9440086061657558}"
      ]
     },
     "execution_count": 408,
     "metadata": {},
     "output_type": "execute_result"
    }
   ],
   "source": [
    "get_metrics_multi(y_train,rf_pipe.predict(X_train))"
   ]
  },
  {
   "cell_type": "code",
   "execution_count": 409,
   "metadata": {},
   "outputs": [],
   "source": [
    "preds = rf_pipe.predict(X_test)"
   ]
  },
  {
   "cell_type": "code",
   "execution_count": 410,
   "metadata": {},
   "outputs": [
    {
     "name": "stdout",
     "output_type": "stream",
     "text": [
      "{'f1': 0.6455594918928618, 'precision': 0.6664258702281327, 'acc': 0.6470588235294118, 'recall': 0.6456471128966211}\n"
     ]
    },
    {
     "data": {
      "text/plain": [
       "{'f1': 0.6455594918928618,\n",
       " 'precision': 0.6664258702281327,\n",
       " 'acc': 0.6470588235294118,\n",
       " 'recall': 0.6456471128966211}"
      ]
     },
     "execution_count": 410,
     "metadata": {},
     "output_type": "execute_result"
    }
   ],
   "source": [
    "get_metrics_multi(y_test,preds)"
   ]
  },
  {
   "cell_type": "code",
   "execution_count": 393,
   "metadata": {},
   "outputs": [],
   "source": [
    "from sklearn.metrics import confusion_matrix, ConfusionMatrixDisplay\n",
    "import matplotlib.pylab as plt"
   ]
  },
  {
   "cell_type": "code",
   "execution_count": 394,
   "metadata": {},
   "outputs": [
    {
     "data": {
      "image/png": "[encoded data removed]",
      "text/plain": [
       "<Figure size 900x900 with 2 Axes>"
      ]
     },
     "metadata": {},
     "output_type": "display_data"
    }
   ],
   "source": [
    "fig, ax  = plt.subplots(figsize=(9, 9))\n",
    "disp = ConfusionMatrixDisplay.from_predictions(y_test, preds, normalize='true', ax=ax)\n",
    "ax.xaxis.set_ticklabels(list(dict_genres.keys()))\n",
    "ax.yaxis.set_ticklabels(list(dict_genres.keys()))\n",
    "ax.xaxis.set_tick_params(rotation=45)"
   ]
  },
  {
   "cell_type": "code",
   "execution_count": null,
   "metadata": {},
   "outputs": [],
   "source": []
  }
 ],
 "metadata": {
  "kernelspec": {
   "display_name": "Python 3 (ipykernel)",
   "language": "python",
   "name": "python3"
  },
  "language_info": {
   "codemirror_mode": {
    "name": "ipython",
    "version": 3
   },
   "file_extension": ".py",
   "mimetype": "text/x-python",
   "name": "python",
   "nbconvert_exporter": "python",
   "pygments_lexer": "ipython3",
   "version": "3.10.6"
  }
 },
 "nbformat": 4,
 "nbformat_minor": 2
}
