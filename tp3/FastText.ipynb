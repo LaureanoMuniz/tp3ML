{
 "cells": [
  {
   "cell_type": "code",
   "execution_count": null,
   "metadata": {},
   "outputs": [],
   "source": [
    "!pip install fasttext"
   ]
  },
  {
   "cell_type": "code",
   "execution_count": 1,
   "metadata": {},
   "outputs": [],
   "source": [
    "import pandas as pd\n",
    "import fasttext\n",
    "import lib"
   ]
  },
  {
   "cell_type": "code",
   "execution_count": 2,
   "metadata": {},
   "outputs": [],
   "source": [
    "df = pd.read_csv('tcc_ceds_music.csv')"
   ]
  },
  {
   "cell_type": "code",
   "execution_count": 3,
   "metadata": {},
   "outputs": [
    {
     "data": {
      "text/plain": [
       "0     hold time feel break feel untrue convince spea...\n",
       "1     believe drop rain fall grow believe darkest ni...\n",
       "2     sweetheart send letter goodbye secret feel bet...\n",
       "3     kiss lips want stroll charm mambo chacha merin...\n",
       "4     till darling till matter know till dream live ...\n",
       "5     convoy light dead ahead merchantmen trump dies...\n",
       "6     piece mindin world knowin life come bring give...\n",
       "7     care moment hold fast press lips dream heaven ...\n",
       "8     lonely night surround power read mind hour nig...\n",
       "9     tear heart seat stay awhile tear heart game st...\n",
       "10    better sail midnight better dive pearl better ...\n",
       "11    moon shin shin wait moon pin pin place long ho...\n",
       "12    come motherfucker spit shit minutes chillin bi...\n",
       "13    work morning flight watch even burn away tear ...\n",
       "14    see carioca foxtrot polka little rhythm blue r...\n",
       "Name: lyrics, dtype: object"
      ]
     },
     "execution_count": 3,
     "metadata": {},
     "output_type": "execute_result"
    }
   ],
   "source": [
    "df['lyrics'].head(15)"
   ]
  },
  {
   "cell_type": "markdown",
   "metadata": {},
   "source": [
    "Parece que las oraciones ya estan normalizadas"
   ]
  },
  {
   "cell_type": "code",
   "execution_count": 4,
   "metadata": {},
   "outputs": [],
   "source": [
    "words = ' '.join([i for i in df['lyrics']]).split()"
   ]
  },
  {
   "cell_type": "code",
   "execution_count": 5,
   "metadata": {},
   "outputs": [
    {
     "data": {
      "text/plain": [
       "51693"
      ]
     },
     "execution_count": 5,
     "metadata": {},
     "output_type": "execute_result"
    }
   ],
   "source": [
    "len(set(words))"
   ]
  },
  {
   "cell_type": "markdown",
   "metadata": {},
   "source": [
    "El vocabulario tiene unas 51693 palabras"
   ]
  },
  {
   "cell_type": "code",
   "execution_count": 6,
   "metadata": {},
   "outputs": [],
   "source": [
    "word_counts =  pd.Series(words).value_counts()"
   ]
  },
  {
   "cell_type": "code",
   "execution_count": 7,
   "metadata": {},
   "outputs": [
    {
     "data": {
      "text/plain": [
       "(know     33526\n",
       " like     29649\n",
       " time     26504\n",
       " come     23619\n",
       " go       17032\n",
       " feel     16795\n",
       " yeah     16787\n",
       " away     16773\n",
       " heart    16737\n",
       " life     15906\n",
       " dtype: int64, olny               1\n",
       " nanas              1\n",
       " atrak              1\n",
       " twyman             1\n",
       " postas             1\n",
       " annihilationall    1\n",
       " shalalalalalala    1\n",
       " shredmill          1\n",
       " lokey              1\n",
       " verification       1\n",
       " dtype: int64)"
      ]
     },
     "execution_count": 7,
     "metadata": {},
     "output_type": "execute_result"
    }
   ],
   "source": [
    "word_counts.head(10),word_counts.tail(10)"
   ]
  },
  {
   "cell_type": "code",
   "execution_count": null,
   "metadata": {},
   "outputs": [],
   "source": [
    "word_counts.head(10).hist()"
   ]
  },
  {
   "cell_type": "code",
   "execution_count": 8,
   "metadata": {},
   "outputs": [],
   "source": [
    "with open('text-data.txt', 'w', encoding='utf-8') as f:\n",
    "  first = True\n",
    "  for line in df['lyrics']:\n",
    "    if not first: f.write('\\n')\n",
    "    f.write(line)\n",
    "    first = False"
   ]
  },
  {
   "cell_type": "code",
   "execution_count": 9,
   "metadata": {},
   "outputs": [
    {
     "name": "stdout",
     "output_type": "stream",
     "text": [
      "hold time feel break feel untrue convince speak voice tear try hold hurt try forgive okay play break string feel heart want feel tell real truth hurt lie worse anymore little turn dust play house ruin run leave save like chase train late late tear try hold hurt try forgive okay play break string feel heart want feel tell real truth hurt lie worse anymore little run leave save like chase train know late late play break string feel heart want feel tell real truth hurt lie worse anymore little know little hold time feel\n",
      "believe drop rain fall grow believe darkest night candle glow believe go astray come believe believe believe smallest prayer hear believe great hear word time hear bear baby touch leaf believe believe believe lord heaven guide sin hide believe calvary die pierce believe death rise meet heaven loud amen know believe\n",
      "sweetheart send letter goodbye secret feel better wake dream think real false emotions feel heartaches hang long blue get bluer song remember cloudy hair\n",
      "kiss lips want stroll charm mambo chacha meringue heaven arm japan brag geisha care long uncle eye starry sort gleam like million dollar dream come true everybody wish steal heart away guess try eye starry sort gleam like million dollar dream come true kiss lips want stroll charm japan brag geisha care long uncle\n",
      "till darling till matter know till dream live apart know hearts till world free oceans cross mountains climb know gain loss pray loss time till dream till memory till hold till oceans cross mountains climb know gain loss pray loss time till dream till memory till hold till\n"
     ]
    }
   ],
   "source": [
    "!head text-data.txt -n 5"
   ]
  },
  {
   "cell_type": "code",
   "execution_count": 15,
   "metadata": {},
   "outputs": [],
   "source": [
    "model = fasttext.train_unsupervised(\n",
    "    'text-data.txt', epoch=5, ws=20\n",
    ")"
   ]
  },
  {
   "cell_type": "code",
   "execution_count": 16,
   "metadata": {
    "scrolled": false
   },
   "outputs": [
    {
     "data": {
      "text/markdown": [
       "most similar to **mondo**"
      ]
     },
     "metadata": {},
     "output_type": "display_data"
    },
    {
     "data": {
      "text/markdown": [
       "* quando (0.65)"
      ]
     },
     "metadata": {},
     "output_type": "display_data"
    },
    {
     "data": {
      "text/markdown": [
       "* mano (0.61)"
      ]
     },
     "metadata": {},
     "output_type": "display_data"
    },
    {
     "data": {
      "text/markdown": [
       "* esperando (0.59)"
      ]
     },
     "metadata": {},
     "output_type": "display_data"
    },
    {
     "data": {
      "text/markdown": [
       "* apuesto (0.59)"
      ]
     },
     "metadata": {},
     "output_type": "display_data"
    },
    {
     "data": {
      "text/markdown": [
       "* mañana (0.59)"
      ]
     },
     "metadata": {},
     "output_type": "display_data"
    },
    {
     "data": {
      "text/markdown": [
       "* momento (0.56)"
      ]
     },
     "metadata": {},
     "output_type": "display_data"
    },
    {
     "data": {
      "text/markdown": [
       "* olvidar (0.56)"
      ]
     },
     "metadata": {},
     "output_type": "display_data"
    },
    {
     "data": {
      "text/markdown": [
       "* senza (0.55)"
      ]
     },
     "metadata": {},
     "output_type": "display_data"
    },
    {
     "data": {
      "text/markdown": [
       "* cuando (0.54)"
      ]
     },
     "metadata": {},
     "output_type": "display_data"
    },
    {
     "data": {
      "text/markdown": [
       "* forever (0.54)"
      ]
     },
     "metadata": {},
     "output_type": "display_data"
    },
    {
     "data": {
      "text/markdown": [
       "most similar to **complainin**"
      ]
     },
     "metadata": {},
     "output_type": "display_data"
    },
    {
     "data": {
      "text/markdown": [
       "* explainin (0.83)"
      ]
     },
     "metadata": {},
     "output_type": "display_data"
    },
    {
     "data": {
      "text/markdown": [
       "* complain (0.77)"
      ]
     },
     "metadata": {},
     "output_type": "display_data"
    },
    {
     "data": {
      "text/markdown": [
       "* gainin (0.77)"
      ]
     },
     "metadata": {},
     "output_type": "display_data"
    },
    {
     "data": {
      "text/markdown": [
       "* complaints (0.72)"
      ]
     },
     "metadata": {},
     "output_type": "display_data"
    },
    {
     "data": {
      "text/markdown": [
       "* brainin (0.69)"
      ]
     },
     "metadata": {},
     "output_type": "display_data"
    },
    {
     "data": {
      "text/markdown": [
       "* complaint (0.66)"
      ]
     },
     "metadata": {},
     "output_type": "display_data"
    },
    {
     "data": {
      "text/markdown": [
       "* againin (0.63)"
      ]
     },
     "metadata": {},
     "output_type": "display_data"
    },
    {
     "data": {
      "text/markdown": [
       "* aint (0.61)"
      ]
     },
     "metadata": {},
     "output_type": "display_data"
    },
    {
     "data": {
      "text/markdown": [
       "* slavin (0.61)"
      ]
     },
     "metadata": {},
     "output_type": "display_data"
    },
    {
     "data": {
      "text/markdown": [
       "* rainin (0.61)"
      ]
     },
     "metadata": {},
     "output_type": "display_data"
    },
    {
     "data": {
      "text/markdown": [
       "most similar to **language**"
      ]
     },
     "metadata": {},
     "output_type": "display_data"
    },
    {
     "data": {
      "text/markdown": [
       "* speeches (0.58)"
      ]
     },
     "metadata": {},
     "output_type": "display_data"
    },
    {
     "data": {
      "text/markdown": [
       "* speech (0.58)"
      ]
     },
     "metadata": {},
     "output_type": "display_data"
    },
    {
     "data": {
      "text/markdown": [
       "* speak (0.53)"
      ]
     },
     "metadata": {},
     "output_type": "display_data"
    },
    {
     "data": {
      "text/markdown": [
       "* lang (0.53)"
      ]
     },
     "metadata": {},
     "output_type": "display_data"
    },
    {
     "data": {
      "text/markdown": [
       "* variation (0.49)"
      ]
     },
     "metadata": {},
     "output_type": "display_data"
    },
    {
     "data": {
      "text/markdown": [
       "* combination (0.47)"
      ]
     },
     "metadata": {},
     "output_type": "display_data"
    },
    {
     "data": {
      "text/markdown": [
       "* samaritan (0.47)"
      ]
     },
     "metadata": {},
     "output_type": "display_data"
    },
    {
     "data": {
      "text/markdown": [
       "* ethiopian (0.47)"
      ]
     },
     "metadata": {},
     "output_type": "display_data"
    },
    {
     "data": {
      "text/markdown": [
       "* dialect (0.46)"
      ]
     },
     "metadata": {},
     "output_type": "display_data"
    },
    {
     "data": {
      "text/markdown": [
       "* cumbersome (0.46)"
      ]
     },
     "metadata": {},
     "output_type": "display_data"
    },
    {
     "data": {
      "text/markdown": [
       "most similar to **trumpet**"
      ]
     },
     "metadata": {},
     "output_type": "display_data"
    },
    {
     "data": {
      "text/markdown": [
       "* trombone (0.73)"
      ]
     },
     "metadata": {},
     "output_type": "display_data"
    },
    {
     "data": {
      "text/markdown": [
       "* flugelhorn (0.71)"
      ]
     },
     "metadata": {},
     "output_type": "display_data"
    },
    {
     "data": {
      "text/markdown": [
       "* saxophone (0.66)"
      ]
     },
     "metadata": {},
     "output_type": "display_data"
    },
    {
     "data": {
      "text/markdown": [
       "* clarinet (0.65)"
      ]
     },
     "metadata": {},
     "output_type": "display_data"
    },
    {
     "data": {
      "text/markdown": [
       "* saxophones (0.65)"
      ]
     },
     "metadata": {},
     "output_type": "display_data"
    },
    {
     "data": {
      "text/markdown": [
       "* byrd (0.64)"
      ]
     },
     "metadata": {},
     "output_type": "display_data"
    },
    {
     "data": {
      "text/markdown": [
       "* organ (0.62)"
      ]
     },
     "metadata": {},
     "output_type": "display_data"
    },
    {
     "data": {
      "text/markdown": [
       "* instrument (0.62)"
      ]
     },
     "metadata": {},
     "output_type": "display_data"
    },
    {
     "data": {
      "text/markdown": [
       "* zappa (0.62)"
      ]
     },
     "metadata": {},
     "output_type": "display_data"
    },
    {
     "data": {
      "text/markdown": [
       "* hark (0.60)"
      ]
     },
     "metadata": {},
     "output_type": "display_data"
    },
    {
     "data": {
      "text/markdown": [
       "most similar to **boot**"
      ]
     },
     "metadata": {},
     "output_type": "display_data"
    },
    {
     "data": {
      "text/markdown": [
       "* hoodlum (0.60)"
      ]
     },
     "metadata": {},
     "output_type": "display_data"
    },
    {
     "data": {
      "text/markdown": [
       "* shoe (0.60)"
      ]
     },
     "metadata": {},
     "output_type": "display_data"
    },
    {
     "data": {
      "text/markdown": [
       "* smifnwessun (0.58)"
      ]
     },
     "metadata": {},
     "output_type": "display_data"
    },
    {
     "data": {
      "text/markdown": [
       "* trucker (0.58)"
      ]
     },
     "metadata": {},
     "output_type": "display_data"
    },
    {
     "data": {
      "text/markdown": [
       "* hoot (0.58)"
      ]
     },
     "metadata": {},
     "output_type": "display_data"
    },
    {
     "data": {
      "text/markdown": [
       "* hoodlums (0.58)"
      ]
     },
     "metadata": {},
     "output_type": "display_data"
    },
    {
     "data": {
      "text/markdown": [
       "* prob (0.58)"
      ]
     },
     "metadata": {},
     "output_type": "display_data"
    },
    {
     "data": {
      "text/markdown": [
       "* layer (0.57)"
      ]
     },
     "metadata": {},
     "output_type": "display_data"
    },
    {
     "data": {
      "text/markdown": [
       "* bunch (0.57)"
      ]
     },
     "metadata": {},
     "output_type": "display_data"
    },
    {
     "data": {
      "text/markdown": [
       "* gunnin (0.56)"
      ]
     },
     "metadata": {},
     "output_type": "display_data"
    },
    {
     "data": {
      "text/markdown": [
       "most similar to **exceed**"
      ]
     },
     "metadata": {},
     "output_type": "display_data"
    },
    {
     "data": {
      "text/markdown": [
       "* exceedingly (0.69)"
      ]
     },
     "metadata": {},
     "output_type": "display_data"
    },
    {
     "data": {
      "text/markdown": [
       "* obscure (0.65)"
      ]
     },
     "metadata": {},
     "output_type": "display_data"
    },
    {
     "data": {
      "text/markdown": [
       "* discourage (0.64)"
      ]
     },
     "metadata": {},
     "output_type": "display_data"
    },
    {
     "data": {
      "text/markdown": [
       "* existence (0.62)"
      ]
     },
     "metadata": {},
     "output_type": "display_data"
    },
    {
     "data": {
      "text/markdown": [
       "* assimilate (0.61)"
      ]
     },
     "metadata": {},
     "output_type": "display_data"
    },
    {
     "data": {
      "text/markdown": [
       "* countless (0.61)"
      ]
     },
     "metadata": {},
     "output_type": "display_data"
    },
    {
     "data": {
      "text/markdown": [
       "* indifference (0.59)"
      ]
     },
     "metadata": {},
     "output_type": "display_data"
    },
    {
     "data": {
      "text/markdown": [
       "* crystalline (0.59)"
      ]
     },
     "metadata": {},
     "output_type": "display_data"
    },
    {
     "data": {
      "text/markdown": [
       "* eons (0.59)"
      ]
     },
     "metadata": {},
     "output_type": "display_data"
    },
    {
     "data": {
      "text/markdown": [
       "* nourish (0.59)"
      ]
     },
     "metadata": {},
     "output_type": "display_data"
    },
    {
     "data": {
      "text/markdown": [
       "most similar to **gold**"
      ]
     },
     "metadata": {},
     "output_type": "display_data"
    },
    {
     "data": {
      "text/markdown": [
       "* goldmine (0.63)"
      ]
     },
     "metadata": {},
     "output_type": "display_data"
    },
    {
     "data": {
      "text/markdown": [
       "* golden (0.63)"
      ]
     },
     "metadata": {},
     "output_type": "display_data"
    },
    {
     "data": {
      "text/markdown": [
       "* treasure (0.60)"
      ]
     },
     "metadata": {},
     "output_type": "display_data"
    },
    {
     "data": {
      "text/markdown": [
       "* chinchilla (0.60)"
      ]
     },
     "metadata": {},
     "output_type": "display_data"
    },
    {
     "data": {
      "text/markdown": [
       "* bland (0.59)"
      ]
     },
     "metadata": {},
     "output_type": "display_data"
    },
    {
     "data": {
      "text/markdown": [
       "* diamonds (0.58)"
      ]
     },
     "metadata": {},
     "output_type": "display_data"
    },
    {
     "data": {
      "text/markdown": [
       "* rhinestone (0.58)"
      ]
     },
     "metadata": {},
     "output_type": "display_data"
    },
    {
     "data": {
      "text/markdown": [
       "* land (0.58)"
      ]
     },
     "metadata": {},
     "output_type": "display_data"
    },
    {
     "data": {
      "text/markdown": [
       "* riches (0.57)"
      ]
     },
     "metadata": {},
     "output_type": "display_data"
    },
    {
     "data": {
      "text/markdown": [
       "* cadillacs (0.56)"
      ]
     },
     "metadata": {},
     "output_type": "display_data"
    },
    {
     "data": {
      "text/markdown": [
       "most similar to **rocket**"
      ]
     },
     "metadata": {},
     "output_type": "display_data"
    },
    {
     "data": {
      "text/markdown": [
       "* socket (0.69)"
      ]
     },
     "metadata": {},
     "output_type": "display_data"
    },
    {
     "data": {
      "text/markdown": [
       "* launcher (0.63)"
      ]
     },
     "metadata": {},
     "output_type": "display_data"
    },
    {
     "data": {
      "text/markdown": [
       "* crockett (0.59)"
      ]
     },
     "metadata": {},
     "output_type": "display_data"
    },
    {
     "data": {
      "text/markdown": [
       "* pocket (0.55)"
      ]
     },
     "metadata": {},
     "output_type": "display_data"
    },
    {
     "data": {
      "text/markdown": [
       "* cricket (0.54)"
      ]
     },
     "metadata": {},
     "output_type": "display_data"
    },
    {
     "data": {
      "text/markdown": [
       "* locket (0.54)"
      ]
     },
     "metadata": {},
     "output_type": "display_data"
    },
    {
     "data": {
      "text/markdown": [
       "* designate (0.53)"
      ]
     },
     "metadata": {},
     "output_type": "display_data"
    },
    {
     "data": {
      "text/markdown": [
       "* pointers (0.53)"
      ]
     },
     "metadata": {},
     "output_type": "display_data"
    },
    {
     "data": {
      "text/markdown": [
       "* pole (0.52)"
      ]
     },
     "metadata": {},
     "output_type": "display_data"
    },
    {
     "data": {
      "text/markdown": [
       "* rockrock (0.52)"
      ]
     },
     "metadata": {},
     "output_type": "display_data"
    },
    {
     "data": {
      "text/markdown": [
       "most similar to **palaving**"
      ]
     },
     "metadata": {},
     "output_type": "display_data"
    },
    {
     "data": {
      "text/markdown": [
       "* starve (0.67)"
      ]
     },
     "metadata": {},
     "output_type": "display_data"
    },
    {
     "data": {
      "text/markdown": [
       "* people (0.63)"
      ]
     },
     "metadata": {},
     "output_type": "display_data"
    },
    {
     "data": {
      "text/markdown": [
       "* matthews (0.61)"
      ]
     },
     "metadata": {},
     "output_type": "display_data"
    },
    {
     "data": {
      "text/markdown": [
       "* malevolent (0.60)"
      ]
     },
     "metadata": {},
     "output_type": "display_data"
    },
    {
     "data": {
      "text/markdown": [
       "* bowy (0.60)"
      ]
     },
     "metadata": {},
     "output_type": "display_data"
    },
    {
     "data": {
      "text/markdown": [
       "* idren (0.60)"
      ]
     },
     "metadata": {},
     "output_type": "display_data"
    },
    {
     "data": {
      "text/markdown": [
       "* plaaaace (0.59)"
      ]
     },
     "metadata": {},
     "output_type": "display_data"
    },
    {
     "data": {
      "text/markdown": [
       "* live (0.59)"
      ]
     },
     "metadata": {},
     "output_type": "display_data"
    },
    {
     "data": {
      "text/markdown": [
       "* brainwash (0.59)"
      ]
     },
     "metadata": {},
     "output_type": "display_data"
    },
    {
     "data": {
      "text/markdown": [
       "* prosperity (0.59)"
      ]
     },
     "metadata": {},
     "output_type": "display_data"
    },
    {
     "data": {
      "text/markdown": [
       "most similar to **anodyne**"
      ]
     },
     "metadata": {},
     "output_type": "display_data"
    },
    {
     "data": {
      "text/markdown": [
       "* past (0.55)"
      ]
     },
     "metadata": {},
     "output_type": "display_data"
    },
    {
     "data": {
      "text/markdown": [
       "* reconciliation (0.51)"
      ]
     },
     "metadata": {},
     "output_type": "display_data"
    },
    {
     "data": {
      "text/markdown": [
       "* heyeeyayi (0.51)"
      ]
     },
     "metadata": {},
     "output_type": "display_data"
    },
    {
     "data": {
      "text/markdown": [
       "* foolish (0.51)"
      ]
     },
     "metadata": {},
     "output_type": "display_data"
    },
    {
     "data": {
      "text/markdown": [
       "* foolishly (0.50)"
      ]
     },
     "metadata": {},
     "output_type": "display_data"
    },
    {
     "data": {
      "text/markdown": [
       "* leave (0.49)"
      ]
     },
     "metadata": {},
     "output_type": "display_data"
    },
    {
     "data": {
      "text/markdown": [
       "* toss (0.48)"
      ]
     },
     "metadata": {},
     "output_type": "display_data"
    },
    {
     "data": {
      "text/markdown": [
       "* anotha (0.47)"
      ]
     },
     "metadata": {},
     "output_type": "display_data"
    },
    {
     "data": {
      "text/markdown": [
       "* board (0.47)"
      ]
     },
     "metadata": {},
     "output_type": "display_data"
    },
    {
     "data": {
      "text/markdown": [
       "* trek (0.47)"
      ]
     },
     "metadata": {},
     "output_type": "display_data"
    }
   ],
   "source": [
    "from IPython.display import display_markdown\n",
    "from random import choice\n",
    "\n",
    "for i in range(10):\n",
    "  word = choice(model.words)\n",
    "  display_markdown(f'most similar to **{word}**', raw=True)\n",
    "  for sim, word2 in model.get_nearest_neighbors(word):\n",
    "    display_markdown(f'* {word2} ({sim:.02f})', raw=True)\n",
    "  display_markdown(f'___')"
   ]
  },
  {
   "cell_type": "markdown",
   "metadata": {},
   "source": [
    "Se ven muy sintácticas las similitudes, y tiene algo de sentido porque el dataset tiene palabras medio random contextualmente"
   ]
  },
  {
   "cell_type": "code",
   "execution_count": 17,
   "metadata": {},
   "outputs": [
    {
     "data": {
      "text/markdown": [
       "most similar to **nigga**"
      ]
     },
     "metadata": {},
     "output_type": "display_data"
    },
    {
     "data": {
      "text/markdown": [
       "* niggas (0.91)"
      ]
     },
     "metadata": {},
     "output_type": "display_data"
    },
    {
     "data": {
      "text/markdown": [
       "* bitch (0.85)"
      ]
     },
     "metadata": {},
     "output_type": "display_data"
    },
    {
     "data": {
      "text/markdown": [
       "* niggah (0.84)"
      ]
     },
     "metadata": {},
     "output_type": "display_data"
    },
    {
     "data": {
      "text/markdown": [
       "* shit (0.84)"
      ]
     },
     "metadata": {},
     "output_type": "display_data"
    },
    {
     "data": {
      "text/markdown": [
       "* fuck (0.80)"
      ]
     },
     "metadata": {},
     "output_type": "display_data"
    },
    {
     "data": {
      "text/markdown": [
       "* mutherfuckin (0.79)"
      ]
     },
     "metadata": {},
     "output_type": "display_data"
    },
    {
     "data": {
      "text/markdown": [
       "* shittin (0.78)"
      ]
     },
     "metadata": {},
     "output_type": "display_data"
    },
    {
     "data": {
      "text/markdown": [
       "* bussin (0.77)"
      ]
     },
     "metadata": {},
     "output_type": "display_data"
    },
    {
     "data": {
      "text/markdown": [
       "* motherfuckin (0.77)"
      ]
     },
     "metadata": {},
     "output_type": "display_data"
    },
    {
     "data": {
      "text/markdown": [
       "* choppas (0.77)"
      ]
     },
     "metadata": {},
     "output_type": "display_data"
    }
   ],
   "source": [
    "  word = 'nigga'\n",
    "  display_markdown(f'most similar to **{word}**', raw=True)\n",
    "  for sim, word2 in model.get_nearest_neighbors(word):\n",
    "    display_markdown(f'* {word2} ({sim:.02f})', raw=True)\n",
    "  display_markdown(f'___')"
   ]
  },
  {
   "cell_type": "code",
   "execution_count": 18,
   "metadata": {},
   "outputs": [],
   "source": [
    "model.save_model(\"lyrics_fasttext.bin\")"
   ]
  },
  {
   "cell_type": "code",
   "execution_count": 19,
   "metadata": {},
   "outputs": [],
   "source": [
    "from random import choices\n"
   ]
  },
  {
   "cell_type": "code",
   "execution_count": 20,
   "metadata": {},
   "outputs": [
    {
     "data": {
      "text/plain": [
       "['sixtyfive',\n",
       " 'profile',\n",
       " 'help',\n",
       " 'transplant',\n",
       " 'amass',\n",
       " 'seasick',\n",
       " 'morning',\n",
       " 'mocha',\n",
       " 'yoddleayee',\n",
       " 'liyah',\n",
       " 'macho',\n",
       " 'gain',\n",
       " 'contusions',\n",
       " 'nestle',\n",
       " 'shots']"
      ]
     },
     "execution_count": 20,
     "metadata": {},
     "output_type": "execute_result"
    }
   ],
   "source": [
    "choices(model.words,k=15)"
   ]
  },
  {
   "cell_type": "code",
   "execution_count": 22,
   "metadata": {},
   "outputs": [],
   "source": [
    "%matplotlib inline"
   ]
  },
  {
   "cell_type": "code",
   "execution_count": 35,
   "metadata": {},
   "outputs": [
    {
     "data": {
      "text/plain": [
       "['crazy',\n",
       " 'easy',\n",
       " 'soon',\n",
       " 'ride',\n",
       " 'nothin',\n",
       " 'round',\n",
       " 'comin',\n",
       " 'heaven',\n",
       " 'house',\n",
       " 'rest',\n",
       " 'thank',\n",
       " 'waste',\n",
       " 'moment',\n",
       " 'past',\n",
       " 'breathe',\n",
       " 'pray',\n",
       " 'dear',\n",
       " 'straight',\n",
       " 'voice',\n",
       " 'goin',\n",
       " 'kind',\n",
       " 'room',\n",
       " 'couldn',\n",
       " 'reach',\n",
       " 'star',\n",
       " 'lyric',\n",
       " 'blind',\n",
       " 'land',\n",
       " 'build',\n",
       " 'stick',\n",
       " 'feet',\n",
       " 'hang',\n",
       " 'tire',\n",
       " 'fine',\n",
       " 'kick',\n",
       " 'check',\n",
       " 'whoa',\n",
       " 'summer',\n",
       " 'drive',\n",
       " 'shake',\n",
       " 'scream',\n",
       " 'laugh',\n",
       " 'hearts',\n",
       " 'send',\n",
       " 'piece',\n",
       " 'lookin',\n",
       " 'share',\n",
       " 'tight',\n",
       " 'water',\n",
       " 'lead',\n",
       " 'steal',\n",
       " 'scar',\n",
       " 'talkin',\n",
       " 'commercial',\n",
       " 'street',\n",
       " 'afraid',\n",
       " 'belong',\n",
       " 'blame',\n",
       " 'plan',\n",
       " 'gettin',\n",
       " 'bone',\n",
       " 'cross',\n",
       " 'city',\n",
       " 'livin',\n",
       " 'bear',\n",
       " 'meet',\n",
       " 'control',\n",
       " 'lover',\n",
       " 'stone',\n",
       " 'feelin',\n",
       " 'moon',\n",
       " 'wear',\n",
       " 'lips',\n",
       " 'memory',\n",
       " 'nights',\n",
       " 'memories',\n",
       " 'sick',\n",
       " 'ways',\n",
       " 'rise',\n",
       " 'trust',\n",
       " 'happen',\n",
       " 'floor',\n",
       " 'count',\n",
       " 'mouth',\n",
       " 'slip',\n",
       " 'mama',\n",
       " 'fast',\n",
       " 'pick',\n",
       " 'yesterday',\n",
       " 'shame',\n",
       " 'near',\n",
       " 'girls',\n",
       " 'flow',\n",
       " 'breath',\n",
       " 'search',\n",
       " 'move',\n",
       " 'power',\n",
       " 'peace',\n",
       " 'songs',\n",
       " 'shine',\n",
       " 'pretty',\n",
       " 'doin',\n",
       " 'brain',\n",
       " 'tryin',\n",
       " 'teach',\n",
       " 'skin',\n",
       " 'clear',\n",
       " 'knees',\n",
       " 'evil',\n",
       " 'slow',\n",
       " 'outside',\n",
       " 'lock',\n",
       " 'radio',\n",
       " 'choose',\n",
       " 'gold',\n",
       " 'worry',\n",
       " 'bleed',\n",
       " 'earth',\n",
       " 'end',\n",
       " 'knock',\n",
       " 'push',\n",
       " 'picture',\n",
       " 'read',\n",
       " 'different',\n",
       " 'felt',\n",
       " 'trouble',\n",
       " 'everyday',\n",
       " 'future',\n",
       " 'ball',\n",
       " 'sell',\n",
       " 'rule',\n",
       " 'warm',\n",
       " 'wouldn',\n",
       " 'streets',\n",
       " 'million',\n",
       " 'tree',\n",
       " 'band',\n",
       " 'cool',\n",
       " 'sign',\n",
       " 'hole',\n",
       " 'great',\n",
       " 'swear',\n",
       " 'answer',\n",
       " 'second',\n",
       " 'mother',\n",
       " 'tryna',\n",
       " 'finger',\n",
       " 'pride',\n",
       " 'year',\n",
       " 'brother',\n",
       " 'story',\n",
       " 'child',\n",
       " 'river',\n",
       " 'anymore',\n",
       " 'point',\n",
       " 'fell',\n",
       " 'beautiful',\n",
       " 'dirty',\n",
       " 'someday',\n",
       " 'babe',\n",
       " 'hop',\n",
       " 'doubt',\n",
       " 'raise',\n",
       " 'train',\n",
       " 'chain',\n",
       " 'phone',\n",
       " 'cover',\n",
       " 'number',\n",
       " 'boys',\n",
       " 'window',\n",
       " 'sight',\n",
       " 'kid',\n",
       " 'rhyme',\n",
       " 'bless',\n",
       " 'jump',\n",
       " 'lady',\n",
       " 'children',\n",
       " 'nice',\n",
       " 'shout',\n",
       " 'wild',\n",
       " 'deal',\n",
       " 'hair',\n",
       " 'shin',\n",
       " 'sorry',\n",
       " 'thousand',\n",
       " 'half',\n",
       " 'minute',\n",
       " 'loud',\n",
       " 'daddy',\n",
       " 'ones',\n",
       " 'taste',\n",
       " 'school',\n",
       " 'somethin',\n",
       " 'woah',\n",
       " 'finally',\n",
       " 'lovin',\n",
       " 'mistake',\n",
       " 'show',\n",
       " 'ghost',\n",
       " 'wasn',\n",
       " 'swing',\n",
       " 'space',\n",
       " 'style',\n",
       " 'track',\n",
       " 'shut',\n",
       " 'race',\n",
       " 'fuckin',\n",
       " 'sense',\n",
       " 'realize',\n",
       " 'wide',\n",
       " 'pay',\n",
       " 'repeat',\n",
       " 'fill',\n",
       " 'club',\n",
       " 'longer',\n",
       " 'thoughts',\n",
       " 'shoe',\n",
       " 'flame',\n",
       " 'simple',\n",
       " 'ask',\n",
       " 'cloud',\n",
       " 'runnin',\n",
       " 'sorrow',\n",
       " 'darkness',\n",
       " 'perfect',\n",
       " 'slowly',\n",
       " 'okay',\n",
       " 'human',\n",
       " 'clean',\n",
       " 'treat',\n",
       " 'drown',\n",
       " 'fake',\n",
       " 'block',\n",
       " 'thinkin',\n",
       " 'state',\n",
       " 'closer',\n",
       " 'whisper',\n",
       " 'return',\n",
       " 'mess',\n",
       " 'forgive',\n",
       " 'thrill',\n",
       " 'fly',\n",
       " 'crowd',\n",
       " 'record',\n",
       " 'guitar',\n",
       " 'survive',\n",
       " 'poor',\n",
       " 'paper',\n",
       " 'father',\n",
       " 'safe',\n",
       " 'pretend',\n",
       " 'snow',\n",
       " 'bright',\n",
       " 'paint',\n",
       " 'bind',\n",
       " 'tongue',\n",
       " 'walkin',\n",
       " 'outta',\n",
       " 'crack',\n",
       " 'remain',\n",
       " 'luck',\n",
       " 'letter',\n",
       " 'bury',\n",
       " 'funny',\n",
       " 'grave',\n",
       " 'green',\n",
       " 'single',\n",
       " 'weak',\n",
       " 'brand',\n",
       " 'lovely',\n",
       " 'crawl',\n",
       " 'makin',\n",
       " 'desire',\n",
       " 'winter',\n",
       " 'color',\n",
       " 'question',\n",
       " 'book',\n",
       " 'wave',\n",
       " 'bust',\n",
       " 'mirror',\n",
       " 'corner',\n",
       " 'awake',\n",
       " 'sayin',\n",
       " 'dust',\n",
       " 'ahead',\n",
       " 'magic',\n",
       " 'small',\n",
       " 'country',\n",
       " 'sit',\n",
       " 'twist',\n",
       " 'hours',\n",
       " 'silence',\n",
       " 'clock',\n",
       " 'heal',\n",
       " 'heat',\n",
       " 'spring',\n",
       " 'glass',\n",
       " 'wing',\n",
       " 'wine',\n",
       " 'wake',\n",
       " 'strange',\n",
       " 'tune',\n",
       " 'bang',\n",
       " 'shall',\n",
       " 'pack',\n",
       " 'holy',\n",
       " 'christmas',\n",
       " 'happiness',\n",
       " 'lonesome',\n",
       " 'escape',\n",
       " 'lay',\n",
       " 'cash',\n",
       " 'pussy',\n",
       " 'queen',\n",
       " 'let',\n",
       " 'heavy',\n",
       " 'oooh',\n",
       " 'welcome',\n",
       " 'family',\n",
       " 'shoulder',\n",
       " 'lovers',\n",
       " 'sky',\n",
       " 'neck',\n",
       " 'regret',\n",
       " 'gimme',\n",
       " 'hour',\n",
       " 'grab',\n",
       " 'dress',\n",
       " 'bottle',\n",
       " 'shadow',\n",
       " 'waitin',\n",
       " 'suck',\n",
       " 'crash',\n",
       " 'travel',\n",
       " 'hoe',\n",
       " 'playin',\n",
       " 'fate',\n",
       " 'have',\n",
       " 'rock',\n",
       " 'babylon',\n",
       " 'spin',\n",
       " 'soldier',\n",
       " 'brothers',\n",
       " 'bend',\n",
       " 'bite',\n",
       " 'youth',\n",
       " 'draw',\n",
       " 'suffer',\n",
       " 'insane',\n",
       " 'news',\n",
       " 'spit',\n",
       " 'instead',\n",
       " 'drug',\n",
       " 'soft',\n",
       " 'ohoh',\n",
       " 'strike',\n",
       " 'spot',\n",
       " 'fever',\n",
       " 'warn',\n",
       " 'clothe',\n",
       " 'sand',\n",
       " 'remind',\n",
       " 'freedom',\n",
       " 'sittin',\n",
       " 'edge',\n",
       " 'figure',\n",
       " 'battle',\n",
       " 'misery',\n",
       " 'fee',\n",
       " 'quit',\n",
       " 'root',\n",
       " 'ocean',\n",
       " 'freeze',\n",
       " 'spirit',\n",
       " 'loose',\n",
       " 'quick',\n",
       " 'buy',\n",
       " 'trap',\n",
       " 'pocket',\n",
       " 'chill',\n",
       " 'fail',\n",
       " 'crime',\n",
       " 'darlin',\n",
       " 'dope',\n",
       " 'dont',\n",
       " 'wicked',\n",
       " 'business',\n",
       " 'hood',\n",
       " 'satisfy',\n",
       " 'romance',\n",
       " 'pour',\n",
       " 'middle',\n",
       " 'scene',\n",
       " 'master',\n",
       " 'string',\n",
       " 'women',\n",
       " 'climb',\n",
       " 'stranger',\n",
       " 'couple',\n",
       " 'surprise']"
      ]
     },
     "execution_count": 35,
     "metadata": {},
     "output_type": "execute_result"
    }
   ],
   "source": []
  },
  {
   "cell_type": "code",
   "execution_count": 37,
   "metadata": {},
   "outputs": [
    {
     "name": "stderr",
     "output_type": "stream",
     "text": [
      "C:\\Users\\Felip\\Anaconda3\\lib\\site-packages\\sklearn\\manifold\\_t_sne.py:783: FutureWarning: The default initialization in TSNE will change from 'random' to 'pca' in 1.2.\n",
      "  FutureWarning,\n",
      "C:\\Users\\Felip\\Anaconda3\\lib\\site-packages\\sklearn\\manifold\\_t_sne.py:793: FutureWarning: The default learning rate in TSNE will change from 200.0 to 'auto' in 1.2.\n",
      "  FutureWarning,\n"
     ]
    },
    {
     "data": {
      "image/png": "[encoded data removed]",
      "text/plain": [
       "<Figure size 1440x1440 with 1 Axes>"
      ]
     },
     "metadata": {
      "needs_background": "light"
     },
     "output_type": "display_data"
    }
   ],
   "source": [
    "from sklearn.manifold import TSNE\n",
    "from matplotlib import pylab as plt\n",
    "\n",
    "# obtener las palabras más comunes en el corpus, entre la 200 y la 600\n",
    "words = word_counts.head(1000).index.to_list()[100:500]\n",
    "# convertirlas a vector\n",
    "embeddings = [model[word] for word in words]\n",
    "\n",
    "#  T-SNE\n",
    "words_embedded = TSNE(n_components=2, random_state=1).fit_transform(embeddings)\n",
    "\n",
    "# ... and visualize!\n",
    "plt.figure(figsize=(20, 20))\n",
    "for i, label in enumerate(words):\n",
    "    x, y = words_embedded[i, :]\n",
    "    plt.scatter(x, y)\n",
    "    plt.annotate(label, xy=(x, y), xytext=(5, 2), textcoords='offset points',\n",
    "                 ha='right', va='bottom', size=11)\n",
    "plt.show()"
   ]
  },
  {
   "cell_type": "code",
   "execution_count": null,
   "metadata": {},
   "outputs": [],
   "source": []
  },
  {
   "cell_type": "code",
   "execution_count": null,
   "metadata": {},
   "outputs": [],
   "source": []
  }
 ],
 "metadata": {
  "kernelspec": {
   "display_name": "Python 3",
   "language": "python",
   "name": "python3"
  },
  "language_info": {
   "codemirror_mode": {
    "name": "ipython",
    "version": 3
   },
   "file_extension": ".py",
   "mimetype": "text/x-python",
   "name": "python",
   "nbconvert_exporter": "python",
   "pygments_lexer": "ipython3",
   "version": "3.7.4"
  }
 },
 "nbformat": 4,
 "nbformat_minor": 2
}
