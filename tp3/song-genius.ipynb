{
 "cells": [
  {
   "cell_type": "code",
   "execution_count": 3,
   "id": "7da6690e",
   "metadata": {},
   "outputs": [],
   "source": [
    "import pandas as pd\n",
    "from bs4 import BeautifulSoup\n",
    "import requests"
   ]
  },
  {
   "cell_type": "code",
   "execution_count": 28,
   "id": "232dcd65",
   "metadata": {},
   "outputs": [],
   "source": [
    "#function to scrape lyrics from genius\n",
    "def scrape_lyrics(artistname, songname):\n",
    "    artistname2 = str(artistname.replace(' ','-')) if ' ' in artistname else str(artistname)\n",
    "    songname2 = str(songname.replace(' ','-')) if ' ' in songname else str(songname)\n",
    "    search = requests.get('https://genius.com/search?q='+ songname2 + '-' + artistname2)\n",
    "    html1 = BeautifulSoup(search.text, 'html.parser')\n",
    "    sd = html1.find_all(string = 'lyrics')\n",
    "    print(sd)\n",
    "    html1 = BeautifulSoup(search.text, 'html.parser')\n",
    "    page = requests.get('https://genius.com/'+ artistname2 + '-' + songname2 + '-' + 'lyrics')\n",
    "    #print(page.text)\n",
    "    html = BeautifulSoup(page.text, 'html.parser')\n",
    "    lyrics1 = html.find(\"meta name\", class_=\"description\")\n",
    "    lyrics2 = html.find_all(\"div\", class_=\"Lyrics__Container-sc-1ynbvzw-6 YYrds\")\n",
    "    lyrics = \"\"\n",
    "    if lyrics1:\n",
    "        lyrics = lyrics1.get_text()\n",
    "    elif lyrics2:\n",
    "        for _ in lyrics2:\n",
    "            lyrics = lyrics + (_.get_text('. '))\n",
    "        #lyrics = lyrics2.get_text(' ')\n",
    "    elif lyrics1 == lyrics2 == None:\n",
    "        lyrics = None\n",
    "    return lyrics\n",
    "\n",
    "#function to attach lyrics onto data frame\n",
    "#artist_name should be inserted as a string\n",
    "def lyrics_onto_frame(df1, artist_name):\n",
    "    for i,x in enumerate(df1['track']):\n",
    "        test = scrape_lyrics(artist_name, x)\n",
    "        df1.loc[i, 'lyrics'] = test\n",
    "    return df1"
   ]
  },
  {
   "cell_type": "code",
   "execution_count": 29,
   "id": "bc5acd54",
   "metadata": {},
   "outputs": [
    {
     "name": "stdout",
     "output_type": "stream",
     "text": [
      "[]\n",
      "[Intro: Post Malone]. Yeah, yeah. Yeah (. Hey. ). [Chorus: Post Malone]. My mama called, seen you on TV, son. Said shit done changed ever since we was on. I dreamed it all ever since I was young. They said I wouldn't be nothing. Now they always say, \"Congratulations\" (Uh, uh, uh). Worked so hard, forgot how to vacation (Uh-huh). They ain't never had the dedication (Uh, uh). People hatin', say we changed and look, we made it (Uh, uh). Yeah, we made it (Uh, uh, uh). [Verse 1: Post Malone]. They was never friendly, yeah. Now I'm jumping out the Bentley, yeah. And I know I sound dramatic, yeah. But I know I had to have it, yeah. For the money, I'm a savage, yeah. I be itching like an addict, yeah. I'm surround by twenty bad bitch, yeah. But they didn't know me last year, yeah. Everyone wanna act like they important (Yeah-yeah-yeah, yeah-yeah-yeah). But all that mean nothing when I saw my dough, yeah (Yeah-yeah-yeah, yeah-yeah-yeah). Everyone countin' on me drop the ball, yeah (Yeah-yeah-yeah, yeah-yeah-yeah). Everything custom like I'm at the border, yeah, yeah. If you fuck with winning, put your lighters to the sky. How could I make cents when I got millions on my mind?. Coming with that bullshit, I just put it to the side. Balling since a baby, they could see it in my eyes. [Chorus: Post Malone & . Quavo. ]. My mama called, seen you on TV, son. Said shit done changed ever since we was on. I dreamed it all ever since I was young. They said I wouldn't be nothing. Now they always say, \"Congratulations\" (. Congratulations. ). Worked so hard, forgot how to vacation (. Ooh. ). They ain't never had the dedication (Uh, uh, . ayy. ). People hatin', say we changed and look we made it (Uh, uh). Yeah, we made it (Uh, uh, uh, . yeah. )[Verse 2: Quavo]. I was patient (Yeah, oh). I was patient (Ayy, uh). Now I can scream that we made it (We made it). Now everywhere, everywhere I go, they say 'gratulation (Uh). Young nigga, young nigga graduation (Yeah). I pick up the rock and I ball, baby (Ball). I'm looking for someone to call, baby (Brr). But right now, I got a situation (Ayy). Nothin' but old Ben, Ben Franklins (Cash). Big rings (Woo), champagne (Champagne). My life is like a ball game (Ball game). But instead, I'm in the trap, though (Trap, though). Pot so big, call it Super Bowl (Super Bowl). Super Bowl, call the hoes (Brr), get in the Rolls (Skrrt). Top-floor lifestyle (Top), Huncho and Post (Yeah, ayy). Malone (Ayy), I got a play on my phone (Ayy). You know what I'm on (Ayy), Huncho Houdini, it's gone (Ayy). [Chorus: Post Malone & . Quavo. ]. My mama called, seen you on TV, son. Said shit done changed ever since we was on. I dreamed it all ever since I was young. They said I wouldn't be nothing. Now they always say, \"Congratulations\" (. Ayy,.  uh, uh, uh). Worked so hard, forgot how to vacation (Uh-huh, . ooh. ). They ain't never had the dedication (. Ayy,.  uh, uh). People hatin', say we changed and look we made it (. Yeah, .  uh, uh). Yeah, we made it (. Ayy. )[Outro]. Hey, hey, hey, hey. Hey, hey, hey, hey\n"
     ]
    }
   ],
   "source": [
    "print(scrape_lyrics('Post Malone', 'Congratulations'))"
   ]
  },
  {
   "cell_type": "code",
   "execution_count": null,
   "id": "b5b4a3d2",
   "metadata": {},
   "outputs": [],
   "source": []
  }
 ],
 "metadata": {
  "kernelspec": {
   "display_name": "Python 3 (ipykernel)",
   "language": "python",
   "name": "python3"
  },
  "language_info": {
   "codemirror_mode": {
    "name": "ipython",
    "version": 3
   },
   "file_extension": ".py",
   "mimetype": "text/x-python",
   "name": "python",
   "nbconvert_exporter": "python",
   "pygments_lexer": "ipython3",
   "version": "3.10.6"
  }
 },
 "nbformat": 4,
 "nbformat_minor": 5
}
